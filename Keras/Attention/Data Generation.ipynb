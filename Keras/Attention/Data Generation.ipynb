{
 "cells": [
  {
   "cell_type": "code",
   "execution_count": null,
   "metadata": {},
   "outputs": [],
   "source": []
  },
  {
   "cell_type": "markdown",
   "metadata": {},
   "source": [
    "BITS n PIECES\n",
    "\n",
    "    * below we understand key pieces in data gerations"
   ]
  },
  {
   "cell_type": "code",
   "execution_count": null,
   "metadata": {},
   "outputs": [],
   "source": []
  },
  {
   "cell_type": "code",
   "execution_count": 40,
   "metadata": {},
   "outputs": [],
   "source": [
    "# We humans write dates in various formats  \n",
    "\n",
    "DATE_FORMATS = ['short',\n",
    "           'medium',\n",
    "           'long',\n",
    "           'full',\n",
    "           'd MMM YYY',\n",
    "           'd MMMM YYY',\n",
    "           'dd MMM YYY',\n",
    "           'd MMM, YYY',\n",
    "           'd MMMM, YYY',\n",
    "           'dd, MMM YYY',\n",
    "           'd MM YY',\n",
    "           'd MMMM YYY',\n",
    "           'MMMM d YYY',\n",
    "           'MMMM d, YYY',\n",
    "           'dd.MM.YY',\n",
    "           ]\n"
   ]
  },
  {
   "cell_type": "code",
   "execution_count": 41,
   "metadata": {},
   "outputs": [
    {
     "name": "stdout",
     "output_type": "stream",
     "text": [
      "['en_US']\n"
     ]
    }
   ],
   "source": [
    "# change this if you want it to work with only a single language\n",
    "LOCALES = ['en_US']\n",
    "#LOCALES = babel.localedata.locale_identifiers()\n",
    "\n",
    "print LOCALES"
   ]
  },
  {
   "cell_type": "code",
   "execution_count": 53,
   "metadata": {},
   "outputs": [
    {
     "name": "stdout",
     "output_type": "stream",
     "text": [
      "1970-12-24\n",
      "24 Dec 1970\n"
     ]
    }
   ],
   "source": [
    "dt = fake.date_object()\n",
    "print dt\n",
    "human = format_date(dt,format=random.choice(DATE_FORMATS), locale=random.choice(LOCALES))\n",
    "print human\n"
   ]
  },
  {
   "cell_type": "code",
   "execution_count": null,
   "metadata": {},
   "outputs": [],
   "source": [
    "# key function to generate dates\n",
    "\n",
    "def create_date():\n",
    "    \"\"\"\n",
    "        Creates some fake dates \n",
    "        :returns: tuple containing \n",
    "                  1. human formatted string\n",
    "                  2. machine formatted string\n",
    "                  3. date object.\n",
    "    \"\"\"\n",
    "    # create a fake date - this is a date object\n",
    "    dt = fake.date_object()\n",
    "\n",
    "    # wrapping this in a try catch because\n",
    "    # the locale 'vo' and format 'full' will fail\n",
    "    try:\n",
    "        # chose a DATE_FORMATS and chose a LOCALE\n",
    "        # converts date object to human readable date using the DATE_FORMATS and LOCALE chosen\n",
    "        human = format_date(dt,format=random.choice(DATE_FORMATS), locale=random.choice(LOCALES))\n",
    "        \n",
    "        # we add more flare by changing the casing - to either lower or upper\n",
    "        case_change = random.randint(0,3) # 1/2 chance of case change\n",
    "        \n",
    "        if case_change == 1:\n",
    "            human = human.upper()\n",
    "        elif case_change == 2:\n",
    "            human = human.lower()\n",
    "\n",
    "        # convert date object into ISO machine format\n",
    "        machine = dt.isoformat()\n",
    "        \n",
    "    except AttributeError as e:\n",
    "        # print(e)\n",
    "        return None, None, None\n",
    "\n",
    "    return human, machine, dt"
   ]
  },
  {
   "cell_type": "code",
   "execution_count": 34,
   "metadata": {},
   "outputs": [
    {
     "name": "stdout",
     "output_type": "stream",
     "text": [
      "0 02, oct 2013 2013-10-02 2013-10-02\n",
      "1 11 JANUARY, 2003 2003-01-11 2003-01-11\n",
      "2 03.05.92 1992-05-03 1992-05-03\n",
      "3 04, nov 1979 1979-11-04 1979-11-04\n",
      "4 9/24/06 2006-09-24 2006-09-24\n",
      "5 December 21 1984 1984-12-21 1984-12-21\n",
      "6 AUG 5, 1988 1988-08-05 1988-08-05\n",
      "7 22, Jul 2005 2005-07-22 2005-07-22\n",
      "8 26, NOV 2002 2002-11-26 2002-11-26\n",
      "9 30 Apr 1986 1986-04-30 1986-04-30\n"
     ]
    }
   ],
   "source": [
    "human_vocab = set()\n",
    "machine_vocab = set()\n",
    "\n",
    "for i in range(10):\n",
    "    human, machine, _ = create_date()\n",
    "    print i, human, machine, _\n",
    "    \n",
    "    if h is not None:\n",
    "        #f.write('\"'+h + '\",\"' + m + '\"\\n')\n",
    "        human_vocab.update(tuple(h))\n",
    "        machine_vocab.update(tuple(m))"
   ]
  },
  {
   "cell_type": "code",
   "execution_count": 35,
   "metadata": {
    "collapsed": true
   },
   "outputs": [
    {
     "data": {
      "text/plain": [
       "{u' ',\n",
       " u',',\n",
       " u'.',\n",
       " u'/',\n",
       " u'0',\n",
       " u'1',\n",
       " u'2',\n",
       " u'3',\n",
       " u'4',\n",
       " u'5',\n",
       " u'6',\n",
       " u'7',\n",
       " u'8',\n",
       " u'9',\n",
       " u'A',\n",
       " u'D',\n",
       " u'G',\n",
       " u'J',\n",
       " u'N',\n",
       " u'O',\n",
       " u'R',\n",
       " u'U',\n",
       " u'V',\n",
       " u'Y',\n",
       " u'b',\n",
       " u'c',\n",
       " u'e',\n",
       " u'l',\n",
       " u'm',\n",
       " u'n',\n",
       " u'o',\n",
       " u'p',\n",
       " u'r',\n",
       " u't',\n",
       " u'u',\n",
       " u'v'}"
      ]
     },
     "execution_count": 35,
     "metadata": {},
     "output_type": "execute_result"
    }
   ],
   "source": [
    "human_vocab"
   ]
  },
  {
   "cell_type": "code",
   "execution_count": null,
   "metadata": {},
   "outputs": [],
   "source": []
  },
  {
   "cell_type": "code",
   "execution_count": null,
   "metadata": {},
   "outputs": [],
   "source": []
  },
  {
   "cell_type": "code",
   "execution_count": 1,
   "metadata": {},
   "outputs": [],
   "source": [
    "import random\n",
    "import json\n",
    "import os"
   ]
  },
  {
   "cell_type": "code",
   "execution_count": 18,
   "metadata": {},
   "outputs": [
    {
     "name": "stdout",
     "output_type": "stream",
     "text": [
      "/home/root1/anuj_work/Github_repos/DeepNets/Keras/Attention\n"
     ]
    }
   ],
   "source": [
    "#datadir = os.path.dirname(__file__)\n",
    "cwd = os.getcwd()\n",
    "print cwd"
   ]
  },
  {
   "cell_type": "code",
   "execution_count": 22,
   "metadata": {},
   "outputs": [
    {
     "name": "stdout",
     "output_type": "stream",
     "text": [
      "/home/root1/anuj_work/Github_repos/DeepNets/Keras/Attention/data\n"
     ]
    }
   ],
   "source": [
    "DATA_FOLDER = os.path.join(cwd, 'data')\n",
    "print DATA_FOLDER"
   ]
  },
  {
   "cell_type": "code",
   "execution_count": 23,
   "metadata": {},
   "outputs": [],
   "source": [
    "from faker import Faker\n",
    "import babel\n",
    "from babel.dates import format_date"
   ]
  },
  {
   "cell_type": "code",
   "execution_count": 24,
   "metadata": {},
   "outputs": [],
   "source": [
    "fake = Faker()\n",
    "fake.seed(230517)\n",
    "random.seed(230517)"
   ]
  },
  {
   "cell_type": "code",
   "execution_count": 25,
   "metadata": {},
   "outputs": [],
   "source": []
  },
  {
   "cell_type": "code",
   "execution_count": 26,
   "metadata": {},
   "outputs": [],
   "source": [
    "# change this if you want it to work with only a single language\n",
    "LOCALES = ['en_US']\n",
    "# LOCALES = babel.localedata.locale_identifiers()"
   ]
  },
  {
   "cell_type": "code",
   "execution_count": 27,
   "metadata": {},
   "outputs": [],
   "source": [
    "def create_date():\n",
    "    \"\"\"\n",
    "        Creates some fake dates \n",
    "        :returns: tuple containing \n",
    "                  1. human formatted string\n",
    "                  2. machine formatted string\n",
    "                  3. date object.\n",
    "    \"\"\"\n",
    "    dt = fake.date_object()\n",
    "\n",
    "    # wrapping this in a try catch because\n",
    "    # the locale 'vo' and format 'full' will fail\n",
    "    try:\n",
    "        human = format_date(dt,format=random.choice(FORMATS), locale=random.choice(LOCALES))\n",
    "\n",
    "        case_change = random.randint(0,3) # 1/2 chance of case change\n",
    "        if case_change == 1:\n",
    "            human = human.upper()\n",
    "        elif case_change == 2:\n",
    "            human = human.lower()\n",
    "\n",
    "        machine = dt.isoformat()\n",
    "    except AttributeError as e:\n",
    "        # print(e)\n",
    "        return None, None, None\n",
    "\n",
    "    return human, machine, dt"
   ]
  },
  {
   "cell_type": "code",
   "execution_count": 78,
   "metadata": {},
   "outputs": [],
   "source": [
    "def create_dataset(dataset_name, n_examples, vocabulary=False):\n",
    "    \"\"\"\n",
    "        Creates a csv dataset with n_examples and optional vocabulary\n",
    "        :param dataset_name: name of the file to save as\n",
    "        :n_examples: the number of examples to generate\n",
    "        :vocabulary: if true, will also save the vocabulary\n",
    "    \"\"\"\n",
    "    \n",
    "    # Vocabulary of data - vocab for human dates format and for machine dates format\n",
    "    human_vocab = set()\n",
    "    machine_vocab = set() \n",
    "\n",
    "    with open(dataset_name, 'w+') as f:\n",
    "        for i in range(n_examples):\n",
    "            h, m, _ = create_date()\n",
    "            if h is not None:\n",
    "                f.write('\"'+h + '\",\"' + m + '\"\\n')\n",
    "                \n",
    "                # add cracters sets of h, m to respective vocabs\n",
    "                human_vocab.update(tuple(h))\n",
    "                machine_vocab.update(tuple(m))\n",
    "#\"\"\"\n",
    "                \n",
    "    if vocabulary:\n",
    "        \n",
    "        #create mapping of integer to vocabs\n",
    "        int2human = dict(enumerate(human_vocab))\n",
    "        int2human.update({len(int2human): '<unk>',\n",
    "                          len(int2human)+1: '<eot>'})\n",
    "        \n",
    "        int2machine = dict(enumerate(machine_vocab))\n",
    "        int2machine.update({len(int2machine):'<unk>',\n",
    "                            len(int2machine)+1:'<eot>'})\n",
    "        \n",
    "        # create mapping from vocab to integer\n",
    "        human2int = {v: k for k, v in int2human.items()}\n",
    "        machine2int = {v: k for k, v in int2machine.items()}\n",
    "\n",
    "        #dump the dictionaries in the data folder\n",
    "        with open(os.path.join(DATA_FOLDER, 'human_vocab.json'), 'w') as f:\n",
    "            json.dump(human2int, f)\n",
    "        with open(os.path.join(DATA_FOLDER, 'machine_vocab.json'), 'w') as f:\n",
    "            json.dump(machine2int, f)\n",
    "        \n",
    "#\"\"\"       "
   ]
  },
  {
   "cell_type": "code",
   "execution_count": 79,
   "metadata": {},
   "outputs": [
    {
     "data": {
      "text/plain": [
       "'/home/root1/anuj_work/Github_repos/DeepNets/Keras/Attention/data'"
      ]
     },
     "execution_count": 79,
     "metadata": {},
     "output_type": "execute_result"
    }
   ],
   "source": [
    "DATA_FOLDER"
   ]
  },
  {
   "cell_type": "code",
   "execution_count": 80,
   "metadata": {},
   "outputs": [
    {
     "data": {
      "text/plain": [
       "'/home/root1/anuj_work/Github_repos/DeepNets/Keras/Attention/data/training.csv'"
      ]
     },
     "execution_count": 80,
     "metadata": {},
     "output_type": "execute_result"
    }
   ],
   "source": [
    "os.path.join(DATA_FOLDER, 'training.csv')"
   ]
  },
  {
   "cell_type": "code",
   "execution_count": 81,
   "metadata": {},
   "outputs": [],
   "source": [
    "create_dataset(os.path.join(DATA_FOLDER, 'training.csv'), 500000, vocabulary=True)"
   ]
  },
  {
   "cell_type": "code",
   "execution_count": 82,
   "metadata": {},
   "outputs": [],
   "source": [
    "create_dataset(os.path.join(DATA_FOLDER, 'validation.csv'), 1000)"
   ]
  },
  {
   "cell_type": "code",
   "execution_count": null,
   "metadata": {},
   "outputs": [],
   "source": []
  }
 ],
 "metadata": {
  "kernelspec": {
   "display_name": "Python 2",
   "language": "python",
   "name": "python2"
  },
  "language_info": {
   "codemirror_mode": {
    "name": "ipython",
    "version": 2
   },
   "file_extension": ".py",
   "mimetype": "text/x-python",
   "name": "python",
   "nbconvert_exporter": "python",
   "pygments_lexer": "ipython2",
   "version": "2.7.12"
  }
 },
 "nbformat": 4,
 "nbformat_minor": 2
}
