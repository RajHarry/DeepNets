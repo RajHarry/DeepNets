{
 "cells": [
  {
   "cell_type": "markdown",
   "metadata": {},
   "source": [
    "https://github.com/richliao/textClassifier/blob/master/textClassifierRNN.py"
   ]
  },
  {
   "cell_type": "code",
   "execution_count": null,
   "metadata": {},
   "outputs": [],
   "source": []
  },
  {
   "cell_type": "code",
   "execution_count": 1,
   "metadata": {},
   "outputs": [],
   "source": [
    "import numpy as np\n",
    "import pandas as pd\n",
    "import cPickle\n",
    "from collections import defaultdict\n",
    "import re"
   ]
  },
  {
   "cell_type": "code",
   "execution_count": 2,
   "metadata": {},
   "outputs": [],
   "source": [
    "from bs4 import BeautifulSoup\n",
    "\n",
    "import sys\n",
    "import os\n",
    "\n",
    "os.environ['KERAS_BACKEND']='theano'"
   ]
  },
  {
   "cell_type": "code",
   "execution_count": 3,
   "metadata": {},
   "outputs": [
    {
     "name": "stderr",
     "output_type": "stream",
     "text": [
      "Using Theano backend.\n",
      "/home/root1/.virtualenv/demos/local/lib/python2.7/site-packages/h5py/__init__.py:36: FutureWarning: Conversion of the second argument of issubdtype from `float` to `np.floating` is deprecated. In future, it will be treated as `np.float64 == np.dtype(float).type`.\n",
      "  from ._conv import register_converters as _register_converters\n"
     ]
    }
   ],
   "source": [
    "from keras.preprocessing.text import Tokenizer\n",
    "from keras.preprocessing.sequence import pad_sequences\n",
    "from keras.utils.np_utils import to_categorical\n",
    "\n",
    "from keras.layers import Embedding\n",
    "from keras.layers import Dense, Input, Flatten\n",
    "from keras.layers import Conv1D, MaxPooling1D, Embedding, Merge, Dropout, LSTM, GRU, Bidirectional\n",
    "from keras.models import Model\n",
    "\n",
    "from keras import backend as K\n",
    "from keras.engine.topology import Layer, InputSpec\n",
    "from keras import initializers"
   ]
  },
  {
   "cell_type": "code",
   "execution_count": 4,
   "metadata": {},
   "outputs": [],
   "source": [
    "MAX_SEQUENCE_LENGTH = 1000\n",
    "MAX_NB_WORDS = 20000\n",
    "EMBEDDING_DIM = 100\n",
    "VALIDATION_SPLIT = 0.2"
   ]
  },
  {
   "cell_type": "code",
   "execution_count": 5,
   "metadata": {},
   "outputs": [],
   "source": [
    "def clean_str(string):\n",
    "    \"\"\"\n",
    "    Tokenization/string cleaning for dataset\n",
    "    Every dataset is lower cased except\n",
    "    \"\"\"\n",
    "    string = re.sub(r\"\\\\\", \"\", string)    \n",
    "    string = re.sub(r\"\\'\", \"\", string)    \n",
    "    string = re.sub(r\"\\\"\", \"\", string)    \n",
    "    return string.strip().lower()"
   ]
  },
  {
   "cell_type": "code",
   "execution_count": 6,
   "metadata": {},
   "outputs": [
    {
     "name": "stdout",
     "output_type": "stream",
     "text": [
      "/home/root1/anuj_work/Github_repos/DeepNets\n",
      "/home/root1/anuj_work/Github_repos/DeepNets/Data\n"
     ]
    }
   ],
   "source": [
    "os.chdir(\"../../\")\n",
    "cwd = os.getcwd()\n",
    "print cwd\n",
    "\n",
    "\n",
    "\n",
    "DATA_FOLDER = os.path.join(cwd, 'Data')\n",
    "print DATA_FOLDER"
   ]
  },
  {
   "cell_type": "code",
   "execution_count": 7,
   "metadata": {},
   "outputs": [],
   "source": [
    "file_path = os.path.join(DATA_FOLDER, 'imdb_labeledTrainData.tsv')"
   ]
  },
  {
   "cell_type": "code",
   "execution_count": 8,
   "metadata": {},
   "outputs": [],
   "source": [
    "data_train = pd.read_csv(file_path, sep='\\t')"
   ]
  },
  {
   "cell_type": "code",
   "execution_count": 9,
   "metadata": {},
   "outputs": [
    {
     "name": "stdout",
     "output_type": "stream",
     "text": [
      "(25000, 3)\n"
     ]
    }
   ],
   "source": [
    "print data_train.shape"
   ]
  },
  {
   "cell_type": "code",
   "execution_count": 11,
   "metadata": {},
   "outputs": [
    {
     "data": {
      "text/html": [
       "<div>\n",
       "<style scoped>\n",
       "    .dataframe tbody tr th:only-of-type {\n",
       "        vertical-align: middle;\n",
       "    }\n",
       "\n",
       "    .dataframe tbody tr th {\n",
       "        vertical-align: top;\n",
       "    }\n",
       "\n",
       "    .dataframe thead th {\n",
       "        text-align: right;\n",
       "    }\n",
       "</style>\n",
       "<table border=\"1\" class=\"dataframe\">\n",
       "  <thead>\n",
       "    <tr style=\"text-align: right;\">\n",
       "      <th></th>\n",
       "      <th>id</th>\n",
       "      <th>sentiment</th>\n",
       "      <th>review</th>\n",
       "    </tr>\n",
       "  </thead>\n",
       "  <tbody>\n",
       "    <tr>\n",
       "      <th>0</th>\n",
       "      <td>5814_8</td>\n",
       "      <td>1</td>\n",
       "      <td>With all this stuff going down at the moment w...</td>\n",
       "    </tr>\n",
       "    <tr>\n",
       "      <th>1</th>\n",
       "      <td>2381_9</td>\n",
       "      <td>1</td>\n",
       "      <td>\\The Classic War of the Worlds\\\" by Timothy Hi...</td>\n",
       "    </tr>\n",
       "    <tr>\n",
       "      <th>2</th>\n",
       "      <td>7759_3</td>\n",
       "      <td>0</td>\n",
       "      <td>The film starts with a manager (Nicholas Bell)...</td>\n",
       "    </tr>\n",
       "    <tr>\n",
       "      <th>3</th>\n",
       "      <td>3630_4</td>\n",
       "      <td>0</td>\n",
       "      <td>It must be assumed that those who praised this...</td>\n",
       "    </tr>\n",
       "    <tr>\n",
       "      <th>4</th>\n",
       "      <td>9495_8</td>\n",
       "      <td>1</td>\n",
       "      <td>Superbly trashy and wondrously unpretentious 8...</td>\n",
       "    </tr>\n",
       "  </tbody>\n",
       "</table>\n",
       "</div>"
      ],
      "text/plain": [
       "       id  sentiment                                             review\n",
       "0  5814_8          1  With all this stuff going down at the moment w...\n",
       "1  2381_9          1  \\The Classic War of the Worlds\\\" by Timothy Hi...\n",
       "2  7759_3          0  The film starts with a manager (Nicholas Bell)...\n",
       "3  3630_4          0  It must be assumed that those who praised this...\n",
       "4  9495_8          1  Superbly trashy and wondrously unpretentious 8..."
      ]
     },
     "execution_count": 11,
     "metadata": {},
     "output_type": "execute_result"
    }
   ],
   "source": [
    "data_train.head(5)"
   ]
  },
  {
   "cell_type": "code",
   "execution_count": 12,
   "metadata": {},
   "outputs": [
    {
     "name": "stderr",
     "output_type": "stream",
     "text": [
      "/home/root1/.virtualenv/demos/local/lib/python2.7/site-packages/bs4/__init__.py:181: UserWarning: No parser was explicitly specified, so I'm using the best available HTML parser for this system (\"html5lib\"). This usually isn't a problem, but if you run this code on another system, or in a different virtual environment, it may use a different parser and behave differently.\n",
      "\n",
      "The code that caused this warning is on line 174 of the file /usr/lib/python2.7/runpy.py. To get rid of this warning, change code that looks like this:\n",
      "\n",
      " BeautifulSoup(YOUR_MARKUP})\n",
      "\n",
      "to this:\n",
      "\n",
      " BeautifulSoup(YOUR_MARKUP, \"html5lib\")\n",
      "\n",
      "  markup_type=markup_type))\n"
     ]
    }
   ],
   "source": [
    "texts = []\n",
    "labels = []\n",
    "\n",
    "for idx in range(data_train.review.shape[0]):\n",
    "    text = BeautifulSoup(data_train.review[idx])\n",
    "    texts.append(clean_str(text.get_text().encode('ascii','ignore')))\n",
    "    labels.append(data_train.sentiment[idx])"
   ]
  },
  {
   "cell_type": "code",
   "execution_count": 19,
   "metadata": {},
   "outputs": [
    {
     "data": {
      "text/plain": [
       "['with all this stuff going down at the moment with mj ive started listening to his music, watching the odd documentary here and there, watched the wiz and watched moonwalker again. maybe i just want to get a certain insight into this guy who i thought was really cool in the eighties just to maybe make up my mind whether he is guilty or innocent. moonwalker is part biography, part feature film which i remember going to see at the cinema when it was originally released. some of it has subtle messages about mjs feeling towards the press and also the obvious message of drugs are bad mkay.visually impressive but of course this is all about michael jackson so unless you remotely like mj in anyway then you are going to hate this and find it boring. some may call mj an egotist for consenting to the making of this movie but mj and most of his fans would say that he made it for the fans which if true is really nice of him.the actual feature film bit when it finally starts is only on for 20 minutes or so excluding the smooth criminal sequence and joe pesci is convincing as a psychopathic all powerful drug lord. why he wants mj dead so bad is beyond me. because mj overheard his plans? nah, joe pescis character ranted that he wanted people to know it is he who is supplying drugs etc so i dunno, maybe he just hates mjs music.lots of cool things in this like mj turning into a car and a robot and the whole speed demon sequence. also, the director must have had the patience of a saint when it came to filming the kiddy bad sequence as usually directors hate working with one kid let alone a whole bunch of them performing a complex dance scene.bottom line, this movie is for people who like mj on one level or another (which i think is most people). if not, then stay away. it does try and give off a wholesome message and ironically mjs bestest buddy in this movie is a girl! michael jackson is truly one of the most talented people ever to grace this planet but is he guilty? well, with all the attention ive gave this subject....hmmm well i dont know because people can be different behind closed doors, i know this for a fact. he is either an extremely nice but stupid guy or one of the most sickest liars. i hope he is not the latter.']"
      ]
     },
     "execution_count": 19,
     "metadata": {},
     "output_type": "execute_result"
    }
   ],
   "source": [
    "texts[:1]"
   ]
  },
  {
   "cell_type": "code",
   "execution_count": 20,
   "metadata": {},
   "outputs": [
    {
     "data": {
      "text/plain": [
       "[1]"
      ]
     },
     "execution_count": 20,
     "metadata": {},
     "output_type": "execute_result"
    }
   ],
   "source": [
    "labels[:1]"
   ]
  },
  {
   "cell_type": "code",
   "execution_count": 17,
   "metadata": {},
   "outputs": [
    {
     "name": "stderr",
     "output_type": "stream",
     "text": [
      "/home/root1/.virtualenv/demos/local/lib/python2.7/site-packages/keras/preprocessing/text.py:89: UserWarning: The `nb_words` argument in `Tokenizer` has been renamed `num_words`.\n",
      "  warnings.warn('The `nb_words` argument in `Tokenizer` '\n"
     ]
    }
   ],
   "source": [
    "tokenizer = Tokenizer(nb_words=MAX_NB_WORDS)\n",
    "tokenizer.fit_on_texts(texts)\n",
    "sequences = tokenizer.texts_to_sequences(texts)\n"
   ]
  },
  {
   "cell_type": "code",
   "execution_count": 21,
   "metadata": {},
   "outputs": [
    {
     "data": {
      "text/plain": [
       "[[15,\n",
       "  29,\n",
       "  10,\n",
       "  536,\n",
       "  165,\n",
       "  177,\n",
       "  30,\n",
       "  1,\n",
       "  559,\n",
       "  15,\n",
       "  10233,\n",
       "  198,\n",
       "  645,\n",
       "  2628,\n",
       "  5,\n",
       "  23,\n",
       "  223,\n",
       "  144,\n",
       "  1,\n",
       "  1024,\n",
       "  656,\n",
       "  128,\n",
       "  2,\n",
       "  46,\n",
       "  291,\n",
       "  1,\n",
       "  19971,\n",
       "  2,\n",
       "  291,\n",
       "  11752,\n",
       "  169,\n",
       "  275,\n",
       "  9,\n",
       "  40,\n",
       "  180,\n",
       "  5,\n",
       "  75,\n",
       "  3,\n",
       "  807,\n",
       "  2621,\n",
       "  80,\n",
       "  10,\n",
       "  226,\n",
       "  34,\n",
       "  9,\n",
       "  193,\n",
       "  12,\n",
       "  62,\n",
       "  638,\n",
       "  7,\n",
       "  1,\n",
       "  4269,\n",
       "  40,\n",
       "  5,\n",
       "  275,\n",
       "  93,\n",
       "  52,\n",
       "  57,\n",
       "  325,\n",
       "  723,\n",
       "  26,\n",
       "  6,\n",
       "  2519,\n",
       "  39,\n",
       "  1349,\n",
       "  11752,\n",
       "  6,\n",
       "  168,\n",
       "  5059,\n",
       "  168,\n",
       "  779,\n",
       "  18,\n",
       "  59,\n",
       "  9,\n",
       "  373,\n",
       "  165,\n",
       "  5,\n",
       "  63,\n",
       "  30,\n",
       "  1,\n",
       "  432,\n",
       "  50,\n",
       "  8,\n",
       "  12,\n",
       "  1820,\n",
       "  624,\n",
       "  45,\n",
       "  4,\n",
       "  8,\n",
       "  44,\n",
       "  1297,\n",
       "  3454,\n",
       "  41,\n",
       "  544,\n",
       "  944,\n",
       "  1,\n",
       "  3536,\n",
       "  2,\n",
       "  78,\n",
       "  1,\n",
       "  577,\n",
       "  745,\n",
       "  4,\n",
       "  1658,\n",
       "  22,\n",
       "  73,\n",
       "  2013,\n",
       "  1154,\n",
       "  17,\n",
       "  4,\n",
       "  259,\n",
       "  10,\n",
       "  6,\n",
       "  29,\n",
       "  41,\n",
       "  485,\n",
       "  1877,\n",
       "  35,\n",
       "  894,\n",
       "  21,\n",
       "  2596,\n",
       "  37,\n",
       "  10233,\n",
       "  7,\n",
       "  553,\n",
       "  90,\n",
       "  21,\n",
       "  22,\n",
       "  165,\n",
       "  5,\n",
       "  780,\n",
       "  10,\n",
       "  2,\n",
       "  164,\n",
       "  8,\n",
       "  355,\n",
       "  45,\n",
       "  199,\n",
       "  678,\n",
       "  10233,\n",
       "  32,\n",
       "  14,\n",
       "  5,\n",
       "  1,\n",
       "  227,\n",
       "  4,\n",
       "  10,\n",
       "  16,\n",
       "  17,\n",
       "  10233,\n",
       "  2,\n",
       "  87,\n",
       "  4,\n",
       "  23,\n",
       "  444,\n",
       "  58,\n",
       "  130,\n",
       "  11,\n",
       "  26,\n",
       "  89,\n",
       "  8,\n",
       "  14,\n",
       "  1,\n",
       "  444,\n",
       "  59,\n",
       "  43,\n",
       "  277,\n",
       "  6,\n",
       "  62,\n",
       "  323,\n",
       "  4,\n",
       "  86,\n",
       "  1,\n",
       "  776,\n",
       "  779,\n",
       "  18,\n",
       "  222,\n",
       "  50,\n",
       "  8,\n",
       "  412,\n",
       "  513,\n",
       "  6,\n",
       "  61,\n",
       "  19,\n",
       "  14,\n",
       "  888,\n",
       "  229,\n",
       "  39,\n",
       "  35,\n",
       "  16138,\n",
       "  1,\n",
       "  3513,\n",
       "  1670,\n",
       "  715,\n",
       "  2,\n",
       "  904,\n",
       "  11557,\n",
       "  6,\n",
       "  1081,\n",
       "  13,\n",
       "  3,\n",
       "  11992,\n",
       "  29,\n",
       "  974,\n",
       "  1393,\n",
       "  1625,\n",
       "  133,\n",
       "  26,\n",
       "  487,\n",
       "  10233,\n",
       "  341,\n",
       "  35,\n",
       "  73,\n",
       "  6,\n",
       "  720,\n",
       "  69,\n",
       "  84,\n",
       "  10233,\n",
       "  23,\n",
       "  2457,\n",
       "  14272,\n",
       "  904,\n",
       "  104,\n",
       "  11,\n",
       "  26,\n",
       "  470,\n",
       "  79,\n",
       "  5,\n",
       "  119,\n",
       "  8,\n",
       "  6,\n",
       "  26,\n",
       "  34,\n",
       "  6,\n",
       "  1658,\n",
       "  521,\n",
       "  35,\n",
       "  9,\n",
       "  11801,\n",
       "  275,\n",
       "  26,\n",
       "  40,\n",
       "  4164,\n",
       "  223,\n",
       "  761,\n",
       "  4,\n",
       "  638,\n",
       "  178,\n",
       "  7,\n",
       "  10,\n",
       "  37,\n",
       "  10233,\n",
       "  1585,\n",
       "  80,\n",
       "  3,\n",
       "  515,\n",
       "  2,\n",
       "  3,\n",
       "  2362,\n",
       "  2,\n",
       "  1,\n",
       "  221,\n",
       "  2080,\n",
       "  2726,\n",
       "  715,\n",
       "  78,\n",
       "  1,\n",
       "  162,\n",
       "  210,\n",
       "  24,\n",
       "  66,\n",
       "  1,\n",
       "  5061,\n",
       "  4,\n",
       "  3,\n",
       "  5354,\n",
       "  50,\n",
       "  8,\n",
       "  380,\n",
       "  5,\n",
       "  1419,\n",
       "  1,\n",
       "  73,\n",
       "  715,\n",
       "  13,\n",
       "  630,\n",
       "  668,\n",
       "  780,\n",
       "  775,\n",
       "  15,\n",
       "  27,\n",
       "  551,\n",
       "  384,\n",
       "  583,\n",
       "  3,\n",
       "  221,\n",
       "  759,\n",
       "  4,\n",
       "  94,\n",
       "  3478,\n",
       "  3,\n",
       "  1313,\n",
       "  830,\n",
       "  131,\n",
       "  1331,\n",
       "  345,\n",
       "  10,\n",
       "  16,\n",
       "  6,\n",
       "  14,\n",
       "  79,\n",
       "  34,\n",
       "  37,\n",
       "  10233,\n",
       "  19,\n",
       "  27,\n",
       "  643,\n",
       "  39,\n",
       "  155,\n",
       "  59,\n",
       "  9,\n",
       "  101,\n",
       "  6,\n",
       "  87,\n",
       "  79,\n",
       "  43,\n",
       "  20,\n",
       "  90,\n",
       "  784,\n",
       "  239,\n",
       "  8,\n",
       "  122,\n",
       "  350,\n",
       "  2,\n",
       "  197,\n",
       "  120,\n",
       "  3,\n",
       "  7681,\n",
       "  745,\n",
       "  2,\n",
       "  3632,\n",
       "  2050,\n",
       "  7,\n",
       "  10,\n",
       "  16,\n",
       "  6,\n",
       "  3,\n",
       "  242,\n",
       "  485,\n",
       "  1877,\n",
       "  6,\n",
       "  366,\n",
       "  27,\n",
       "  4,\n",
       "  1,\n",
       "  87,\n",
       "  1017,\n",
       "  79,\n",
       "  121,\n",
       "  5,\n",
       "  1684,\n",
       "  10,\n",
       "  1201,\n",
       "  17,\n",
       "  6,\n",
       "  26,\n",
       "  2519,\n",
       "  68,\n",
       "  15,\n",
       "  29,\n",
       "  1,\n",
       "  688,\n",
       "  198,\n",
       "  519,\n",
       "  10,\n",
       "  871,\n",
       "  7236,\n",
       "  68,\n",
       "  9,\n",
       "  88,\n",
       "  119,\n",
       "  84,\n",
       "  79,\n",
       "  67,\n",
       "  25,\n",
       "  271,\n",
       "  493,\n",
       "  4612,\n",
       "  3565,\n",
       "  9,\n",
       "  119,\n",
       "  10,\n",
       "  14,\n",
       "  3,\n",
       "  188,\n",
       "  26,\n",
       "  6,\n",
       "  342,\n",
       "  32,\n",
       "  574,\n",
       "  323,\n",
       "  17,\n",
       "  374,\n",
       "  226,\n",
       "  39,\n",
       "  27,\n",
       "  4,\n",
       "  1,\n",
       "  87,\n",
       "  19578,\n",
       "  9,\n",
       "  439,\n",
       "  26,\n",
       "  6,\n",
       "  20,\n",
       "  1,\n",
       "  1562]]"
      ]
     },
     "execution_count": 21,
     "metadata": {},
     "output_type": "execute_result"
    }
   ],
   "source": [
    "sequences[:1]"
   ]
  },
  {
   "cell_type": "code",
   "execution_count": 22,
   "metadata": {},
   "outputs": [
    {
     "name": "stdout",
     "output_type": "stream",
     "text": [
      "Found 80568 unique tokens.\n"
     ]
    }
   ],
   "source": [
    "word_index = tokenizer.word_index\n",
    "print('Found %s unique tokens.' % len(word_index))"
   ]
  },
  {
   "cell_type": "code",
   "execution_count": 23,
   "metadata": {},
   "outputs": [
    {
     "name": "stdout",
     "output_type": "stream",
     "text": [
      "('Shape of data tensor:', (25000, 1000))\n",
      "('Shape of label tensor:', (25000, 2))\n"
     ]
    }
   ],
   "source": [
    "data = pad_sequences(sequences, maxlen=MAX_SEQUENCE_LENGTH)\n",
    "\n",
    "labels = to_categorical(np.asarray(labels))\n",
    "print('Shape of data tensor:', data.shape)\n",
    "print('Shape of label tensor:', labels.shape)"
   ]
  },
  {
   "cell_type": "code",
   "execution_count": 24,
   "metadata": {},
   "outputs": [],
   "source": [
    "indices = np.arange(data.shape[0])\n",
    "np.random.shuffle(indices)\n",
    "data = data[indices]\n",
    "labels = labels[indices]\n",
    "nb_validation_samples = int(VALIDATION_SPLIT * data.shape[0])"
   ]
  },
  {
   "cell_type": "code",
   "execution_count": 25,
   "metadata": {},
   "outputs": [
    {
     "name": "stdout",
     "output_type": "stream",
     "text": [
      "Traing and validation set number of positive and negative reviews\n",
      "[ 9998. 10002.]\n",
      "[2502. 2498.]\n"
     ]
    }
   ],
   "source": [
    "x_train = data[:-nb_validation_samples]\n",
    "y_train = labels[:-nb_validation_samples]\n",
    "x_val = data[-nb_validation_samples:]\n",
    "y_val = labels[-nb_validation_samples:]\n",
    "\n",
    "print('Traing and validation set number of positive and negative reviews')\n",
    "print y_train.sum(axis=0)\n",
    "print y_val.sum(axis=0)"
   ]
  },
  {
   "cell_type": "code",
   "execution_count": 26,
   "metadata": {},
   "outputs": [
    {
     "name": "stdout",
     "output_type": "stream",
     "text": [
      "/home/root1/anuj_work/Github_repos/DeepNets\n"
     ]
    }
   ],
   "source": [
    "cwd = os.getcwd()\n",
    "print cwd"
   ]
  },
  {
   "cell_type": "code",
   "execution_count": 28,
   "metadata": {},
   "outputs": [
    {
     "name": "stdout",
     "output_type": "stream",
     "text": [
      "/home/root1/anuj_work/Github_repos/DeepNets/Data/glove\n"
     ]
    }
   ],
   "source": [
    "GLOVE_FOLDER = os.path.join(cwd, 'Data/glove')\n",
    "print GLOVE_FOLDER\n",
    "\n",
    "#GLOVE_DIR = \"~/Data/glove\"\n",
    "\n",
    "embeddings_index = {}\n",
    "f = open(os.path.join(GLOVE_FOLDER, 'glove.6B.100d.txt'))\n",
    "for line in f:\n",
    "    values = line.split()\n",
    "    word = values[0]\n",
    "    coefs = np.asarray(values[1:], dtype='float32')\n",
    "    embeddings_index[word] = coefs\n",
    "f.close()"
   ]
  },
  {
   "cell_type": "code",
   "execution_count": 29,
   "metadata": {},
   "outputs": [
    {
     "name": "stdout",
     "output_type": "stream",
     "text": [
      "Total 400000 word vectors.\n"
     ]
    }
   ],
   "source": [
    "print('Total %s word vectors.' % len(embeddings_index))\n"
   ]
  },
  {
   "cell_type": "code",
   "execution_count": 30,
   "metadata": {},
   "outputs": [],
   "source": [
    "embedding_matrix = np.random.random((len(word_index) + 1, EMBEDDING_DIM))\n",
    "for word, i in word_index.items():\n",
    "    embedding_vector = embeddings_index.get(word)\n",
    "    if embedding_vector is not None:\n",
    "        # words not found in embedding index will be all-zeros.\n",
    "        embedding_matrix[i] = embedding_vector"
   ]
  },
  {
   "cell_type": "code",
   "execution_count": 31,
   "metadata": {},
   "outputs": [],
   "source": [
    "embedding_layer = Embedding(len(word_index) + 1,\n",
    "                            EMBEDDING_DIM,\n",
    "                            weights=[embedding_matrix],\n",
    "                            input_length=MAX_SEQUENCE_LENGTH,\n",
    "                            trainable=True)"
   ]
  },
  {
   "cell_type": "code",
   "execution_count": 32,
   "metadata": {},
   "outputs": [],
   "source": [
    "sequence_input = Input(shape=(MAX_SEQUENCE_LENGTH,), dtype='int32')\n",
    "embedded_sequences = embedding_layer(sequence_input)\n",
    "l_lstm = Bidirectional(LSTM(100))(embedded_sequences)\n",
    "preds = Dense(2, activation='softmax')(l_lstm)\n",
    "model = Model(sequence_input, preds)"
   ]
  },
  {
   "cell_type": "code",
   "execution_count": 33,
   "metadata": {},
   "outputs": [],
   "source": [
    "model.compile(loss='categorical_crossentropy',\n",
    "              optimizer='rmsprop',\n",
    "              metrics=['acc'])"
   ]
  },
  {
   "cell_type": "code",
   "execution_count": null,
   "metadata": {},
   "outputs": [
    {
     "name": "stdout",
     "output_type": "stream",
     "text": [
      "model fitting - Bidirectional LSTM\n",
      "_________________________________________________________________\n",
      "Layer (type)                 Output Shape              Param #   \n",
      "=================================================================\n",
      "input_1 (InputLayer)         (None, 1000)              0         \n",
      "_________________________________________________________________\n",
      "embedding_1 (Embedding)      (None, 1000, 100)         8056900   \n",
      "_________________________________________________________________\n",
      "bidirectional_1 (Bidirection (None, 200)               160800    \n",
      "_________________________________________________________________\n",
      "dense_1 (Dense)              (None, 2)                 402       \n",
      "=================================================================\n",
      "Total params: 8,218,102\n",
      "Trainable params: 8,218,102\n",
      "Non-trainable params: 0\n",
      "_________________________________________________________________\n"
     ]
    },
    {
     "name": "stderr",
     "output_type": "stream",
     "text": [
      "/home/root1/.virtualenv/demos/lib/python2.7/site-packages/ipykernel_launcher.py:4: UserWarning: The `nb_epoch` argument in `fit` has been renamed `epochs`.\n",
      "  after removing the cwd from sys.path.\n"
     ]
    },
    {
     "name": "stdout",
     "output_type": "stream",
     "text": [
      "Train on 20000 samples, validate on 5000 samples\n",
      "Epoch 1/10\n",
      "   50/20000 [..............................] - ETA: 23936s - loss: 0.7467 - acc: 0.4400"
     ]
    }
   ],
   "source": [
    "print(\"model fitting - Bidirectional LSTM\")\n",
    "model.summary()\n",
    "model.fit(x_train, y_train, validation_data=(x_val, y_val),\n",
    "          epoch=10, batch_size=50)"
   ]
  },
  {
   "cell_type": "code",
   "execution_count": null,
   "metadata": {},
   "outputs": [],
   "source": []
  },
  {
   "cell_type": "code",
   "execution_count": null,
   "metadata": {},
   "outputs": [],
   "source": []
  },
  {
   "cell_type": "code",
   "execution_count": null,
   "metadata": {},
   "outputs": [],
   "source": []
  },
  {
   "cell_type": "code",
   "execution_count": null,
   "metadata": {},
   "outputs": [],
   "source": []
  }
 ],
 "metadata": {
  "kernelspec": {
   "display_name": "Python 2",
   "language": "python",
   "name": "python2"
  },
  "language_info": {
   "codemirror_mode": {
    "name": "ipython",
    "version": 2
   },
   "file_extension": ".py",
   "mimetype": "text/x-python",
   "name": "python",
   "nbconvert_exporter": "python",
   "pygments_lexer": "ipython2",
   "version": "2.7.12"
  }
 },
 "nbformat": 4,
 "nbformat_minor": 2
}
