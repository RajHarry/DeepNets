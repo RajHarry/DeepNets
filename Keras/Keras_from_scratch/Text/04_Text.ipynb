{
 "cells": [
  {
   "cell_type": "markdown",
   "metadata": {},
   "source": [
    "### Character based 1-hot encoding (toy example) - Using Keras"
   ]
  },
  {
   "cell_type": "code",
   "execution_count": 22,
   "metadata": {},
   "outputs": [
    {
     "name": "stdout",
     "output_type": "stream",
     "text": [
      "The autoreload extension is already loaded. To reload it, use:\n",
      "  %reload_ext autoreload\n"
     ]
    }
   ],
   "source": [
    "%load_ext autoreload\n",
    "%autoreload 2\n",
    "%matplotlib inline"
   ]
  },
  {
   "cell_type": "code",
   "execution_count": 23,
   "metadata": {},
   "outputs": [],
   "source": [
    "from keras.preprocessing.text import Tokenizer\n",
    "import numpy as np"
   ]
  },
  {
   "cell_type": "code",
   "execution_count": 24,
   "metadata": {},
   "outputs": [],
   "source": [
    "sample_set = ['the cat sat on the mat.', 'The dog is eating food']"
   ]
  },
  {
   "cell_type": "code",
   "execution_count": 42,
   "metadata": {},
   "outputs": [
    {
     "name": "stdout",
     "output_type": "stream",
     "text": [
      "11\n",
      "{'.', ' ', 't', 'n', 'm', 's', 'a', 'c', 'o', 'h', 'e'}\n",
      "\n",
      "\n",
      "13\n",
      "{'T', ' ', 't', 'g', 'n', 's', 'i', 'a', 'o', 'd', 'f', 'h', 'e'}\n"
     ]
    }
   ],
   "source": [
    "print(len(set(sample_set[0])))\n",
    "print(set(sample_set[0]))\n",
    "print(\"\\n\")\n",
    "print(len(set(sample_set[1])))\n",
    "print(set(sample_set[1]))"
   ]
  },
  {
   "cell_type": "code",
   "execution_count": 38,
   "metadata": {},
   "outputs": [],
   "source": [
    "tokenizer = Tokenizer(num_words=10, char_level=True)"
   ]
  },
  {
   "cell_type": "code",
   "execution_count": 39,
   "metadata": {},
   "outputs": [],
   "source": [
    "tokenizer.fit_on_texts(sample_set)\n"
   ]
  },
  {
   "cell_type": "code",
   "execution_count": 40,
   "metadata": {},
   "outputs": [],
   "source": [
    "seqs = tokenizer.texts_to_matrix(sample_set)"
   ]
  },
  {
   "cell_type": "code",
   "execution_count": 41,
   "metadata": {},
   "outputs": [
    {
     "name": "stdout",
     "output_type": "stream",
     "text": [
      "<class 'numpy.ndarray'>\n",
      "2\n",
      "10\n",
      "10\n",
      "[0. 1. 1. 1. 1. 1. 1. 1. 1. 0.]\n",
      "[0. 1. 1. 1. 1. 1. 1. 1. 1. 1.]\n"
     ]
    }
   ],
   "source": [
    "print(type(seqs))\n",
    "print(len(seqs))\n",
    "\n",
    "print(len(seqs[0]))\n",
    "print(len(seqs[1]))\n",
    "\n",
    "\n",
    "print(seqs[0])\n",
    "print(seqs[1])"
   ]
  },
  {
   "cell_type": "code",
   "execution_count": 43,
   "metadata": {},
   "outputs": [
    {
     "data": {
      "text/plain": [
       "{' ': 1,\n",
       " '.': 14,\n",
       " 'T': 15,\n",
       " 'a': 4,\n",
       " 'c': 12,\n",
       " 'd': 9,\n",
       " 'e': 3,\n",
       " 'f': 16,\n",
       " 'g': 10,\n",
       " 'h': 6,\n",
       " 'i': 11,\n",
       " 'm': 13,\n",
       " 'n': 8,\n",
       " 'o': 5,\n",
       " 's': 7,\n",
       " 't': 2}"
      ]
     },
     "execution_count": 43,
     "metadata": {},
     "output_type": "execute_result"
    }
   ],
   "source": [
    "tokenizer.word_index"
   ]
  },
  {
   "cell_type": "code",
   "execution_count": null,
   "metadata": {},
   "outputs": [],
   "source": []
  }
 ],
 "metadata": {
  "kernelspec": {
   "display_name": "Python 3",
   "language": "python",
   "name": "python3"
  },
  "language_info": {
   "codemirror_mode": {
    "name": "ipython",
    "version": 3
   },
   "file_extension": ".py",
   "mimetype": "text/x-python",
   "name": "python",
   "nbconvert_exporter": "python",
   "pygments_lexer": "ipython3",
   "version": "3.5.4"
  }
 },
 "nbformat": 4,
 "nbformat_minor": 2
}
