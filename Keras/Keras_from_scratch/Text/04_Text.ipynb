{
 "cells": [
  {
   "cell_type": "markdown",
   "metadata": {},
   "source": [
    "### Character based 1-hot encoding (toy example) - Using Keras\n",
    "\n",
    "    Here we get 2D tensor - merely records if a character is there or not\n",
    "    A 3D tensor like one in 02_Text \n",
    "    \n",
    "    This one treats bag of characters, while 04 treats a sequence of characters"
   ]
  },
  {
   "cell_type": "code",
   "execution_count": 1,
   "metadata": {},
   "outputs": [],
   "source": [
    "%load_ext autoreload\n",
    "%autoreload 2\n",
    "%matplotlib inline"
   ]
  },
  {
   "cell_type": "code",
   "execution_count": 2,
   "metadata": {},
   "outputs": [
    {
     "name": "stderr",
     "output_type": "stream",
     "text": [
      "c:\\users\\a00439512\\appdata\\local\\continuum\\anaconda3\\envs\\demo\\lib\\site-packages\\h5py\\__init__.py:36: FutureWarning: Conversion of the second argument of issubdtype from `float` to `np.floating` is deprecated. In future, it will be treated as `np.float64 == np.dtype(float).type`.\n",
      "  from ._conv import register_converters as _register_converters\n",
      "Using TensorFlow backend.\n"
     ]
    }
   ],
   "source": [
    "from keras.preprocessing.text import Tokenizer\n",
    "import numpy as np"
   ]
  },
  {
   "cell_type": "code",
   "execution_count": 10,
   "metadata": {},
   "outputs": [],
   "source": [
    "sample_set = ['the cat sat on the mat.', 'The dog is eating food', 'ttttttttttttttttttttttt']"
   ]
  },
  {
   "cell_type": "code",
   "execution_count": 11,
   "metadata": {},
   "outputs": [
    {
     "name": "stdout",
     "output_type": "stream",
     "text": [
      "11\n",
      "{'n', '.', 'e', 't', 's', 'a', 'm', ' ', 'h', 'o', 'c'}\n",
      "\n",
      "\n",
      "13\n",
      "{'T', 'n', 'i', 'e', 'd', 'g', 't', 's', 'f', 'a', ' ', 'h', 'o'}\n"
     ]
    }
   ],
   "source": [
    "print(len(set(sample_set[0])))\n",
    "print(set(sample_set[0]))\n",
    "print(\"\\n\")\n",
    "print(len(set(sample_set[1])))\n",
    "print(set(sample_set[1]))"
   ]
  },
  {
   "cell_type": "code",
   "execution_count": 12,
   "metadata": {},
   "outputs": [],
   "source": [
    "tokenizer = Tokenizer(num_words=10, char_level=True)"
   ]
  },
  {
   "cell_type": "code",
   "execution_count": 13,
   "metadata": {},
   "outputs": [],
   "source": [
    "tokenizer.fit_on_texts(sample_set)\n"
   ]
  },
  {
   "cell_type": "code",
   "execution_count": 14,
   "metadata": {},
   "outputs": [],
   "source": [
    "seqs = tokenizer.texts_to_matrix(sample_set)"
   ]
  },
  {
   "cell_type": "code",
   "execution_count": 17,
   "metadata": {},
   "outputs": [
    {
     "name": "stdout",
     "output_type": "stream",
     "text": [
      "<class 'numpy.ndarray'>\n",
      "3\n",
      "10\n",
      "10\n",
      "[0. 1. 1. 1. 1. 1. 1. 1. 1. 0.]\n",
      "[0. 1. 1. 1. 1. 1. 1. 1. 1. 1.]\n",
      "[0. 1. 0. 0. 0. 0. 0. 0. 0. 0.]\n"
     ]
    }
   ],
   "source": [
    "print(type(seqs))\n",
    "print(len(seqs))\n",
    "\n",
    "print(len(seqs[0]))\n",
    "print(len(seqs[1]))\n",
    "\n",
    "\n",
    "print(seqs[0])\n",
    "print(seqs[1])\n",
    "print(seqs[2])"
   ]
  },
  {
   "cell_type": "code",
   "execution_count": 18,
   "metadata": {},
   "outputs": [
    {
     "name": "stdout",
     "output_type": "stream",
     "text": [
      "(3, 10)\n"
     ]
    }
   ],
   "source": [
    "print(seqs.shape)"
   ]
  },
  {
   "cell_type": "code",
   "execution_count": 19,
   "metadata": {},
   "outputs": [
    {
     "data": {
      "text/plain": [
       "{' ': 2,\n",
       " '.': 14,\n",
       " 'T': 15,\n",
       " 'a': 4,\n",
       " 'c': 12,\n",
       " 'd': 9,\n",
       " 'e': 3,\n",
       " 'f': 16,\n",
       " 'g': 10,\n",
       " 'h': 6,\n",
       " 'i': 11,\n",
       " 'm': 13,\n",
       " 'n': 8,\n",
       " 'o': 5,\n",
       " 's': 7,\n",
       " 't': 1}"
      ]
     },
     "execution_count": 19,
     "metadata": {},
     "output_type": "execute_result"
    }
   ],
   "source": [
    "tokenizer.word_index"
   ]
  },
  {
   "cell_type": "code",
   "execution_count": null,
   "metadata": {},
   "outputs": [],
   "source": []
  }
 ],
 "metadata": {
  "kernelspec": {
   "display_name": "Python 3",
   "language": "python",
   "name": "python3"
  },
  "language_info": {
   "codemirror_mode": {
    "name": "ipython",
    "version": 3
   },
   "file_extension": ".py",
   "mimetype": "text/x-python",
   "name": "python",
   "nbconvert_exporter": "python",
   "pygments_lexer": "ipython3",
   "version": "3.5.4"
  }
 },
 "nbformat": 4,
 "nbformat_minor": 2
}
