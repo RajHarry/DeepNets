{
 "cells": [
  {
   "cell_type": "markdown",
   "metadata": {},
   "source": [
    "### implement hashing trick\n",
    "\n",
    "    all previous notebooks had an explicit dictionary mapping \n",
    "    This dictionary can be bulky\n",
    "    \n",
    "    a neat trick is to use a function to map words to ids\n",
    "    rather than carry a bulky dictionary to find maping"
   ]
  },
  {
   "cell_type": "code",
   "execution_count": 4,
   "metadata": {},
   "outputs": [],
   "source": [
    "import numpy as np"
   ]
  },
  {
   "cell_type": "code",
   "execution_count": 5,
   "metadata": {},
   "outputs": [],
   "source": [
    "sample_set = ['the cat sat on the mat.', 'The dog is eating food', 'ttttttttttttttttttttttt']"
   ]
  },
  {
   "cell_type": "code",
   "execution_count": 6,
   "metadata": {},
   "outputs": [],
   "source": [
    "max_len_of_seq = 100\n",
    "\n",
    "max_word_dimension = 1000 # this is like saying We consider only 1000 most important words and the space is defined by them"
   ]
  },
  {
   "cell_type": "code",
   "execution_count": 7,
   "metadata": {},
   "outputs": [],
   "source": [
    "data_tensor = np.zeros(shape=(len(sample_set), max_len_of_seq, max_word_dimension))"
   ]
  },
  {
   "cell_type": "code",
   "execution_count": 10,
   "metadata": {},
   "outputs": [],
   "source": [
    "for i, sample in enumerate(sample_set):\n",
    "    for j, word in enumerate(sample.split()[:max_len_of_seq]):\n",
    "        \n",
    "        index = abs(hash(word)) % max_word_dimension\n",
    "        \n",
    "        data_tensor[i,j,index] = 1"
   ]
  },
  {
   "cell_type": "code",
   "execution_count": null,
   "metadata": {},
   "outputs": [],
   "source": []
  }
 ],
 "metadata": {
  "kernelspec": {
   "display_name": "Python 3",
   "language": "python",
   "name": "python3"
  },
  "language_info": {
   "codemirror_mode": {
    "name": "ipython",
    "version": 3
   },
   "file_extension": ".py",
   "mimetype": "text/x-python",
   "name": "python",
   "nbconvert_exporter": "python",
   "pygments_lexer": "ipython3",
   "version": "3.5.4"
  }
 },
 "nbformat": 4,
 "nbformat_minor": 2
}
