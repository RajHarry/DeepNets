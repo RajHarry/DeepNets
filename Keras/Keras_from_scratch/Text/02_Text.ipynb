{
 "cells": [
  {
   "cell_type": "markdown",
   "metadata": {},
   "source": [
    "### Character based 1-hot encoding (toy example)"
   ]
  },
  {
   "cell_type": "code",
   "execution_count": 1,
   "metadata": {},
   "outputs": [],
   "source": [
    "%load_ext autoreload\n",
    "%autoreload 2\n",
    "%matplotlib inline"
   ]
  },
  {
   "cell_type": "code",
   "execution_count": 1,
   "metadata": {},
   "outputs": [],
   "source": [
    "import numpy as np\n",
    "import string"
   ]
  },
  {
   "cell_type": "markdown",
   "metadata": {},
   "source": [
    "### create dictionary"
   ]
  },
  {
   "cell_type": "code",
   "execution_count": 2,
   "metadata": {},
   "outputs": [],
   "source": [
    "sample_set = ['the cat sat on the mat.', 'The dog is eating food']"
   ]
  },
  {
   "cell_type": "code",
   "execution_count": 4,
   "metadata": {},
   "outputs": [
    {
     "name": "stdout",
     "output_type": "stream",
     "text": [
      "0123456789abcdefghijklmnopqrstuvwxyzABCDEFGHIJKLMNOPQRSTUVWXYZ!\"#$%&'()*+,-./:;<=>?@[\\]^_`{|}~ \t\n",
      "\r",
      "\u000b",
      "\f",
      "\n"
     ]
    }
   ],
   "source": [
    "character_set = string.printable\n",
    "print(character_set)"
   ]
  },
  {
   "cell_type": "code",
   "execution_count": 7,
   "metadata": {},
   "outputs": [],
   "source": [
    "char_to_id = dict(zip(character_set, range(1, len(character_set)+1) ))"
   ]
  },
  {
   "cell_type": "code",
   "execution_count": 8,
   "metadata": {},
   "outputs": [
    {
     "name": "stdout",
     "output_type": "stream",
     "text": [
      "dict_keys(['t', 'g', '6', 'q', '?', 'b', 'Q', '8', 'X', 'e', '\\\\', 'J', 'R', 'W', 'V', 'Y', 'L', '{', '/', 'E', 'd', '\\t', '\"', 'y', 'x', 'F', '9', 'B', 'm', ']', 's', ';', '#', '[', '-', 'M', 'w', '2', 'u', '0', '3', \"'\", 'k', 'z', 'f', '|', '(', 'p', 'o', ':', 'l', '5', 'A', '&', 'G', 'C', '@', 'c', 'U', '%', 'D', '*', 'T', '\\r', '.', 'K', ',', '!', '~', '<', '$', '`', ' ', 'H', '_', '\\n', '7', 'i', 'v', '^', '\\x0c', ')', 'N', 'S', 'I', 'a', 'n', 'h', 'r', 'j', '\\x0b', 'P', 'Z', 'O', '=', '1', '+', '4', '>', '}'])\n",
      "dict_values([30, 17, 7, 27, 83, 12, 53, 9, 60, 15, 86, 46, 54, 59, 58, 61, 48, 91, 77, 41, 14, 96, 64, 35, 34, 42, 10, 38, 23, 87, 29, 79, 65, 85, 75, 49, 33, 3, 31, 1, 4, 69, 21, 36, 16, 92, 70, 26, 25, 78, 22, 6, 37, 68, 43, 39, 84, 13, 57, 67, 40, 72, 56, 98, 76, 47, 74, 63, 94, 80, 66, 90, 95, 44, 89, 97, 8, 19, 32, 88, 100, 71, 50, 55, 45, 11, 24, 18, 28, 20, 99, 52, 62, 51, 81, 2, 73, 5, 82, 93])\n"
     ]
    }
   ],
   "source": [
    "print(char_to_id.keys())\n",
    "print(char_to_id.values())"
   ]
  },
  {
   "cell_type": "markdown",
   "metadata": {},
   "source": [
    "### create data-structre to store data tensor\n",
    "\n"
   ]
  },
  {
   "cell_type": "code",
   "execution_count": 11,
   "metadata": {},
   "outputs": [],
   "source": [
    "max_len = 50\n",
    "\n",
    "input_tensor = np.zeros(shape=(len(sample_set), max_len, max(char_to_id.values())+1))"
   ]
  },
  {
   "cell_type": "markdown",
   "metadata": {},
   "source": [
    "### populate the data-structre"
   ]
  },
  {
   "cell_type": "code",
   "execution_count": 12,
   "metadata": {},
   "outputs": [
    {
     "ename": "KeyError",
     "evalue": "'the'",
     "output_type": "error",
     "traceback": [
      "\u001b[1;31m---------------------------------------------------------------------------\u001b[0m",
      "\u001b[1;31mKeyError\u001b[0m                                  Traceback (most recent call last)",
      "\u001b[1;32m<ipython-input-12-7409f45929df>\u001b[0m in \u001b[0;36m<module>\u001b[1;34m()\u001b[0m\n\u001b[0;32m      2\u001b[0m     \u001b[1;32mfor\u001b[0m \u001b[0mj\u001b[0m\u001b[1;33m,\u001b[0m \u001b[0mword\u001b[0m \u001b[1;32min\u001b[0m \u001b[0menumerate\u001b[0m\u001b[1;33m(\u001b[0m\u001b[0msample\u001b[0m\u001b[1;33m.\u001b[0m\u001b[0msplit\u001b[0m\u001b[1;33m(\u001b[0m\u001b[1;33m)\u001b[0m\u001b[1;33m[\u001b[0m\u001b[1;33m:\u001b[0m\u001b[0mmax_len\u001b[0m\u001b[1;33m]\u001b[0m\u001b[1;33m)\u001b[0m\u001b[1;33m:\u001b[0m\u001b[1;33m\u001b[0m\u001b[0m\n\u001b[0;32m      3\u001b[0m \u001b[1;33m\u001b[0m\u001b[0m\n\u001b[1;32m----> 4\u001b[1;33m         \u001b[0mindex_\u001b[0m \u001b[1;33m=\u001b[0m \u001b[0mchar_to_id\u001b[0m\u001b[1;33m[\u001b[0m\u001b[0mword\u001b[0m\u001b[1;33m]\u001b[0m\u001b[1;33m\u001b[0m\u001b[0m\n\u001b[0m\u001b[0;32m      5\u001b[0m \u001b[1;33m\u001b[0m\u001b[0m\n\u001b[0;32m      6\u001b[0m         \u001b[0minput_tensor\u001b[0m\u001b[1;33m[\u001b[0m\u001b[0mi\u001b[0m\u001b[1;33m,\u001b[0m\u001b[0mj\u001b[0m\u001b[1;33m,\u001b[0m \u001b[0mindex_\u001b[0m\u001b[1;33m]\u001b[0m \u001b[1;33m=\u001b[0m \u001b[1;36m1\u001b[0m\u001b[1;33m\u001b[0m\u001b[0m\n",
      "\u001b[1;31mKeyError\u001b[0m: 'the'"
     ]
    }
   ],
   "source": [
    "for i, sample in enumerate(sample_set):\n",
    "    for j, word in enumerate(sample.split()[:max_len]):\n",
    "        \n",
    "        index_ = char_to_id[word]\n",
    "        \n",
    "        input_tensor[i,j, index_] = 1"
   ]
  },
  {
   "cell_type": "code",
   "execution_count": null,
   "metadata": {},
   "outputs": [],
   "source": []
  }
 ],
 "metadata": {
  "kernelspec": {
   "display_name": "Python 3",
   "language": "python",
   "name": "python3"
  },
  "language_info": {
   "codemirror_mode": {
    "name": "ipython",
    "version": 3
   },
   "file_extension": ".py",
   "mimetype": "text/x-python",
   "name": "python",
   "nbconvert_exporter": "python",
   "pygments_lexer": "ipython3",
   "version": "3.5.4"
  }
 },
 "nbformat": 4,
 "nbformat_minor": 2
}
