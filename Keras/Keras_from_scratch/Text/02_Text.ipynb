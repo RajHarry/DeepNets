{
 "cells": [
  {
   "cell_type": "markdown",
   "metadata": {},
   "source": [
    "### Character based 1-hot encoding (toy example)"
   ]
  },
  {
   "cell_type": "code",
   "execution_count": 8,
   "metadata": {},
   "outputs": [
    {
     "name": "stdout",
     "output_type": "stream",
     "text": [
      "The autoreload extension is already loaded. To reload it, use:\n",
      "  %reload_ext autoreload\n"
     ]
    }
   ],
   "source": [
    "%load_ext autoreload\n",
    "%autoreload 2\n",
    "%matplotlib inline"
   ]
  },
  {
   "cell_type": "code",
   "execution_count": 9,
   "metadata": {},
   "outputs": [],
   "source": [
    "import numpy as np\n",
    "import string"
   ]
  },
  {
   "cell_type": "markdown",
   "metadata": {},
   "source": [
    "### create dictionary"
   ]
  },
  {
   "cell_type": "code",
   "execution_count": 10,
   "metadata": {},
   "outputs": [],
   "source": [
    "sample_set = ['the cat sat on the mat.', 'The dog is eating food']"
   ]
  },
  {
   "cell_type": "code",
   "execution_count": 11,
   "metadata": {},
   "outputs": [
    {
     "name": "stdout",
     "output_type": "stream",
     "text": [
      "0123456789abcdefghijklmnopqrstuvwxyzABCDEFGHIJKLMNOPQRSTUVWXYZ!\"#$%&'()*+,-./:;<=>?@[\\]^_`{|}~ \t\n",
      "\r",
      "\u000b",
      "\f",
      "\n"
     ]
    },
    {
     "data": {
      "text/plain": [
       "str"
      ]
     },
     "execution_count": 11,
     "metadata": {},
     "output_type": "execute_result"
    }
   ],
   "source": [
    "character_set = string.printable\n",
    "print(character_set)\n",
    "\n",
    "type(character_set)"
   ]
  },
  {
   "cell_type": "code",
   "execution_count": 12,
   "metadata": {},
   "outputs": [
    {
     "data": {
      "text/plain": [
       "100"
      ]
     },
     "execution_count": 12,
     "metadata": {},
     "output_type": "execute_result"
    }
   ],
   "source": [
    "len(character_set)"
   ]
  },
  {
   "cell_type": "code",
   "execution_count": 13,
   "metadata": {},
   "outputs": [
    {
     "data": {
      "text/plain": [
       "{'\\t': 96,\n",
       " '\\n': 97,\n",
       " '\\x0b': 99,\n",
       " '\\x0c': 100,\n",
       " '\\r': 98,\n",
       " ' ': 95,\n",
       " '!': 63,\n",
       " '\"': 64,\n",
       " '#': 65,\n",
       " '$': 66,\n",
       " '%': 67,\n",
       " '&': 68,\n",
       " \"'\": 69,\n",
       " '(': 70,\n",
       " ')': 71,\n",
       " '*': 72,\n",
       " '+': 73,\n",
       " ',': 74,\n",
       " '-': 75,\n",
       " '.': 76,\n",
       " '/': 77,\n",
       " '0': 1,\n",
       " '1': 2,\n",
       " '2': 3,\n",
       " '3': 4,\n",
       " '4': 5,\n",
       " '5': 6,\n",
       " '6': 7,\n",
       " '7': 8,\n",
       " '8': 9,\n",
       " '9': 10,\n",
       " ':': 78,\n",
       " ';': 79,\n",
       " '<': 80,\n",
       " '=': 81,\n",
       " '>': 82,\n",
       " '?': 83,\n",
       " '@': 84,\n",
       " 'A': 37,\n",
       " 'B': 38,\n",
       " 'C': 39,\n",
       " 'D': 40,\n",
       " 'E': 41,\n",
       " 'F': 42,\n",
       " 'G': 43,\n",
       " 'H': 44,\n",
       " 'I': 45,\n",
       " 'J': 46,\n",
       " 'K': 47,\n",
       " 'L': 48,\n",
       " 'M': 49,\n",
       " 'N': 50,\n",
       " 'O': 51,\n",
       " 'P': 52,\n",
       " 'Q': 53,\n",
       " 'R': 54,\n",
       " 'S': 55,\n",
       " 'T': 56,\n",
       " 'U': 57,\n",
       " 'V': 58,\n",
       " 'W': 59,\n",
       " 'X': 60,\n",
       " 'Y': 61,\n",
       " 'Z': 62,\n",
       " '[': 85,\n",
       " '\\\\': 86,\n",
       " ']': 87,\n",
       " '^': 88,\n",
       " '_': 89,\n",
       " '`': 90,\n",
       " 'a': 11,\n",
       " 'b': 12,\n",
       " 'c': 13,\n",
       " 'd': 14,\n",
       " 'e': 15,\n",
       " 'f': 16,\n",
       " 'g': 17,\n",
       " 'h': 18,\n",
       " 'i': 19,\n",
       " 'j': 20,\n",
       " 'k': 21,\n",
       " 'l': 22,\n",
       " 'm': 23,\n",
       " 'n': 24,\n",
       " 'o': 25,\n",
       " 'p': 26,\n",
       " 'q': 27,\n",
       " 'r': 28,\n",
       " 's': 29,\n",
       " 't': 30,\n",
       " 'u': 31,\n",
       " 'v': 32,\n",
       " 'w': 33,\n",
       " 'x': 34,\n",
       " 'y': 35,\n",
       " 'z': 36,\n",
       " '{': 91,\n",
       " '|': 92,\n",
       " '}': 93,\n",
       " '~': 94}"
      ]
     },
     "execution_count": 13,
     "metadata": {},
     "output_type": "execute_result"
    }
   ],
   "source": [
    "char_to_id = dict(zip(character_set, range(1, len(character_set)+1) ))\n",
    "char_to_id"
   ]
  },
  {
   "cell_type": "code",
   "execution_count": 14,
   "metadata": {},
   "outputs": [
    {
     "name": "stdout",
     "output_type": "stream",
     "text": [
      "dict_keys(['C', 'J', '8', 'd', 'm', '^', 'N', 'h', 'w', '\"', 'V', '{', 'e', '=', 'K', '\\x0b', ':', '3', '\\x0c', 'g', 'c', ',', '$', 'q', '~', '4', '`', '/', '.', '\\t', 'v', 'W', 'Q', ']', '}', 'f', 'B', ';', 'E', '\\n', 'R', ' ', '2', 'I', 'G', '*', 'p', 'F', '%', 'L', 'M', 'r', '6', 'T', '|', 't', '-', '&', '>', '_', 'a', '\\\\', 'n', 'Y', ')', 'U', 'u', '\\r', '9', '[', 'O', 'l', '+', 'k', '#', 'b', 'H', '!', '5', 'A', '7', 's', \"'\", '1', '(', 'z', 'S', '0', 'X', 'Z', 'D', '?', 'y', 'i', 'P', 'j', 'o', '@', '<', 'x'])\n",
      "dict_values([39, 46, 9, 14, 23, 88, 50, 18, 33, 64, 58, 91, 15, 81, 47, 99, 78, 4, 100, 17, 13, 74, 66, 27, 94, 5, 90, 77, 76, 96, 32, 59, 53, 87, 93, 16, 38, 79, 41, 97, 54, 95, 3, 45, 43, 72, 26, 42, 67, 48, 49, 28, 7, 56, 92, 30, 75, 68, 82, 89, 11, 86, 24, 61, 71, 57, 31, 98, 10, 85, 51, 22, 73, 21, 65, 12, 44, 63, 6, 37, 8, 29, 69, 2, 70, 36, 55, 1, 60, 62, 40, 83, 35, 19, 52, 20, 25, 84, 80, 34])\n"
     ]
    }
   ],
   "source": [
    "print(char_to_id.keys())\n",
    "print(char_to_id.values())"
   ]
  },
  {
   "cell_type": "markdown",
   "metadata": {},
   "source": [
    "### create data-structre to store data tensor\n",
    "\n"
   ]
  },
  {
   "cell_type": "code",
   "execution_count": 15,
   "metadata": {},
   "outputs": [],
   "source": [
    "max_len = 50\n",
    "\n",
    "input_tensor = np.zeros(shape=(len(sample_set), max_len, max(char_to_id.values())+1))"
   ]
  },
  {
   "cell_type": "markdown",
   "metadata": {},
   "source": [
    "### populate the data-structre"
   ]
  },
  {
   "cell_type": "code",
   "execution_count": 17,
   "metadata": {},
   "outputs": [],
   "source": [
    "for i, sample in enumerate(sample_set):\n",
    "    for j, word in enumerate(sample[:max_len]):\n",
    "        \n",
    "        index_ = char_to_id[word]\n",
    "        \n",
    "        input_tensor[i,j, index_] = 1"
   ]
  },
  {
   "cell_type": "code",
   "execution_count": null,
   "metadata": {},
   "outputs": [],
   "source": []
  }
 ],
 "metadata": {
  "kernelspec": {
   "display_name": "Python 3",
   "language": "python",
   "name": "python3"
  },
  "language_info": {
   "codemirror_mode": {
    "name": "ipython",
    "version": 3
   },
   "file_extension": ".py",
   "mimetype": "text/x-python",
   "name": "python",
   "nbconvert_exporter": "python",
   "pygments_lexer": "ipython3",
   "version": "3.5.4"
  }
 },
 "nbformat": 4,
 "nbformat_minor": 2
}
