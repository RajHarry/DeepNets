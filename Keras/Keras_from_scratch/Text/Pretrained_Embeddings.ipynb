{
 "cells": [
  {
   "cell_type": "markdown",
   "metadata": {},
   "source": [
    "### 6.1.3 from raw text to word embeddings"
   ]
  },
  {
   "cell_type": "code",
   "execution_count": 1,
   "metadata": {},
   "outputs": [],
   "source": [
    "%load_ext autoreload\n",
    "%autoreload 2\n",
    "%matplotlib inline"
   ]
  },
  {
   "cell_type": "markdown",
   "metadata": {},
   "source": [
    "# load dataset"
   ]
  },
  {
   "cell_type": "code",
   "execution_count": 2,
   "metadata": {},
   "outputs": [],
   "source": [
    "import os"
   ]
  },
  {
   "cell_type": "code",
   "execution_count": 30,
   "metadata": {},
   "outputs": [],
   "source": [
    "imdb_dir = 'd:/Datasets\\aclImdb'\n",
    "train_dir = os.path.join(imdb_dir, 'train')\n",
    "test_dir = os.path.join(imdb_dir, 'test')"
   ]
  },
  {
   "cell_type": "code",
   "execution_count": 31,
   "metadata": {},
   "outputs": [],
   "source": [
    "train_labels = []\n",
    "train_text = []"
   ]
  },
  {
   "cell_type": "code",
   "execution_count": 32,
   "metadata": {},
   "outputs": [],
   "source": [
    "for label_type in ['neg', 'pos']:\n",
    "    dir_name = os.path.join(train_dir, label_type)\n",
    "    for fname in os.listdir(dir_name):\n",
    "        if fname[-4:] == '.txt':\n",
    "            file_path = os.path.join(dir_name, fname)\n",
    "            f = open(file_path, encoding=\"utf8\")\n",
    "            \n",
    "            try:\n",
    "                train_text.append(f.read())\n",
    "    \n",
    "                if label_type == 'neg':\n",
    "                    train_labels.append(0)\n",
    "                else:\n",
    "                    train_labels.append(1)\n",
    "            except UnicodeDecodeError as e:\n",
    "                print(e)\n",
    "                \n",
    "            f.close()    \n",
    "                "
   ]
  },
  {
   "cell_type": "code",
   "execution_count": 33,
   "metadata": {},
   "outputs": [
    {
     "name": "stdout",
     "output_type": "stream",
     "text": [
      "d:/Datasets/aclIMDB\\train\\pos\n",
      "9_7.txt\n",
      "d:/Datasets/aclIMDB\\train\\pos\\9_7.txt\n",
      "25000\n"
     ]
    }
   ],
   "source": [
    "print(dir_name)\n",
    "print(fname)\n",
    "print(file_path)\n",
    "print(len(train_labels))"
   ]
  },
  {
   "cell_type": "code",
   "execution_count": null,
   "metadata": {},
   "outputs": [],
   "source": []
  },
  {
   "cell_type": "markdown",
   "metadata": {},
   "source": [
    "## TOKENIZING THE DATA\n",
    "    + restricting the training data to the first 200 samples."
   ]
  },
  {
   "cell_type": "markdown",
   "metadata": {},
   "source": [
    "1. Refresher on Backpropagation [5 mins]\n",
    "     + Basics\n",
    "2. Problems with Backpropagation [5 mins]\n",
    "     + Forward-locking\n",
    "     + Backward locking\n",
    "     + Update locking\n",
    "     + Impact of locking\n",
    "3. Why does it matter [1 mins]\n",
    "4. Applications [3 mins]\n",
    "5. Solution [12 mins]\n",
    "     + Synthetic Gradients\n",
    "     + Breaking backward & update locking\n",
    "6. Results [5 mins]\n",
    "     + Backprop vs Synthetic Gradients\n",
    "7. Complete unlock [2 mins]\n",
    "     + Breaking forward locking\n",
    "8, Closing remarks [3 mins]"
   ]
  },
  {
   "cell_type": "code",
   "execution_count": null,
   "metadata": {},
   "outputs": [],
   "source": []
  }
 ],
 "metadata": {
  "kernelspec": {
   "display_name": "Python 3",
   "language": "python",
   "name": "python3"
  },
  "language_info": {
   "codemirror_mode": {
    "name": "ipython",
    "version": 3
   },
   "file_extension": ".py",
   "mimetype": "text/x-python",
   "name": "python",
   "nbconvert_exporter": "python",
   "pygments_lexer": "ipython3",
   "version": "3.5.4"
  }
 },
 "nbformat": 4,
 "nbformat_minor": 2
}
