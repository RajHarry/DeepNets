{
 "cells": [
  {
   "cell_type": "code",
   "execution_count": null,
   "metadata": {},
   "outputs": [],
   "source": [
    "# Simple FNN where we learn embeddings"
   ]
  },
  {
   "cell_type": "code",
   "execution_count": 2,
   "metadata": {},
   "outputs": [],
   "source": [
    "%load_ext autoreload\n",
    "%autoreload 2"
   ]
  },
  {
   "cell_type": "code",
   "execution_count": null,
   "metadata": {},
   "outputs": [],
   "source": [
    "#load dataset and preprocess it to sequences of length 20"
   ]
  },
  {
   "cell_type": "code",
   "execution_count": 1,
   "metadata": {},
   "outputs": [],
   "source": [
    "from keras.datasets import imdb\n",
    "from keras import preprocessing"
   ]
  },
  {
   "cell_type": "code",
   "execution_count": null,
   "metadata": {},
   "outputs": [],
   "source": []
  },
  {
   "cell_type": "code",
   "execution_count": 5,
   "metadata": {},
   "outputs": [],
   "source": [
    "(X_train, y_train), (X_test, y_test) = imdb.load_data(num_words = 10000)"
   ]
  },
  {
   "cell_type": "code",
   "execution_count": 6,
   "metadata": {},
   "outputs": [],
   "source": [
    "X_train = preprocessing.sequence.pad_sequences(X_train, maxlen=20)\n",
    "X_test = preprocessing.sequence.pad_sequences(X_test, maxlen=20)"
   ]
  },
  {
   "cell_type": "code",
   "execution_count": null,
   "metadata": {},
   "outputs": [],
   "source": [
    "## model"
   ]
  },
  {
   "cell_type": "code",
   "execution_count": 7,
   "metadata": {},
   "outputs": [],
   "source": [
    "from keras import layers\n",
    "from keras.models import Sequential"
   ]
  },
  {
   "cell_type": "code",
   "execution_count": 13,
   "metadata": {},
   "outputs": [],
   "source": [
    "model = Sequential()\n",
    "model.add(layers.Embedding(input_dim=10000, output_dim=64, input_length=20))\n",
    "model.add(layers.Flatten())\n",
    "model.add(layers.Dense(1, activation='sigmoid'))\n"
   ]
  },
  {
   "cell_type": "code",
   "execution_count": 15,
   "metadata": {},
   "outputs": [
    {
     "name": "stdout",
     "output_type": "stream",
     "text": [
      "_________________________________________________________________\n",
      "Layer (type)                 Output Shape              Param #   \n",
      "=================================================================\n",
      "embedding_3 (Embedding)      (None, 20, 64)            640000    \n",
      "_________________________________________________________________\n",
      "flatten_2 (Flatten)          (None, 1280)              0         \n",
      "_________________________________________________________________\n",
      "dense_1 (Dense)              (None, 1)                 1281      \n",
      "=================================================================\n",
      "Total params: 641,281\n",
      "Trainable params: 641,281\n",
      "Non-trainable params: 0\n",
      "_________________________________________________________________\n"
     ]
    }
   ],
   "source": [
    "model.summary()"
   ]
  },
  {
   "cell_type": "code",
   "execution_count": 14,
   "metadata": {},
   "outputs": [],
   "source": [
    "model.compile(optimizer='adam',\n",
    "             loss='binary_crossentropy',\n",
    "             metrics=['acc'])"
   ]
  },
  {
   "cell_type": "code",
   "execution_count": 16,
   "metadata": {},
   "outputs": [
    {
     "name": "stdout",
     "output_type": "stream",
     "text": [
      "Train on 20000 samples, validate on 5000 samples\n",
      "Epoch 1/10\n",
      "20000/20000 [==============================] - 9s 460us/step - loss: 0.5862 - acc: 0.6916 - val_loss: 0.5030 - val_acc: 0.7426\n",
      "Epoch 2/10\n",
      "20000/20000 [==============================] - 8s 413us/step - loss: 0.3792 - acc: 0.8388 - val_loss: 0.4973 - val_acc: 0.7516\n",
      "Epoch 3/10\n",
      "20000/20000 [==============================] - 8s 402us/step - loss: 0.2314 - acc: 0.9238 - val_loss: 0.5361 - val_acc: 0.7402\n",
      "Epoch 4/10\n",
      "20000/20000 [==============================] - 8s 399us/step - loss: 0.1188 - acc: 0.9745 - val_loss: 0.5983 - val_acc: 0.7276\n",
      "Epoch 5/10\n",
      "20000/20000 [==============================] - 8s 402us/step - loss: 0.0583 - acc: 0.9931 - val_loss: 0.6609 - val_acc: 0.7330\n",
      "Epoch 6/10\n",
      "20000/20000 [==============================] - 8s 403us/step - loss: 0.0291 - acc: 0.9983 - val_loss: 0.7282 - val_acc: 0.7276\n",
      "Epoch 7/10\n",
      "20000/20000 [==============================] - 8s 404us/step - loss: 0.0156 - acc: 0.9998 - val_loss: 0.7857 - val_acc: 0.7264\n",
      "Epoch 8/10\n",
      "20000/20000 [==============================] - 8s 403us/step - loss: 0.0090 - acc: 0.9999 - val_loss: 0.8420 - val_acc: 0.7276\n",
      "Epoch 9/10\n",
      "20000/20000 [==============================] - 9s 429us/step - loss: 0.0057 - acc: 0.9999 - val_loss: 0.8946 - val_acc: 0.7274\n",
      "Epoch 10/10\n",
      "20000/20000 [==============================] - 8s 423us/step - loss: 0.0035 - acc: 1.0000 - val_loss: 0.9451 - val_acc: 0.7274\n"
     ]
    }
   ],
   "source": [
    "history = model.fit(X_train, y_train, epochs=10, batch_size=32, validation_split=0.2)"
   ]
  },
  {
   "cell_type": "code",
   "execution_count": null,
   "metadata": {},
   "outputs": [],
   "source": []
  }
 ],
 "metadata": {
  "kernelspec": {
   "display_name": "Python 3",
   "language": "python",
   "name": "python3"
  },
  "language_info": {
   "codemirror_mode": {
    "name": "ipython",
    "version": 3
   },
   "file_extension": ".py",
   "mimetype": "text/x-python",
   "name": "python",
   "nbconvert_exporter": "python",
   "pygments_lexer": "ipython3",
   "version": "3.5.4"
  }
 },
 "nbformat": 4,
 "nbformat_minor": 2
}
