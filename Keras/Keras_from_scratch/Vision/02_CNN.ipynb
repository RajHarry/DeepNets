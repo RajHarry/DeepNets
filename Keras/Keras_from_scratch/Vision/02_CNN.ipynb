{
 "cells": [
  {
   "cell_type": "markdown",
   "metadata": {},
   "source": [
    "# pull original data from folders via data generators"
   ]
  },
  {
   "cell_type": "code",
   "execution_count": 1,
   "metadata": {},
   "outputs": [],
   "source": [
    "%load_ext autoreload\n",
    "%autoreload 2\n",
    "%matplotlib inline"
   ]
  },
  {
   "cell_type": "code",
   "execution_count": 2,
   "metadata": {},
   "outputs": [],
   "source": [
    "import os\n",
    "from shutil import copyfile"
   ]
  },
  {
   "cell_type": "markdown",
   "metadata": {},
   "source": [
    "### create the directory structure"
   ]
  },
  {
   "cell_type": "markdown",
   "metadata": {},
   "source": [
    "create a folder structure \n",
    "\n",
    "+ Master_folder\n",
    "    + Train\n",
    "        + Cats\n",
    "        + Dogs\n",
    "    + Test\n",
    "        + Cats\n",
    "        + Dogs\n",
    "    + Validation\n",
    "        + Cats\n",
    "        + Dogs"
   ]
  },
  {
   "cell_type": "code",
   "execution_count": 3,
   "metadata": {},
   "outputs": [],
   "source": [
    "pwd_ = os.getcwd()"
   ]
  },
  {
   "cell_type": "code",
   "execution_count": 4,
   "metadata": {},
   "outputs": [
    {
     "name": "stdout",
     "output_type": "stream",
     "text": [
      "D:\\\n"
     ]
    }
   ],
   "source": [
    "#path = os.path.dirname(os.path.dirname(os.path.dirname(os.path.dirname(os.path.dirname(os.path.dirname(pwd_))))))\n",
    "\n",
    "path = os.path.dirname(os.path.dirname(os.path.dirname(os.path.dirname(os.path.dirname(os.path.dirname(pwd_))))))\n",
    "print(path)"
   ]
  },
  {
   "cell_type": "code",
   "execution_count": 5,
   "metadata": {},
   "outputs": [],
   "source": [
    "src_data_folder = os.path.join(os.path.join(path, \"Warehouse\"), \"train\")\n",
    "\n",
    "cat_src_data_folder = os.path.join(src_data_folder, \"cat\")\n",
    "dog_src_data_folder = os.path.join(src_data_folder, \"dog\")\n",
    "\n",
    "#cat_src_data_folder"
   ]
  },
  {
   "cell_type": "code",
   "execution_count": 6,
   "metadata": {},
   "outputs": [],
   "source": [
    "dest_data_folder = os.path.join(os.path.join(path, \"Warehouse\"), \"cats_and_dogs\")\n",
    "\n",
    "if not os.path.exists(dest_data_folder):\n",
    "    os.mkdir(dest_data_folder)"
   ]
  },
  {
   "cell_type": "code",
   "execution_count": 7,
   "metadata": {},
   "outputs": [],
   "source": [
    "train_dir = os.path.join(dest_data_folder, \"train\")\n",
    "cat_train_dir = os.path.join(train_dir, \"cat\")\n",
    "dog_train_dir = os.path.join(train_dir, \"dog\")\n",
    "\n",
    "\n",
    "test_dir = os.path.join(dest_data_folder, \"test\")\n",
    "cat_test_dir = os.path.join(test_dir, \"cat\")\n",
    "dog_test_dir = os.path.join(test_dir, \"dog\")\n",
    "\n",
    "\n",
    "validation_dir = os.path.join(dest_data_folder, \"validation\")\n",
    "cat_validation_dir = os.path.join(validation_dir, \"cat\")\n",
    "dog_validation_dir = os.path.join(validation_dir, \"dog\")\n"
   ]
  },
  {
   "cell_type": "code",
   "execution_count": 8,
   "metadata": {},
   "outputs": [],
   "source": [
    "if not os.path.exists(train_dir):\n",
    "    os.mkdir(train_dir)\n",
    "\n",
    "if not os.path.exists(cat_train_dir):\n",
    "    os.mkdir(cat_train_dir)\n",
    "    \n",
    "if not os.path.exists(dog_train_dir):\n",
    "    os.mkdir(dog_train_dir)\n",
    "    \n",
    "\n",
    "    \n",
    "if not os.path.exists(test_dir):\n",
    "    os.mkdir(test_dir)\n",
    "    \n",
    "if not os.path.exists(cat_test_dir):\n",
    "    os.mkdir(cat_test_dir)\n",
    "    \n",
    "if not os.path.exists(dog_test_dir):\n",
    "    os.mkdir(dog_test_dir)\n",
    "    \n",
    "\n",
    "    \n",
    "if not os.path.exists(validation_dir):\n",
    "    os.mkdir(validation_dir)\n",
    "    \n",
    "if not os.path.exists(cat_validation_dir):\n",
    "    os.mkdir(cat_validation_dir)\n",
    "    \n",
    "if not os.path.exists(dog_validation_dir):\n",
    "    os.mkdir(dog_validation_dir)"
   ]
  },
  {
   "cell_type": "markdown",
   "metadata": {},
   "source": [
    "### transfer files"
   ]
  },
  {
   "cell_type": "code",
   "execution_count": 9,
   "metadata": {},
   "outputs": [],
   "source": [
    "# first train files\n",
    "\n",
    "fnames = [\"cat.{}.jpg\".format(i) for i in range(0,2000)]\n",
    "\n",
    "for fname in fnames:\n",
    "    src = os.path.join(cat_src_data_folder, fname)\n",
    "    dest = os.path.join(cat_train_dir, fname)\n",
    "    copyfile(src, dest)"
   ]
  },
  {
   "cell_type": "code",
   "execution_count": 10,
   "metadata": {},
   "outputs": [],
   "source": [
    "fnames = [\"dog.{}.jpg\".format(i) for i in range(0,2000)]\n",
    "\n",
    "for fname in fnames:\n",
    "    src = os.path.join(dog_src_data_folder, fname)\n",
    "    dest = os.path.join(dog_train_dir, fname)\n",
    "    copyfile(src, dest)"
   ]
  },
  {
   "cell_type": "code",
   "execution_count": 11,
   "metadata": {},
   "outputs": [],
   "source": [
    "# now  test files\n",
    "\n",
    "fnames = [\"cat.{}.jpg\".format(i) for i in range(2000, 3000)]\n",
    "\n",
    "for fname in fnames:\n",
    "    src = os.path.join(cat_src_data_folder, fname)\n",
    "    dest = os.path.join(cat_test_dir, fname)\n",
    "    copyfile(src, dest)\n",
    "    \n",
    "fnames = [\"dog.{}.jpg\".format(i) for i in range(2000, 3000)]\n",
    "\n",
    "for fname in fnames:\n",
    "    src = os.path.join(dog_src_data_folder, fname)\n",
    "    dest = os.path.join(dog_test_dir, fname)\n",
    "    copyfile(src, dest)"
   ]
  },
  {
   "cell_type": "code",
   "execution_count": 12,
   "metadata": {},
   "outputs": [],
   "source": [
    "# now validation files\n",
    "\n",
    "fnames = [\"cat.{}.jpg\".format(i) for i in range(3000, 4000)]\n",
    "\n",
    "for fname in fnames:\n",
    "    src = os.path.join(cat_src_data_folder, fname)\n",
    "    dest = os.path.join(cat_validation_dir, fname)\n",
    "    copyfile(src, dest)\n",
    "    \n",
    "fnames = [\"dog.{}.jpg\".format(i) for i in range(3000, 4000)]\n",
    "\n",
    "for fname in fnames:\n",
    "    src = os.path.join(dog_src_data_folder, fname)\n",
    "    dest = os.path.join(dog_validation_dir, fname)\n",
    "    copyfile(src, dest)"
   ]
  },
  {
   "cell_type": "code",
   "execution_count": 13,
   "metadata": {},
   "outputs": [
    {
     "name": "stdout",
     "output_type": "stream",
     "text": [
      "2000\n",
      "2000\n",
      "\n",
      "\n",
      "1000\n",
      "1000\n",
      "\n",
      "\n",
      "1000\n",
      "1000\n",
      "\n",
      "\n"
     ]
    }
   ],
   "source": [
    "print(len(os.listdir(cat_train_dir)))\n",
    "print(len(os.listdir(dog_train_dir)))\n",
    "print(\"\\n\")\n",
    "\n",
    "print(len(os.listdir(cat_test_dir)))\n",
    "print(len(os.listdir(dog_test_dir)))\n",
    "print(\"\\n\")\n",
    "\n",
    "print(len(os.listdir(cat_validation_dir)))\n",
    "print(len(os.listdir(dog_validation_dir)))\n",
    "print(\"\\n\")"
   ]
  },
  {
   "cell_type": "markdown",
   "metadata": {},
   "source": [
    "### get the data generators in place"
   ]
  },
  {
   "cell_type": "code",
   "execution_count": 14,
   "metadata": {},
   "outputs": [
    {
     "name": "stderr",
     "output_type": "stream",
     "text": [
      "c:\\users\\a00439512\\appdata\\local\\continuum\\anaconda3\\envs\\demo\\lib\\site-packages\\h5py\\__init__.py:36: FutureWarning: Conversion of the second argument of issubdtype from `float` to `np.floating` is deprecated. In future, it will be treated as `np.float64 == np.dtype(float).type`.\n",
      "  from ._conv import register_converters as _register_converters\n",
      "Using TensorFlow backend.\n"
     ]
    }
   ],
   "source": [
    "from keras.preprocessing.image import ImageDataGenerator"
   ]
  },
  {
   "cell_type": "code",
   "execution_count": 15,
   "metadata": {},
   "outputs": [],
   "source": [
    "train_DG = ImageDataGenerator(rescale=1./255)\n",
    "\n",
    "valid_DG = ImageDataGenerator(rescale=1./255)"
   ]
  },
  {
   "cell_type": "code",
   "execution_count": 16,
   "metadata": {},
   "outputs": [
    {
     "name": "stdout",
     "output_type": "stream",
     "text": [
      "Found 4000 images belonging to 2 classes.\n",
      "Found 2000 images belonging to 2 classes.\n"
     ]
    }
   ],
   "source": [
    "t_DG = train_DG.flow_from_directory(\n",
    "    train_dir,\n",
    "    target_size=(150,150), \n",
    "    batch_size = 20,\n",
    "    class_mode='binary'\n",
    ")\n",
    "\n",
    "v_DG = valid_DG.flow_from_directory(\n",
    "    validation_dir,\n",
    "    target_size=(150,150), \n",
    "    batch_size = 20,\n",
    "    class_mode='binary'\n",
    ")\n"
   ]
  },
  {
   "cell_type": "markdown",
   "metadata": {},
   "source": [
    "### get the network\n"
   ]
  },
  {
   "cell_type": "code",
   "execution_count": 17,
   "metadata": {},
   "outputs": [],
   "source": [
    "from keras.models import Sequential\n",
    "from keras import layers"
   ]
  },
  {
   "cell_type": "code",
   "execution_count": 18,
   "metadata": {},
   "outputs": [],
   "source": [
    "model = Sequential()\n",
    "\n",
    "model.add(layers.Conv2D(32, kernel_size=(3,3), activation='relu', input_shape=(150,150,3)))\n",
    "model.add(layers.MaxPool2D(2,2))\n",
    "\n",
    "model.add(layers.Conv2D(64, kernel_size=(3,3), activation='relu'))\n",
    "model.add(layers.MaxPool2D(2,2))\n",
    "\n",
    "model.add(layers.Conv2D(128, kernel_size=(3,3), activation='relu'))\n",
    "model.add(layers.MaxPool2D(2,2))\n",
    "\n",
    "model.add(layers.Conv2D(256, kernel_size=(3,3), activation='relu'))\n",
    "model.add(layers.MaxPool2D(2,2))\n",
    "\n",
    "model.add(layers.Flatten())\n",
    "\n",
    "\n",
    "model.add(layers.Dense(512, activation='relu'))\n",
    "model.add(layers.Dense(1, activation='sigmoid'))"
   ]
  },
  {
   "cell_type": "code",
   "execution_count": 19,
   "metadata": {},
   "outputs": [
    {
     "name": "stdout",
     "output_type": "stream",
     "text": [
      "_________________________________________________________________\n",
      "Layer (type)                 Output Shape              Param #   \n",
      "=================================================================\n",
      "conv2d_1 (Conv2D)            (None, 148, 148, 32)      896       \n",
      "_________________________________________________________________\n",
      "max_pooling2d_1 (MaxPooling2 (None, 74, 74, 32)        0         \n",
      "_________________________________________________________________\n",
      "conv2d_2 (Conv2D)            (None, 72, 72, 64)        18496     \n",
      "_________________________________________________________________\n",
      "max_pooling2d_2 (MaxPooling2 (None, 36, 36, 64)        0         \n",
      "_________________________________________________________________\n",
      "conv2d_3 (Conv2D)            (None, 34, 34, 128)       73856     \n",
      "_________________________________________________________________\n",
      "max_pooling2d_3 (MaxPooling2 (None, 17, 17, 128)       0         \n",
      "_________________________________________________________________\n",
      "conv2d_4 (Conv2D)            (None, 15, 15, 256)       295168    \n",
      "_________________________________________________________________\n",
      "max_pooling2d_4 (MaxPooling2 (None, 7, 7, 256)         0         \n",
      "_________________________________________________________________\n",
      "flatten_1 (Flatten)          (None, 12544)             0         \n",
      "_________________________________________________________________\n",
      "dense_1 (Dense)              (None, 512)               6423040   \n",
      "_________________________________________________________________\n",
      "dense_2 (Dense)              (None, 1)                 513       \n",
      "=================================================================\n",
      "Total params: 6,811,969\n",
      "Trainable params: 6,811,969\n",
      "Non-trainable params: 0\n",
      "_________________________________________________________________\n"
     ]
    }
   ],
   "source": [
    "model.summary()"
   ]
  },
  {
   "cell_type": "code",
   "execution_count": 20,
   "metadata": {},
   "outputs": [],
   "source": [
    "model.compile(optimizer='adam',\n",
    "             loss='binary_crossentropy',\n",
    "             metrics=['acc'])"
   ]
  },
  {
   "cell_type": "code",
   "execution_count": 21,
   "metadata": {},
   "outputs": [
    {
     "name": "stdout",
     "output_type": "stream",
     "text": [
      "Epoch 1/30\n",
      "1/1 [==============================] - 27s 27s/step - loss: 0.6897 - acc: 0.6500 - val_loss: 2.0373 - val_acc: 0.5010\n",
      "Epoch 2/30\n",
      "1/1 [==============================] - 26s 26s/step - loss: 2.5500 - acc: 0.4000 - val_loss: 0.6982 - val_acc: 0.4990\n",
      "Epoch 3/30\n",
      "1/1 [==============================] - 26s 26s/step - loss: 0.6521 - acc: 0.7000 - val_loss: 0.6950 - val_acc: 0.5000\n",
      "Epoch 4/30\n",
      "1/1 [==============================] - 26s 26s/step - loss: 0.6848 - acc: 0.6500 - val_loss: 0.6968 - val_acc: 0.5000\n",
      "Epoch 5/30\n",
      "1/1 [==============================] - 28s 28s/step - loss: 0.6863 - acc: 0.6000 - val_loss: 0.6974 - val_acc: 0.4940\n",
      "Epoch 6/30\n",
      "1/1 [==============================] - 26s 26s/step - loss: 0.7039 - acc: 0.4500 - val_loss: 0.6943 - val_acc: 0.5060\n",
      "Epoch 7/30\n",
      "1/1 [==============================] - 29s 29s/step - loss: 0.7025 - acc: 0.4000 - val_loss: 0.6931 - val_acc: 0.5190\n",
      "Epoch 8/30\n",
      "1/1 [==============================] - 27s 27s/step - loss: 0.6940 - acc: 0.5000 - val_loss: 0.6937 - val_acc: 0.4810\n",
      "Epoch 9/30\n",
      "1/1 [==============================] - 27s 27s/step - loss: 0.6935 - acc: 0.5000 - val_loss: 0.6930 - val_acc: 0.5360\n",
      "Epoch 10/30\n",
      "1/1 [==============================] - 25s 25s/step - loss: 0.6932 - acc: 0.4500 - val_loss: 0.6930 - val_acc: 0.5210\n",
      "Epoch 11/30\n",
      "1/1 [==============================] - 27s 27s/step - loss: 0.6952 - acc: 0.3000 - val_loss: 0.6929 - val_acc: 0.5480\n",
      "Epoch 12/30\n",
      "1/1 [==============================] - 26s 26s/step - loss: 0.6935 - acc: 0.4500 - val_loss: 0.6927 - val_acc: 0.5000\n",
      "Epoch 13/30\n",
      "1/1 [==============================] - 26s 26s/step - loss: 0.6939 - acc: 0.3000 - val_loss: 0.6929 - val_acc: 0.5510\n",
      "Epoch 14/30\n",
      "1/1 [==============================] - 24s 24s/step - loss: 0.6923 - acc: 0.6500 - val_loss: 0.6926 - val_acc: 0.5560\n",
      "Epoch 15/30\n",
      "1/1 [==============================] - 26s 26s/step - loss: 0.6929 - acc: 0.5000 - val_loss: 0.6924 - val_acc: 0.5350\n",
      "Epoch 16/30\n",
      "1/1 [==============================] - 25s 25s/step - loss: 0.6921 - acc: 0.5500 - val_loss: 0.6924 - val_acc: 0.5050\n",
      "Epoch 17/30\n",
      "1/1 [==============================] - 25s 25s/step - loss: 0.6893 - acc: 0.7000 - val_loss: 0.6919 - val_acc: 0.5000\n",
      "Epoch 18/30\n",
      "1/1 [==============================] - 25s 25s/step - loss: 0.6839 - acc: 0.6000 - val_loss: 0.6930 - val_acc: 0.5000\n",
      "Epoch 19/30\n",
      "1/1 [==============================] - 25s 25s/step - loss: 0.7093 - acc: 0.4000 - val_loss: 0.6894 - val_acc: 0.5210\n",
      "Epoch 20/30\n",
      "1/1 [==============================] - 24s 24s/step - loss: 0.7044 - acc: 0.4000 - val_loss: 0.6944 - val_acc: 0.4790\n",
      "Epoch 21/30\n",
      "1/1 [==============================] - 25s 25s/step - loss: 0.7013 - acc: 0.4000 - val_loss: 0.6914 - val_acc: 0.5060\n",
      "Epoch 22/30\n",
      "1/1 [==============================] - 24s 24s/step - loss: 0.6837 - acc: 0.6500 - val_loss: 0.6922 - val_acc: 0.4950\n",
      "Epoch 23/30\n",
      "1/1 [==============================] - 25s 25s/step - loss: 0.6971 - acc: 0.4000 - val_loss: 0.6917 - val_acc: 0.5070\n",
      "Epoch 24/30\n",
      "1/1 [==============================] - 24s 24s/step - loss: 0.6974 - acc: 0.4000 - val_loss: 0.6919 - val_acc: 0.5090\n",
      "Epoch 25/30\n",
      "1/1 [==============================] - 24s 24s/step - loss: 0.6923 - acc: 0.5000 - val_loss: 0.6925 - val_acc: 0.5760\n",
      "Epoch 26/30\n",
      "1/1 [==============================] - 25s 25s/step - loss: 0.6928 - acc: 0.5500 - val_loss: 0.6921 - val_acc: 0.6070\n",
      "Epoch 27/30\n",
      "1/1 [==============================] - 25s 25s/step - loss: 0.6928 - acc: 0.6000 - val_loss: 0.6922 - val_acc: 0.6050\n",
      "Epoch 28/30\n",
      "1/1 [==============================] - 25s 25s/step - loss: 0.6927 - acc: 0.6000 - val_loss: 0.6924 - val_acc: 0.5460\n",
      "Epoch 29/30\n",
      "1/1 [==============================] - 24s 24s/step - loss: 0.6919 - acc: 0.6000 - val_loss: 0.6932 - val_acc: 0.4860\n",
      "Epoch 30/30\n",
      "1/1 [==============================] - 24s 24s/step - loss: 0.6897 - acc: 0.6500 - val_loss: 0.6930 - val_acc: 0.5150\n"
     ]
    }
   ],
   "source": [
    "history = model.fit_generator(\n",
    "            t_DG,\n",
    "            steps_per_epoch=1,\n",
    "            epochs=30,\n",
    "            validation_data = v_DG,\n",
    "            validation_steps=50\n",
    ")"
   ]
  },
  {
   "cell_type": "markdown",
   "metadata": {},
   "source": [
    "### Section 6\n",
    "    \n",
    "    Plotting"
   ]
  },
  {
   "cell_type": "code",
   "execution_count": 22,
   "metadata": {},
   "outputs": [],
   "source": [
    "import matplotlib.pyplot as plt"
   ]
  },
  {
   "cell_type": "code",
   "execution_count": 23,
   "metadata": {},
   "outputs": [],
   "source": [
    "acc = history.history['acc']\n",
    "val_acc = history.history['val_acc']\n",
    "\n",
    "loss = history.history['loss']\n",
    "val_loss = history.history['val_loss']"
   ]
  },
  {
   "cell_type": "code",
   "execution_count": 24,
   "metadata": {},
   "outputs": [],
   "source": [
    "epochs = range(1, len(acc) + 1)"
   ]
  },
  {
   "cell_type": "code",
   "execution_count": 25,
   "metadata": {},
   "outputs": [
    {
     "data": {
      "text/plain": [
       "<matplotlib.legend.Legend at 0xf0ada58>"
      ]
     },
     "execution_count": 25,
     "metadata": {},
     "output_type": "execute_result"
    },
    {
     "data": {
      "image/png": "[encoded data removed]",
      "text/plain": [
       "<matplotlib.figure.Figure at 0xe889ef0>"
      ]
     },
     "metadata": {},
     "output_type": "display_data"
    }
   ],
   "source": [
    "plt.plot(epochs, acc, 'bo', label='training accuracy')\n",
    "plt.plot(epochs, val_acc, 'b', label='Validation accuracy')\n",
    "\n",
    "plt.title('Training and Validation Accuracy')\n",
    "plt.legend()\n"
   ]
  },
  {
   "cell_type": "code",
   "execution_count": 26,
   "metadata": {},
   "outputs": [
    {
     "data": {
      "text/plain": [
       "<matplotlib.figure.Figure at 0xd05b048>"
      ]
     },
     "execution_count": 26,
     "metadata": {},
     "output_type": "execute_result"
    },
    {
     "data": {
      "text/plain": [
       "<matplotlib.figure.Figure at 0xd05b048>"
      ]
     },
     "metadata": {},
     "output_type": "display_data"
    }
   ],
   "source": [
    "plt.figure()"
   ]
  },
  {
   "cell_type": "code",
   "execution_count": 27,
   "metadata": {},
   "outputs": [
    {
     "data": {
      "text/plain": [
       "<matplotlib.legend.Legend at 0xee35b38>"
      ]
     },
     "execution_count": 27,
     "metadata": {},
     "output_type": "execute_result"
    },
    {
     "data": {
      "image/png": "[encoded data removed]",
      "text/plain": [
       "<matplotlib.figure.Figure at 0xed43198>"
      ]
     },
     "metadata": {},
     "output_type": "display_data"
    }
   ],
   "source": [
    "plt.plot(epochs, loss, 'bo', label='Training loss')\n",
    "plt.plot(epochs, val_loss, 'b', label='Validation Loss')\n",
    "\n",
    "plt.legend()"
   ]
  },
  {
   "cell_type": "code",
   "execution_count": 28,
   "metadata": {},
   "outputs": [],
   "source": [
    "plt.show()"
   ]
  },
  {
   "cell_type": "code",
   "execution_count": null,
   "metadata": {},
   "outputs": [],
   "source": []
  }
 ],
 "metadata": {
  "kernelspec": {
   "display_name": "Python 3",
   "language": "python",
   "name": "python3"
  },
  "language_info": {
   "codemirror_mode": {
    "name": "ipython",
    "version": 3
   },
   "file_extension": ".py",
   "mimetype": "text/x-python",
   "name": "python",
   "nbconvert_exporter": "python",
   "pygments_lexer": "ipython3",
   "version": "3.5.4"
  }
 },
 "nbformat": 4,
 "nbformat_minor": 2
}
