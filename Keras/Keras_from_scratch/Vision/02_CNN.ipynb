{
 "cells": [
  {
   "cell_type": "markdown",
   "metadata": {},
   "source": [
    "### We are not going to load all the data in RAM upfront\n",
    "\n",
    "Unlike last example, where we loaded the entire data in 1 go in the RAM, here we will load chunk by chunk and then train the model."
   ]
  },
  {
   "cell_type": "code",
   "execution_count": 1,
   "metadata": {},
   "outputs": [],
   "source": [
    "%load_ext autoreload\n",
    "%autoreload 2\n",
    "%matplotlib inline"
   ]
  },
  {
   "cell_type": "code",
   "execution_count": 2,
   "metadata": {},
   "outputs": [],
   "source": [
    "import os\n",
    "from shutil import copyfile"
   ]
  },
  {
   "cell_type": "markdown",
   "metadata": {},
   "source": [
    "create a folder structure \n",
    "\n",
    "+ Master_folder\n",
    "    + Train\n",
    "        + Cats\n",
    "        + Dogs\n",
    "    + Test\n",
    "        + Cats\n",
    "        + Dogs\n",
    "    + Validation\n",
    "        + Cats\n",
    "        + Dogs"
   ]
  },
  {
   "cell_type": "markdown",
   "metadata": {},
   "source": [
    "#### Setup the data paths"
   ]
  },
  {
   "cell_type": "code",
   "execution_count": 3,
   "metadata": {},
   "outputs": [
    {
     "data": {
      "text/plain": [
       "u'/Users/airwoot/Documents/Anuj/Coding/GitHub/DeepNets/Keras/Keras_from_scratch/Vision'"
      ]
     },
     "execution_count": 3,
     "metadata": {},
     "output_type": "execute_result"
    }
   ],
   "source": [
    "pwd"
   ]
  },
  {
   "cell_type": "code",
   "execution_count": 4,
   "metadata": {},
   "outputs": [],
   "source": [
    "base_path = \"/\"\n",
    "\n",
    "U = os.path.join(base_path, \"Users\")\n",
    "a = os.path.join(U, \"airwoot\")\n",
    "d = os.path.join(a, \"Documents\")\n",
    "A = os.path.join(d, \"Anuj\")\n",
    "W = os.path.join(A, \"Warehouse\")\n",
    "Data = os.path.join(W, \"train\")\n"
   ]
  },
  {
   "cell_type": "code",
   "execution_count": 5,
   "metadata": {},
   "outputs": [],
   "source": [
    "source_dir = Data\n",
    "dest_dir = os.path.join(W,\"cats_and_dogs_1\")"
   ]
  },
  {
   "cell_type": "code",
   "execution_count": 6,
   "metadata": {},
   "outputs": [
    {
     "name": "stdout",
     "output_type": "stream",
     "text": [
      "/Users/airwoot/Documents/Anuj/Warehouse/train\n",
      "/Users/airwoot/Documents/Anuj/Warehouse/cats_and_dogs_1\n",
      "['.DS_Store', 'CAT', 'DOG']\n"
     ]
    }
   ],
   "source": [
    "print(source_dir)\n",
    "print(dest_dir)\n",
    "\n",
    "print(os.listdir(source_dir))\n"
   ]
  },
  {
   "cell_type": "code",
   "execution_count": 7,
   "metadata": {},
   "outputs": [],
   "source": [
    "cat_source_dir = os.path.join(source_dir, \"CAT\")\n",
    "dog_source_dir = os.path.join(source_dir, \"DOG\")"
   ]
  },
  {
   "cell_type": "code",
   "execution_count": 8,
   "metadata": {},
   "outputs": [
    {
     "name": "stdout",
     "output_type": "stream",
     "text": [
      "12500\n",
      "12500\n"
     ]
    }
   ],
   "source": [
    "#count number of cat and dog files\n",
    "\n",
    "print(len(os.listdir(cat_source_dir)))\n",
    "print(len(os.listdir(dog_source_dir)))"
   ]
  },
  {
   "cell_type": "code",
   "execution_count": 9,
   "metadata": {},
   "outputs": [],
   "source": [
    "train_dest_dir = os.path.join(dest_dir, \"train\")\n",
    "test_dest_dir = os.path.join(dest_dir, \"test\")\n",
    "validation_dest_dir = os.path.join(dest_dir, \"validation\")"
   ]
  },
  {
   "cell_type": "code",
   "execution_count": 10,
   "metadata": {},
   "outputs": [],
   "source": [
    "cat_train_dir = os.path.join(train_dest_dir, \"cat\")\n",
    "dog_train_dir = os.path.join(train_dest_dir, \"dog\")\n",
    "\n",
    "cat_test_dir = os.path.join(test_dest_dir, \"cat\")\n",
    "dog_test_dir = os.path.join(test_dest_dir, \"dog\")\n",
    "\n",
    "\n",
    "cat_validation_dir = os.path.join(validation_dest_dir, \"cat\")\n",
    "dog_validation_dir = os.path.join(validation_dest_dir, \"dog\")"
   ]
  },
  {
   "cell_type": "code",
   "execution_count": 11,
   "metadata": {},
   "outputs": [
    {
     "name": "stdout",
     "output_type": "stream",
     "text": [
      "/Users/airwoot/Documents/Anuj/Warehouse/cats_and_dogs_1/train/cat\n",
      "/Users/airwoot/Documents/Anuj/Warehouse/cats_and_dogs_1/train/dog\n",
      "/Users/airwoot/Documents/Anuj/Warehouse/cats_and_dogs_1/test/cat\n",
      "/Users/airwoot/Documents/Anuj/Warehouse/cats_and_dogs_1/test/dog\n",
      "/Users/airwoot/Documents/Anuj/Warehouse/cats_and_dogs_1/validation/cat\n",
      "/Users/airwoot/Documents/Anuj/Warehouse/cats_and_dogs_1/validation/dog\n"
     ]
    }
   ],
   "source": [
    "print(cat_train_dir)\n",
    "print(dog_train_dir)\n",
    "\n",
    "print(cat_test_dir)\n",
    "print(dog_test_dir)\n",
    "\n",
    "print(cat_validation_dir)\n",
    "print(dog_validation_dir)"
   ]
  },
  {
   "cell_type": "code",
   "execution_count": 17,
   "metadata": {},
   "outputs": [],
   "source": [
    "## All paths are set, let us just create them\n",
    "\n",
    "if not(os.path.exists(dest_dir)):\n",
    "    os.mkdir(dest_dir)\n",
    "    \n",
    "if not(os.path.exists(train_dest_dir)):\n",
    "    os.mkdir(train_dest_dir)\n",
    "    \n",
    "if not(os.path.exists(test_dest_dir)):\n",
    "    os.mkdir(test_dest_dir)\n",
    "    \n",
    "if not(os.path.exists(validation_dest_dir)):\n",
    "    os.mkdir(validation_dest_dir)\n"
   ]
  },
  {
   "cell_type": "code",
   "execution_count": 18,
   "metadata": {},
   "outputs": [],
   "source": [
    "if not(os.path.exists(cat_train_dir)):\n",
    "    os.mkdir(cat_train_dir)\n",
    "if not(os.path.exists(dog_train_dir)):\n",
    "    os.mkdir(dog_train_dir)\n",
    "    \n",
    "if not(os.path.exists(cat_test_dir)):\n",
    "    os.mkdir(cat_test_dir)\n",
    "if not(os.path.exists(dog_test_dir)):\n",
    "    os.mkdir(dog_test_dir)\n",
    "\n",
    "if not(os.path.exists(cat_validation_dir)):\n",
    "    os.mkdir(cat_validation_dir)\n",
    "if not(os.path.exists(dog_validation_dir)):\n",
    "    os.mkdir(dog_validation_dir)"
   ]
  },
  {
   "cell_type": "code",
   "execution_count": 12,
   "metadata": {},
   "outputs": [
    {
     "name": "stdout",
     "output_type": "stream",
     "text": [
      "2000\n",
      "2000\n",
      "\n",
      "\n",
      "1000\n",
      "1000\n",
      "\n",
      "\n",
      "1000\n",
      "1000\n",
      "\n",
      "\n"
     ]
    }
   ],
   "source": [
    "print(len(os.listdir(cat_train_dir)))\n",
    "print(len(os.listdir(dog_train_dir)))\n",
    "print(\"\\n\")\n",
    "\n",
    "print(len(os.listdir(cat_test_dir)))\n",
    "print(len(os.listdir(dog_test_dir)))\n",
    "print(\"\\n\")\n",
    "\n",
    "print(len(os.listdir(cat_validation_dir)))\n",
    "print(len(os.listdir(dog_validation_dir)))\n",
    "print(\"\\n\")"
   ]
  },
  {
   "cell_type": "markdown",
   "metadata": {},
   "source": [
    "### We need to move data from source to dest \n",
    "    Per class 2000 train, 1000 test and 1000 validation "
   ]
  },
  {
   "cell_type": "code",
   "execution_count": 25,
   "metadata": {},
   "outputs": [
    {
     "name": "stdout",
     "output_type": "stream",
     "text": [
      "/Users/airwoot/Documents/Anuj/Warehouse/train/CAT/cat.0.jpg\n",
      "/Users/airwoot/Documents/Anuj/Warehouse/cats_and_dogs_1/train/cat/cat.0.jpg\n"
     ]
    }
   ],
   "source": [
    "# CAT -> train\n",
    "fnames = [\"cat.{}.jpg\".format(i) for i in range(0,2000)]\n",
    "print(fnames[:10])\n",
    "\n",
    "source_file = os.path.join(cat_source_dir, fnames[0])\n",
    "dest_file = os.path.join(cat_train_dir, fnames[0])\n",
    "\n",
    "print(source_file)\n",
    "print(dest_file)"
   ]
  },
  {
   "cell_type": "code",
   "execution_count": 26,
   "metadata": {},
   "outputs": [],
   "source": [
    "for fname in fnames:\n",
    "    source_file = os.path.join(cat_source_dir, fname)\n",
    "    dest_file = os.path.join(cat_train_dir, fname)\n",
    "    copyfile(source_file, dest_file)"
   ]
  },
  {
   "cell_type": "code",
   "execution_count": 28,
   "metadata": {},
   "outputs": [
    {
     "name": "stdout",
     "output_type": "stream",
     "text": [
      "['dog.0.jpg', 'dog.1.jpg', 'dog.2.jpg', 'dog.3.jpg', 'dog.4.jpg', 'dog.5.jpg', 'dog.6.jpg', 'dog.7.jpg', 'dog.8.jpg', 'dog.9.jpg']\n",
      "/Users/airwoot/Documents/Anuj/Warehouse/train/DOG/dog.0.jpg\n",
      "/Users/airwoot/Documents/Anuj/Warehouse/cats_and_dogs_1/train/dog/dog.0.jpg\n"
     ]
    }
   ],
   "source": [
    "# DOG -> train\n",
    "\n",
    "fnames = [\"dog.{}.jpg\".format(i) for i in range(0,2000)]\n",
    "print(fnames[:10])\n",
    "\n",
    "source_file = os.path.join(dog_source_dir, fnames[0])\n",
    "dest_file = os.path.join(dog_train_dir, fnames[0])\n",
    "\n",
    "print(source_file)\n",
    "print(dest_file)"
   ]
  },
  {
   "cell_type": "code",
   "execution_count": 29,
   "metadata": {},
   "outputs": [],
   "source": [
    "for fname in fnames:\n",
    "    source_file = os.path.join(dog_source_dir, fname)\n",
    "    dest_file = os.path.join(dog_train_dir, fname)\n",
    "    copyfile(source_file, dest_file)"
   ]
  },
  {
   "cell_type": "code",
   "execution_count": 30,
   "metadata": {},
   "outputs": [
    {
     "name": "stdout",
     "output_type": "stream",
     "text": [
      "['cat.2000.jpg', 'cat.2001.jpg', 'cat.2002.jpg', 'cat.2003.jpg', 'cat.2004.jpg', 'cat.2005.jpg', 'cat.2006.jpg', 'cat.2007.jpg', 'cat.2008.jpg', 'cat.2009.jpg']\n",
      "/Users/airwoot/Documents/Anuj/Warehouse/train/CAT/cat.2000.jpg\n",
      "/Users/airwoot/Documents/Anuj/Warehouse/cats_and_dogs_1/test/cat/cat.2000.jpg\n"
     ]
    }
   ],
   "source": [
    "# CAT -> test\n",
    "fnames = [\"cat.{}.jpg\".format(i) for i in range(2000, 3000)]\n",
    "print(fnames[:10])\n",
    "\n",
    "source_file = os.path.join(cat_source_dir, fnames[0])\n",
    "dest_file = os.path.join(cat_test_dir, fnames[0])\n",
    "\n",
    "print(source_file)\n",
    "print(dest_file)\n",
    "\n",
    "for fname in fnames:\n",
    "    source_file = os.path.join(cat_source_dir, fname)\n",
    "    dest_file = os.path.join(cat_test_dir, fname)\n",
    "    copyfile(source_file, dest_file)"
   ]
  },
  {
   "cell_type": "code",
   "execution_count": 31,
   "metadata": {},
   "outputs": [
    {
     "name": "stdout",
     "output_type": "stream",
     "text": [
      "['dog.2000.jpg', 'dog.2001.jpg', 'dog.2002.jpg', 'dog.2003.jpg', 'dog.2004.jpg', 'dog.2005.jpg', 'dog.2006.jpg', 'dog.2007.jpg', 'dog.2008.jpg', 'dog.2009.jpg']\n",
      "/Users/airwoot/Documents/Anuj/Warehouse/train/DOG/dog.2000.jpg\n",
      "/Users/airwoot/Documents/Anuj/Warehouse/cats_and_dogs_1/test/dog/dog.2000.jpg\n"
     ]
    }
   ],
   "source": [
    "# DOG -> test\n",
    "\n",
    "fnames = [\"dog.{}.jpg\".format(i) for i in range(2000, 3000)]\n",
    "print(fnames[:10])\n",
    "\n",
    "source_file = os.path.join(dog_source_dir, fnames[0])\n",
    "dest_file = os.path.join(dog_test_dir, fnames[0])\n",
    "\n",
    "print(source_file)\n",
    "print(dest_file)\n",
    "\n",
    "for fname in fnames:\n",
    "    source_file = os.path.join(dog_source_dir, fname)\n",
    "    dest_file = os.path.join(dog_test_dir, fname)\n",
    "    copyfile(source_file, dest_file)"
   ]
  },
  {
   "cell_type": "code",
   "execution_count": 32,
   "metadata": {},
   "outputs": [],
   "source": [
    "# CAT -> validation\n",
    "fnames = [\"cat.{}.jpg\".format(i) for i in range(3000, 4000)]\n",
    "\n",
    "for fname in fnames:\n",
    "    source_file = os.path.join(cat_source_dir, fname)\n",
    "    dest_file = os.path.join(cat_validation_dir, fname)\n",
    "    copyfile(source_file, dest_file)\n",
    "\n",
    "    \n",
    "# DOG -> validation\n",
    "fnames = [\"dog.{}.jpg\".format(i) for i in range(3000, 4000)]\n",
    "\n",
    "for fname in fnames:\n",
    "    source_file = os.path.join(dog_source_dir, fname)\n",
    "    dest_file = os.path.join(dog_validation_dir, fname)\n",
    "    copyfile(source_file, dest_file)\n",
    "    \n"
   ]
  },
  {
   "cell_type": "code",
   "execution_count": 13,
   "metadata": {},
   "outputs": [
    {
     "name": "stdout",
     "output_type": "stream",
     "text": [
      "2000\n",
      "2000\n",
      "\n",
      "\n",
      "1000\n",
      "1000\n",
      "\n",
      "\n",
      "1000\n",
      "1000\n",
      "\n",
      "\n"
     ]
    }
   ],
   "source": [
    "print(len(os.listdir(cat_train_dir)))\n",
    "print(len(os.listdir(dog_train_dir)))\n",
    "print(\"\\n\")\n",
    "\n",
    "print(len(os.listdir(cat_test_dir)))\n",
    "print(len(os.listdir(dog_test_dir)))\n",
    "print(\"\\n\")\n",
    "\n",
    "print(len(os.listdir(cat_validation_dir)))\n",
    "print(len(os.listdir(dog_validation_dir)))\n",
    "print(\"\\n\")"
   ]
  },
  {
   "cell_type": "code",
   "execution_count": 14,
   "metadata": {},
   "outputs": [],
   "source": [
    "# all files are set"
   ]
  },
  {
   "cell_type": "markdown",
   "metadata": {},
   "source": [
    "# create data generators"
   ]
  },
  {
   "cell_type": "code",
   "execution_count": 15,
   "metadata": {},
   "outputs": [
    {
     "name": "stderr",
     "output_type": "stream",
     "text": [
      "Using TensorFlow backend.\n"
     ]
    }
   ],
   "source": [
    "from keras.preprocessing.image import ImageDataGenerator"
   ]
  },
  {
   "cell_type": "code",
   "execution_count": 16,
   "metadata": {},
   "outputs": [],
   "source": [
    "# for training we need only train and validation DG\n",
    "\n",
    "train_DG = ImageDataGenerator(rescale=1.0/255)\n",
    "\n",
    "validation_DG = ImageDataGenerator(rescale=1.0/255)\n"
   ]
  },
  {
   "cell_type": "code",
   "execution_count": 17,
   "metadata": {},
   "outputs": [
    {
     "name": "stdout",
     "output_type": "stream",
     "text": [
      "Found 4000 images belonging to 2 classes.\n",
      "Found 2000 images belonging to 2 classes.\n"
     ]
    }
   ],
   "source": [
    "train_generator = train_DG.flow_from_directory(\n",
    "        train_dest_dir,\n",
    "        target_size=(150, 150),\n",
    "        batch_size=32,\n",
    "        class_mode='binary')\n",
    "\n",
    "validation_generator = validation_DG.flow_from_directory(\n",
    "        validation_dest_dir,\n",
    "        target_size=(150, 150),\n",
    "        batch_size=32,\n",
    "        class_mode='binary')"
   ]
  },
  {
   "cell_type": "markdown",
   "metadata": {},
   "source": [
    "# Network"
   ]
  },
  {
   "cell_type": "code",
   "execution_count": 18,
   "metadata": {},
   "outputs": [],
   "source": [
    "from keras.models import Sequential\n",
    "from keras.layers import Conv2D, MaxPool2D, Dense, Flatten"
   ]
  },
  {
   "cell_type": "code",
   "execution_count": 28,
   "metadata": {},
   "outputs": [],
   "source": [
    "model = Sequential()\n",
    "\n",
    "model.add(Conv2D(32, kernel_size=(3,3), activation='relu', input_shape=(150, 150, 3)))\n",
    "model.add(MaxPool2D(2,2))\n",
    "\n",
    "model.add(Conv2D(64, kernel_size=(3,3), activation='relu'))\n",
    "model.add(MaxPool2D(2,2))\n",
    "\n",
    "model.add(Flatten())\n",
    "\n",
    "model.add(Dense(512, activation='relu'))\n",
    "model.add(Dense(1, activation='sigmoid'))"
   ]
  },
  {
   "cell_type": "code",
   "execution_count": 29,
   "metadata": {},
   "outputs": [
    {
     "name": "stdout",
     "output_type": "stream",
     "text": [
      "_________________________________________________________________\n",
      "Layer (type)                 Output Shape              Param #   \n",
      "=================================================================\n",
      "conv2d_5 (Conv2D)            (None, 148, 148, 32)      896       \n",
      "_________________________________________________________________\n",
      "max_pooling2d_5 (MaxPooling2 (None, 74, 74, 32)        0         \n",
      "_________________________________________________________________\n",
      "conv2d_6 (Conv2D)            (None, 72, 72, 64)        18496     \n",
      "_________________________________________________________________\n",
      "max_pooling2d_6 (MaxPooling2 (None, 36, 36, 64)        0         \n",
      "_________________________________________________________________\n",
      "flatten_3 (Flatten)          (None, 82944)             0         \n",
      "_________________________________________________________________\n",
      "dense_5 (Dense)              (None, 512)               42467840  \n",
      "_________________________________________________________________\n",
      "dense_6 (Dense)              (None, 1)                 513       \n",
      "=================================================================\n",
      "Total params: 42,487,745\n",
      "Trainable params: 42,487,745\n",
      "Non-trainable params: 0\n",
      "_________________________________________________________________\n"
     ]
    }
   ],
   "source": [
    "model.summary()"
   ]
  },
  {
   "cell_type": "code",
   "execution_count": 30,
   "metadata": {},
   "outputs": [],
   "source": [
    "model.compile(optimizer='adam', loss='binary_crossentropy', metrics=['accuracy'])"
   ]
  },
  {
   "cell_type": "markdown",
   "metadata": {},
   "source": [
    "### Training Time"
   ]
  },
  {
   "cell_type": "code",
   "execution_count": 31,
   "metadata": {},
   "outputs": [
    {
     "name": "stdout",
     "output_type": "stream",
     "text": [
      "Epoch 1/2\n",
      "5/5 [==============================] - 583s 117s/step - loss: 5.9850 - acc: 0.4625 - val_loss: 8.0476 - val_acc: 0.5000\n",
      "Epoch 2/2\n",
      "5/5 [==============================] - 494s 99s/step - loss: 7.6500 - acc: 0.5250 - val_loss: 7.9761 - val_acc: 0.5000\n"
     ]
    }
   ],
   "source": [
    "history = model.fit_generator(train_generator,\n",
    "                                steps_per_epoch=5,\n",
    "                                epochs=2,\n",
    "                                validation_data=validation_generator,\n",
    "                                validation_steps=800)"
   ]
  },
  {
   "cell_type": "markdown",
   "metadata": {},
   "source": [
    "### Ploting"
   ]
  },
  {
   "cell_type": "code",
   "execution_count": 34,
   "metadata": {},
   "outputs": [],
   "source": [
    "from matplotlib import pyplot as plt"
   ]
  },
  {
   "cell_type": "code",
   "execution_count": 36,
   "metadata": {},
   "outputs": [
    {
     "data": {
      "text/plain": [
       "['acc', 'loss', 'val_acc', 'val_loss']"
      ]
     },
     "execution_count": 36,
     "metadata": {},
     "output_type": "execute_result"
    }
   ],
   "source": [
    "history.history.keys()"
   ]
  },
  {
   "cell_type": "code",
   "execution_count": 37,
   "metadata": {},
   "outputs": [],
   "source": [
    "training_error = history.history['loss']\n",
    "training_acc = history.history['acc']\n",
    "\n",
    "validation_error = history.history['val_loss']\n",
    "validation_acc = history.history['val_acc']"
   ]
  },
  {
   "cell_type": "code",
   "execution_count": 42,
   "metadata": {},
   "outputs": [],
   "source": [
    "num_of_epocs = range(1, (len(training_acc)+1))"
   ]
  },
  {
   "cell_type": "code",
   "execution_count": 45,
   "metadata": {},
   "outputs": [
    {
     "data": {
      "text/plain": [
       "[]"
      ]
     },
     "execution_count": 45,
     "metadata": {},
     "output_type": "execute_result"
    },
    {
     "data": {
      "image/png": "[encoded data removed]",
      "text/plain": [
       "<matplotlib.figure.Figure at 0xb2a559d10>"
      ]
     },
     "metadata": {
      "needs_background": "light"
     },
     "output_type": "display_data"
    }
   ],
   "source": [
    "plt.plot(num_of_epocs, training_error, 'b', label='training_error')\n",
    "plt.plot(num_of_epocs, validation_error, 'r', label='validation_error')\n",
    "\n",
    "plt.title(\"training and validation error\")\n",
    "plt.legend()\n",
    "\n",
    "plt.plot()"
   ]
  },
  {
   "cell_type": "code",
   "execution_count": 47,
   "metadata": {},
   "outputs": [
    {
     "data": {
      "text/plain": [
       "[]"
      ]
     },
     "execution_count": 47,
     "metadata": {},
     "output_type": "execute_result"
    },
    {
     "data": {
      "image/png": "[encoded data removed]",
      "text/plain": [
       "<matplotlib.figure.Figure at 0xb2a4102d0>"
      ]
     },
     "metadata": {
      "needs_background": "light"
     },
     "output_type": "display_data"
    }
   ],
   "source": [
    "plt.plot(num_of_epocs, training_acc, 'b', label='training_acc')\n",
    "plt.plot(num_of_epocs, validation_acc, 'r', label='validation_acc')\n",
    "\n",
    "plt.title(\"training and validation error\")\n",
    "plt.legend()\n",
    "\n",
    "plt.plot()"
   ]
  },
  {
   "cell_type": "code",
   "execution_count": null,
   "metadata": {},
   "outputs": [],
   "source": []
  }
 ],
 "metadata": {
  "kernelspec": {
   "display_name": "Python 2",
   "language": "python",
   "name": "python2"
  },
  "language_info": {
   "codemirror_mode": {
    "name": "ipython",
    "version": 2
   },
   "file_extension": ".py",
   "mimetype": "text/x-python",
   "name": "python",
   "nbconvert_exporter": "python",
   "pygments_lexer": "ipython2",
   "version": "2.7.15"
  }
 },
 "nbformat": 4,
 "nbformat_minor": 2
}
