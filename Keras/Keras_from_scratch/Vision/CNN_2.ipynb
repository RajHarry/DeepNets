{
 "cells": [
  {
   "cell_type": "code",
   "execution_count": null,
   "metadata": {},
   "outputs": [],
   "source": []
  },
  {
   "cell_type": "markdown",
   "metadata": {},
   "source": [
    "Train a CNN with less data\n",
    "    + Vanilla\n",
    "    + Data Aumentation\n",
    "    + Using pretrained for feature extraction \n",
    "    + transfer learning by fine tunning existing network"
   ]
  },
  {
   "cell_type": "code",
   "execution_count": 73,
   "metadata": {},
   "outputs": [],
   "source": [
    "%load_ext autoreload\n",
    "%autoreload 2\n",
    "%matplotlib inline"
   ]
  },
  {
   "cell_type": "code",
   "execution_count": 1,
   "metadata": {},
   "outputs": [],
   "source": [
    "import os\n",
    "import shutil"
   ]
  },
  {
   "cell_type": "markdown",
   "metadata": {},
   "source": [
    "### Section 1\n",
    "\n",
    "Create the following folder structure\n",
    "\n",
    "![title](1.PNG)"
   ]
  },
  {
   "cell_type": "code",
   "execution_count": 21,
   "metadata": {},
   "outputs": [],
   "source": [
    "original_dataset_dir = \"D:/Datasets/kaggle_cat_vs_dog\"\n",
    "cat_org_dataset_dir = os.path.join(original_dataset_dir, 'Cat')\n",
    "dog_org_dataset_dir = os.path.join(original_dataset_dir, 'Dog')"
   ]
  },
  {
   "cell_type": "code",
   "execution_count": 3,
   "metadata": {},
   "outputs": [],
   "source": [
    "base_dir = \"D:/Datasets/cats_and_dogs_small_1\""
   ]
  },
  {
   "cell_type": "code",
   "execution_count": null,
   "metadata": {},
   "outputs": [],
   "source": [
    "os.makedirs(base_dir)"
   ]
  },
  {
   "cell_type": "code",
   "execution_count": 11,
   "metadata": {},
   "outputs": [],
   "source": [
    "train_dir = os.path.join(base_dir, 'train')\n",
    "test_dir = os.path.join(base_dir, 'test')\n",
    "validation_dir = os.path.join(base_dir, 'validation')\n"
   ]
  },
  {
   "cell_type": "code",
   "execution_count": 12,
   "metadata": {},
   "outputs": [],
   "source": [
    "\n",
    "os.makedirs(train_dir)\n",
    "os.makedirs(test_dir)\n",
    "os.makedirs(validation_dir)"
   ]
  },
  {
   "cell_type": "code",
   "execution_count": 13,
   "metadata": {},
   "outputs": [],
   "source": [
    "train_cats_dir = os.path.join(train_dir, 'cats')\n",
    "test_cats_dir = os.path.join(test_dir, 'cats')\n",
    "validations_cats_dir = os.path.join(validation_dir, 'cats')"
   ]
  },
  {
   "cell_type": "code",
   "execution_count": 14,
   "metadata": {},
   "outputs": [],
   "source": [
    "os.makedirs(train_cats_dir)\n",
    "os.makedirs(test_cats_dir)\n",
    "os.makedirs(validations_cats_dir)"
   ]
  },
  {
   "cell_type": "code",
   "execution_count": 15,
   "metadata": {},
   "outputs": [],
   "source": [
    "train_dogs_dir = os.path.join(train_dir, 'dogs')\n",
    "test_dogs_dir = os.path.join(test_dir, 'dogs')\n",
    "validations_dogs_dir = os.path.join(validation_dir, 'dogs')"
   ]
  },
  {
   "cell_type": "code",
   "execution_count": 16,
   "metadata": {},
   "outputs": [],
   "source": [
    "os.makedirs(train_dogs_dir)\n",
    "os.makedirs(test_dogs_dir)\n",
    "os.makedirs(validations_dogs_dir)"
   ]
  },
  {
   "cell_type": "markdown",
   "metadata": {},
   "source": [
    "### Section 2\n",
    "\n",
    "Transfer the files to populate these folders - 2000, 1000, 1000 per class for training, validation and testing respectively"
   ]
  },
  {
   "cell_type": "code",
   "execution_count": 20,
   "metadata": {},
   "outputs": [
    {
     "name": "stdout",
     "output_type": "stream",
     "text": [
      "['0.jpg', '1.jpg', '2.jpg', '3.jpg', '4.jpg', '5.jpg', '6.jpg', '7.jpg', '8.jpg', '9.jpg']\n"
     ]
    }
   ],
   "source": [
    "# Cats first\n",
    "\n",
    "fnames = ['{}.jpg'.format(i) for i in range(2000)]\n",
    "print(fnames[:10])"
   ]
  },
  {
   "cell_type": "code",
   "execution_count": 22,
   "metadata": {},
   "outputs": [],
   "source": [
    "for fname in fnames:\n",
    "    \n",
    "    src = os.path.join(cat_org_dataset_dir, fname)\n",
    "    dest = os.path.join(train_cats_dir,fname)\n",
    "    shutil.copyfile(src, dest)"
   ]
  },
  {
   "cell_type": "code",
   "execution_count": 38,
   "metadata": {},
   "outputs": [
    {
     "name": "stdout",
     "output_type": "stream",
     "text": [
      "['2000.jpg', '2001.jpg', '2002.jpg', '2003.jpg', '2004.jpg', '2005.jpg', '2006.jpg', '2007.jpg', '2008.jpg', '2009.jpg']\n"
     ]
    }
   ],
   "source": [
    "fnames = ['{}.jpg'.format(i) for i in range(2000,3000)]\n",
    "print(fnames[:10])"
   ]
  },
  {
   "cell_type": "code",
   "execution_count": 39,
   "metadata": {},
   "outputs": [],
   "source": [
    "for fname in fnames:\n",
    "    \n",
    "    src = os.path.join(cat_org_dataset_dir, fname)\n",
    "    dest = os.path.join(test_cats_dir, fname)\n",
    "    shutil.copyfile(src, dest)"
   ]
  },
  {
   "cell_type": "code",
   "execution_count": 36,
   "metadata": {},
   "outputs": [
    {
     "name": "stdout",
     "output_type": "stream",
     "text": [
      "['3000.jpg', '3001.jpg', '3002.jpg', '3003.jpg', '3004.jpg', '3005.jpg', '3006.jpg', '3007.jpg', '3008.jpg', '3009.jpg']\n"
     ]
    }
   ],
   "source": [
    "fnames = ['{}.jpg'.format(i) for i in range(3000,4000)]\n",
    "print(fnames[:10])"
   ]
  },
  {
   "cell_type": "code",
   "execution_count": 37,
   "metadata": {},
   "outputs": [],
   "source": [
    "for fname in fnames:\n",
    "    \n",
    "    src = os.path.join(cat_org_dataset_dir, fname)\n",
    "    dest = os.path.join(validations_cats_dir, fname)\n",
    "    \n",
    "    shutil.copyfile(src,dest)"
   ]
  },
  {
   "cell_type": "code",
   "execution_count": 42,
   "metadata": {},
   "outputs": [
    {
     "name": "stdout",
     "output_type": "stream",
     "text": [
      "['0.jpg', '1.jpg', '2.jpg', '3.jpg', '4.jpg', '5.jpg', '6.jpg', '7.jpg', '8.jpg', '9.jpg']\n"
     ]
    }
   ],
   "source": [
    "# dogs now\n",
    "\n",
    "fnames = ['{}.jpg'.format(i) for i in range(2000)]\n",
    "print(fnames[:10])"
   ]
  },
  {
   "cell_type": "code",
   "execution_count": 43,
   "metadata": {},
   "outputs": [],
   "source": [
    "for fname in fnames:\n",
    "    \n",
    "    src = os.path.join(dog_org_dataset_dir, fname)\n",
    "    dest = os.path.join(train_dogs_dir, fname)\n",
    "    shutil.copyfile(src,dest)"
   ]
  },
  {
   "cell_type": "code",
   "execution_count": 45,
   "metadata": {},
   "outputs": [
    {
     "name": "stdout",
     "output_type": "stream",
     "text": [
      "['2000.jpg', '2001.jpg', '2002.jpg', '2003.jpg', '2004.jpg', '2005.jpg', '2006.jpg', '2007.jpg', '2008.jpg', '2009.jpg']\n"
     ]
    }
   ],
   "source": [
    "fnames = ['{}.jpg'.format(i) for i in range(2000,3000)]\n",
    "print(fnames[:10])"
   ]
  },
  {
   "cell_type": "code",
   "execution_count": 46,
   "metadata": {},
   "outputs": [],
   "source": [
    "for fname in fnames:\n",
    "    \n",
    "    src = os.path.join(dog_org_dataset_dir, fname)\n",
    "    dest = os.path.join(test_dogs_dir, fname)\n",
    "    shutil.copyfile(src, dest)"
   ]
  },
  {
   "cell_type": "code",
   "execution_count": 48,
   "metadata": {},
   "outputs": [
    {
     "name": "stdout",
     "output_type": "stream",
     "text": [
      "['3000.jpg', '3001.jpg', '3002.jpg', '3003.jpg', '3004.jpg', '3005.jpg', '3006.jpg', '3007.jpg', '3008.jpg', '3009.jpg']\n"
     ]
    }
   ],
   "source": [
    "fnames = ['{}.jpg'.format(i) for i in range(3000,4000)]\n",
    "print(fnames[:10])"
   ]
  },
  {
   "cell_type": "code",
   "execution_count": 49,
   "metadata": {},
   "outputs": [],
   "source": [
    "for fname in fnames:\n",
    "    \n",
    "    src = os.path.join(dog_org_dataset_dir, fname)\n",
    "    dest = os.path.join(validations_dogs_dir, fname)\n",
    "    shutil.copyfile(src, dest)"
   ]
  },
  {
   "cell_type": "code",
   "execution_count": 51,
   "metadata": {},
   "outputs": [
    {
     "name": "stdout",
     "output_type": "stream",
     "text": [
      "2000\n",
      "2000\n",
      "1000\n",
      "1000\n",
      "1000\n",
      "1000\n"
     ]
    }
   ],
   "source": [
    "# sanity checks - count number of files in each folder\n",
    "\n",
    "print(len(os.listdir(train_cats_dir)))\n",
    "print(len(os.listdir(train_dogs_dir)))\n",
    "\n",
    "print(len(os.listdir(test_cats_dir)))\n",
    "print(len(os.listdir(test_dogs_dir)))\n",
    "\n",
    "print(len(os.listdir(validations_cats_dir)))\n",
    "print(len(os.listdir(validations_dogs_dir)))"
   ]
  },
  {
   "cell_type": "markdown",
   "metadata": {},
   "source": [
    "### Section 3\n",
    "\n",
    "Define the network"
   ]
  },
  {
   "cell_type": "code",
   "execution_count": 54,
   "metadata": {},
   "outputs": [],
   "source": [
    "from keras import Sequential\n",
    "from keras import layers"
   ]
  },
  {
   "cell_type": "code",
   "execution_count": 58,
   "metadata": {},
   "outputs": [],
   "source": [
    "model = Sequential()\n",
    "\n",
    "model.add(layers.Conv2D(filters=32, kernel_size=(3,3), activation='relu', input_shape=(150,150,3)))\n",
    "model.add(layers.MaxPooling2D(2,2))\n",
    "\n",
    "model.add(layers.Conv2D(filters=64, kernel_size=(3,3), activation='relu'))\n",
    "model.add(layers.MaxPooling2D(2,2))\n",
    "\n",
    "model.add(layers.Conv2D(filters=128, kernel_size=(3,3), activation='relu'))\n",
    "model.add(layers.MaxPooling2D(2,2))\n",
    "\n",
    "model.add(layers.Conv2D(filters=128, kernel_size=(3,3), activation='relu'))\n",
    "model.add(layers.MaxPooling2D(2,2))\n",
    "\n",
    "model.add(layers.Flatten())\n",
    "\n",
    "model.add(layers.Dense(512, activation='relu'))\n",
    "model.add(layers.Dense(1, activation='sigmoid'))\n"
   ]
  },
  {
   "cell_type": "code",
   "execution_count": 59,
   "metadata": {},
   "outputs": [
    {
     "name": "stdout",
     "output_type": "stream",
     "text": [
      "_________________________________________________________________\n",
      "Layer (type)                 Output Shape              Param #   \n",
      "=================================================================\n",
      "conv2d_5 (Conv2D)            (None, 148, 148, 32)      896       \n",
      "_________________________________________________________________\n",
      "max_pooling2d_5 (MaxPooling2 (None, 74, 74, 32)        0         \n",
      "_________________________________________________________________\n",
      "conv2d_6 (Conv2D)            (None, 72, 72, 64)        18496     \n",
      "_________________________________________________________________\n",
      "max_pooling2d_6 (MaxPooling2 (None, 36, 36, 64)        0         \n",
      "_________________________________________________________________\n",
      "conv2d_7 (Conv2D)            (None, 34, 34, 128)       73856     \n",
      "_________________________________________________________________\n",
      "max_pooling2d_7 (MaxPooling2 (None, 17, 17, 128)       0         \n",
      "_________________________________________________________________\n",
      "conv2d_8 (Conv2D)            (None, 15, 15, 128)       147584    \n",
      "_________________________________________________________________\n",
      "max_pooling2d_8 (MaxPooling2 (None, 7, 7, 128)         0         \n",
      "_________________________________________________________________\n",
      "flatten_2 (Flatten)          (None, 6272)              0         \n",
      "_________________________________________________________________\n",
      "dense_2 (Dense)              (None, 512)               3211776   \n",
      "_________________________________________________________________\n",
      "dense_3 (Dense)              (None, 1)                 513       \n",
      "=================================================================\n",
      "Total params: 3,453,121\n",
      "Trainable params: 3,453,121\n",
      "Non-trainable params: 0\n",
      "_________________________________________________________________\n"
     ]
    }
   ],
   "source": [
    "model.summary()"
   ]
  },
  {
   "cell_type": "code",
   "execution_count": 60,
   "metadata": {},
   "outputs": [],
   "source": [
    "model.compile(optimizer='adam',\n",
    "             loss='binary_crossentropy',\n",
    "             metrics=['acc'])"
   ]
  },
  {
   "cell_type": "markdown",
   "metadata": {},
   "source": [
    "### Section 4\n",
    "\n",
    "Data preprocessing\n",
    "\n",
    "1. Read the picture files.\n",
    "2. Decode the JPEG content to RGB grids of pixels.\n",
    "3. Convert these into floating-point tensors.\n",
    "4. Rescale the pixel values (between 0 and 255) to the [0, 1] interval (as you know,\n",
    "neural networks prefer to deal with small input values)."
   ]
  },
  {
   "cell_type": "code",
   "execution_count": 62,
   "metadata": {},
   "outputs": [],
   "source": [
    "from keras.preprocessing.image import ImageDataGenerator"
   ]
  },
  {
   "cell_type": "code",
   "execution_count": 69,
   "metadata": {},
   "outputs": [],
   "source": [
    "train_datagen = ImageDataGenerator(rescale=1./255) # rescale by 1/255\n",
    "validation_datagen = ImageDataGenerator(rescale=1./255)"
   ]
  },
  {
   "cell_type": "code",
   "execution_count": 65,
   "metadata": {},
   "outputs": [
    {
     "name": "stdout",
     "output_type": "stream",
     "text": [
      "Found 4000 images belonging to 2 classes.\n"
     ]
    }
   ],
   "source": [
    "train_generator = train_datagen.flow_from_directory(\n",
    "    train_dir,\n",
    "    target_size=(150,150),\n",
    "    batch_size=20,\n",
    "    class_mode='binary'\n",
    ")"
   ]
  },
  {
   "cell_type": "code",
   "execution_count": 70,
   "metadata": {},
   "outputs": [
    {
     "name": "stdout",
     "output_type": "stream",
     "text": [
      "Found 2000 images belonging to 2 classes.\n"
     ]
    }
   ],
   "source": [
    "validation_generator = validation_datagen.flow_from_directory(\n",
    "    validation_dir,\n",
    "    target_size=(150, 150),\n",
    "    batch_size=20,\n",
    "    class_mode='binary'\n",
    ")"
   ]
  },
  {
   "cell_type": "code",
   "execution_count": 71,
   "metadata": {
    "collapsed": true
   },
   "outputs": [
    {
     "name": "stdout",
     "output_type": "stream",
     "text": [
      "(20, 150, 150, 3)\n",
      "(20,)\n",
      "(20, 150, 150, 3)\n",
      "(20,)\n",
      "(20, 150, 150, 3)\n",
      "(20,)\n",
      "(20, 150, 150, 3)\n",
      "(20,)\n",
      "(20, 150, 150, 3)\n",
      "(20,)\n",
      "(20, 150, 150, 3)\n",
      "(20,)\n",
      "(20, 150, 150, 3)\n",
      "(20,)\n",
      "(20, 150, 150, 3)\n",
      "(20,)\n",
      "(20, 150, 150, 3)\n",
      "(20,)\n",
      "(20, 150, 150, 3)\n",
      "(20,)\n",
      "(20, 150, 150, 3)\n",
      "(20,)\n",
      "(20, 150, 150, 3)\n",
      "(20,)\n",
      "(20, 150, 150, 3)\n",
      "(20,)\n",
      "(20, 150, 150, 3)\n",
      "(20,)\n",
      "(20, 150, 150, 3)\n",
      "(20,)\n",
      "(20, 150, 150, 3)\n",
      "(20,)\n",
      "(20, 150, 150, 3)\n",
      "(20,)\n",
      "(20, 150, 150, 3)\n",
      "(20,)\n",
      "(20, 150, 150, 3)\n",
      "(20,)\n",
      "(20, 150, 150, 3)\n",
      "(20,)\n",
      "(20, 150, 150, 3)\n",
      "(20,)\n",
      "(20, 150, 150, 3)\n",
      "(20,)\n",
      "(20, 150, 150, 3)\n",
      "(20,)\n",
      "(20, 150, 150, 3)\n",
      "(20,)\n",
      "(20, 150, 150, 3)\n",
      "(20,)\n",
      "(20, 150, 150, 3)\n",
      "(20,)\n",
      "(20, 150, 150, 3)\n",
      "(20,)\n",
      "(20, 150, 150, 3)\n",
      "(20,)\n",
      "(20, 150, 150, 3)\n",
      "(20,)\n",
      "(20, 150, 150, 3)\n",
      "(20,)\n",
      "(20, 150, 150, 3)\n",
      "(20,)\n",
      "(20, 150, 150, 3)\n",
      "(20,)\n"
     ]
    },
    {
     "name": "stderr",
     "output_type": "stream",
     "text": [
      "c:\\users\\a00439512\\appdata\\local\\continuum\\anaconda3\\envs\\demo\\lib\\site-packages\\PIL\\TiffImagePlugin.py:725: UserWarning: Possibly corrupt EXIF data.  Expecting to read 80000 bytes but only got 0. Skipping tag 64640\n",
      "  \" Skipping tag %s\" % (size, len(data), tag))\n",
      "c:\\users\\a00439512\\appdata\\local\\continuum\\anaconda3\\envs\\demo\\lib\\site-packages\\PIL\\TiffImagePlugin.py:725: UserWarning: Possibly corrupt EXIF data.  Expecting to read 65536 bytes but only got 0. Skipping tag 3\n",
      "  \" Skipping tag %s\" % (size, len(data), tag))\n",
      "c:\\users\\a00439512\\appdata\\local\\continuum\\anaconda3\\envs\\demo\\lib\\site-packages\\PIL\\TiffImagePlugin.py:725: UserWarning: Possibly corrupt EXIF data.  Expecting to read 404094976 bytes but only got 0. Skipping tag 5\n",
      "  \" Skipping tag %s\" % (size, len(data), tag))\n",
      "c:\\users\\a00439512\\appdata\\local\\continuum\\anaconda3\\envs\\demo\\lib\\site-packages\\PIL\\TiffImagePlugin.py:725: UserWarning: Possibly corrupt EXIF data.  Expecting to read 404619264 bytes but only got 0. Skipping tag 5\n",
      "  \" Skipping tag %s\" % (size, len(data), tag))\n",
      "c:\\users\\a00439512\\appdata\\local\\continuum\\anaconda3\\envs\\demo\\lib\\site-packages\\PIL\\TiffImagePlugin.py:725: UserWarning: Possibly corrupt EXIF data.  Expecting to read 131072 bytes but only got 0. Skipping tag 3\n",
      "  \" Skipping tag %s\" % (size, len(data), tag))\n",
      "c:\\users\\a00439512\\appdata\\local\\continuum\\anaconda3\\envs\\demo\\lib\\site-packages\\PIL\\TiffImagePlugin.py:725: UserWarning: Possibly corrupt EXIF data.  Expecting to read 425459712 bytes but only got 0. Skipping tag 4\n",
      "  \" Skipping tag %s\" % (size, len(data), tag))\n",
      "c:\\users\\a00439512\\appdata\\local\\continuum\\anaconda3\\envs\\demo\\lib\\site-packages\\PIL\\TiffImagePlugin.py:725: UserWarning: Possibly corrupt EXIF data.  Expecting to read 1385474 bytes but only got 6833. Skipping tag 513\n",
      "  \" Skipping tag %s\" % (size, len(data), tag))\n",
      "c:\\users\\a00439512\\appdata\\local\\continuum\\anaconda3\\envs\\demo\\lib\\site-packages\\PIL\\TiffImagePlugin.py:725: UserWarning: Possibly corrupt EXIF data.  Expecting to read 3846701056 bytes but only got 0. Skipping tag 2\n",
      "  \" Skipping tag %s\" % (size, len(data), tag))\n",
      "c:\\users\\a00439512\\appdata\\local\\continuum\\anaconda3\\envs\\demo\\lib\\site-packages\\PIL\\TiffImagePlugin.py:725: UserWarning: Possibly corrupt EXIF data.  Expecting to read 3300917248 bytes but only got 0. Skipping tag 7\n",
      "  \" Skipping tag %s\" % (size, len(data), tag))\n",
      "c:\\users\\a00439512\\appdata\\local\\continuum\\anaconda3\\envs\\demo\\lib\\site-packages\\PIL\\TiffImagePlugin.py:725: UserWarning: Possibly corrupt EXIF data.  Expecting to read 196867 bytes but only got 6833. Skipping tag 0\n",
      "  \" Skipping tag %s\" % (size, len(data), tag))\n",
      "c:\\users\\a00439512\\appdata\\local\\continuum\\anaconda3\\envs\\demo\\lib\\site-packages\\PIL\\TiffImagePlugin.py:742: UserWarning: Corrupt EXIF data.  Expecting to read 12 bytes but only got 8. \n",
      "  warnings.warn(str(msg))\n"
     ]
    },
    {
     "name": "stdout",
     "output_type": "stream",
     "text": [
      "(20, 150, 150, 3)\n",
      "(20,)\n",
      "(20, 150, 150, 3)\n",
      "(20,)\n",
      "(20, 150, 150, 3)\n",
      "(20,)\n",
      "(20, 150, 150, 3)\n",
      "(20,)\n",
      "(20, 150, 150, 3)\n",
      "(20,)\n",
      "(20, 150, 150, 3)\n",
      "(20,)\n",
      "(20, 150, 150, 3)\n",
      "(20,)\n",
      "(20, 150, 150, 3)\n",
      "(20,)\n",
      "(20, 150, 150, 3)\n",
      "(20,)\n",
      "(20, 150, 150, 3)\n",
      "(20,)\n",
      "(20, 150, 150, 3)\n",
      "(20,)\n",
      "(20, 150, 150, 3)\n",
      "(20,)\n",
      "(20, 150, 150, 3)\n",
      "(20,)\n",
      "(20, 150, 150, 3)\n",
      "(20,)\n",
      "(20, 150, 150, 3)\n",
      "(20,)\n",
      "(20, 150, 150, 3)\n",
      "(20,)\n",
      "(20, 150, 150, 3)\n",
      "(20,)\n",
      "(20, 150, 150, 3)\n",
      "(20,)\n",
      "(20, 150, 150, 3)\n",
      "(20,)\n",
      "(20, 150, 150, 3)\n",
      "(20,)\n",
      "(20, 150, 150, 3)\n",
      "(20,)\n",
      "(20, 150, 150, 3)\n",
      "(20,)\n",
      "(20, 150, 150, 3)\n",
      "(20,)\n",
      "(20, 150, 150, 3)\n",
      "(20,)\n",
      "(20, 150, 150, 3)\n",
      "(20,)\n",
      "(20, 150, 150, 3)\n",
      "(20,)\n",
      "(20, 150, 150, 3)\n",
      "(20,)\n",
      "(20, 150, 150, 3)\n",
      "(20,)\n",
      "(20, 150, 150, 3)\n",
      "(20,)\n",
      "(20, 150, 150, 3)\n",
      "(20,)\n",
      "(20, 150, 150, 3)\n",
      "(20,)\n",
      "(20, 150, 150, 3)\n",
      "(20,)\n",
      "(20, 150, 150, 3)\n",
      "(20,)\n",
      "(20, 150, 150, 3)\n",
      "(20,)\n",
      "(20, 150, 150, 3)\n",
      "(20,)\n",
      "(20, 150, 150, 3)\n",
      "(20,)\n",
      "(20, 150, 150, 3)\n",
      "(20,)\n",
      "(20, 150, 150, 3)\n",
      "(20,)\n",
      "(20, 150, 150, 3)\n",
      "(20,)\n",
      "(20, 150, 150, 3)\n",
      "(20,)\n",
      "(20, 150, 150, 3)\n",
      "(20,)\n",
      "(20, 150, 150, 3)\n",
      "(20,)\n",
      "(20, 150, 150, 3)\n",
      "(20,)\n",
      "(20, 150, 150, 3)\n",
      "(20,)\n",
      "(20, 150, 150, 3)\n",
      "(20,)\n",
      "(20, 150, 150, 3)\n",
      "(20,)\n",
      "(20, 150, 150, 3)\n",
      "(20,)\n",
      "(20, 150, 150, 3)\n",
      "(20,)\n",
      "(20, 150, 150, 3)\n",
      "(20,)\n",
      "(20, 150, 150, 3)\n",
      "(20,)\n",
      "(20, 150, 150, 3)\n",
      "(20,)\n",
      "(20, 150, 150, 3)\n",
      "(20,)\n",
      "(20, 150, 150, 3)\n",
      "(20,)\n",
      "(20, 150, 150, 3)\n",
      "(20,)\n",
      "(20, 150, 150, 3)\n",
      "(20,)\n",
      "(20, 150, 150, 3)\n",
      "(20,)\n",
      "(20, 150, 150, 3)\n",
      "(20,)\n",
      "(20, 150, 150, 3)\n",
      "(20,)\n",
      "(20, 150, 150, 3)\n",
      "(20,)\n",
      "(20, 150, 150, 3)\n",
      "(20,)\n",
      "(20, 150, 150, 3)\n",
      "(20,)\n",
      "(20, 150, 150, 3)\n",
      "(20,)\n",
      "(20, 150, 150, 3)\n",
      "(20,)\n",
      "(20, 150, 150, 3)\n",
      "(20,)\n",
      "(20, 150, 150, 3)\n",
      "(20,)\n",
      "(20, 150, 150, 3)\n",
      "(20,)\n",
      "(20, 150, 150, 3)\n",
      "(20,)\n",
      "(20, 150, 150, 3)\n",
      "(20,)\n",
      "(20, 150, 150, 3)\n",
      "(20,)\n",
      "(20, 150, 150, 3)\n",
      "(20,)\n",
      "(20, 150, 150, 3)\n",
      "(20,)\n",
      "(20, 150, 150, 3)\n",
      "(20,)\n",
      "(20, 150, 150, 3)\n",
      "(20,)\n",
      "(20, 150, 150, 3)\n",
      "(20,)\n",
      "(20, 150, 150, 3)\n",
      "(20,)\n",
      "(20, 150, 150, 3)\n",
      "(20,)\n",
      "(20, 150, 150, 3)\n",
      "(20,)\n",
      "(20, 150, 150, 3)\n",
      "(20,)\n",
      "(20, 150, 150, 3)\n",
      "(20,)\n",
      "(20, 150, 150, 3)\n",
      "(20,)\n",
      "(20, 150, 150, 3)\n",
      "(20,)\n",
      "(20, 150, 150, 3)\n",
      "(20,)\n",
      "(20, 150, 150, 3)\n",
      "(20,)\n",
      "(20, 150, 150, 3)\n",
      "(20,)\n",
      "(20, 150, 150, 3)\n",
      "(20,)\n",
      "(20, 150, 150, 3)\n",
      "(20,)\n",
      "(20, 150, 150, 3)\n",
      "(20,)\n",
      "(20, 150, 150, 3)\n",
      "(20,)\n",
      "(20, 150, 150, 3)\n",
      "(20,)\n",
      "(20, 150, 150, 3)\n",
      "(20,)\n",
      "(20, 150, 150, 3)\n",
      "(20,)\n",
      "(20, 150, 150, 3)\n",
      "(20,)\n",
      "(20, 150, 150, 3)\n",
      "(20,)\n",
      "(20, 150, 150, 3)\n",
      "(20,)\n",
      "(20, 150, 150, 3)\n",
      "(20,)\n",
      "(20, 150, 150, 3)\n",
      "(20,)\n",
      "(20, 150, 150, 3)\n",
      "(20,)\n",
      "(20, 150, 150, 3)\n",
      "(20,)\n",
      "(20, 150, 150, 3)\n",
      "(20,)\n",
      "(20, 150, 150, 3)\n",
      "(20,)\n",
      "(20, 150, 150, 3)\n",
      "(20,)\n",
      "(20, 150, 150, 3)\n",
      "(20,)\n",
      "(20, 150, 150, 3)\n",
      "(20,)\n",
      "(20, 150, 150, 3)\n",
      "(20,)\n",
      "(20, 150, 150, 3)\n",
      "(20,)\n",
      "(20, 150, 150, 3)\n",
      "(20,)\n",
      "(20, 150, 150, 3)\n",
      "(20,)\n",
      "(20, 150, 150, 3)\n",
      "(20,)\n",
      "(20, 150, 150, 3)\n",
      "(20,)\n",
      "(20, 150, 150, 3)\n",
      "(20,)\n",
      "(20, 150, 150, 3)\n",
      "(20,)\n",
      "(20, 150, 150, 3)\n",
      "(20,)\n",
      "(20, 150, 150, 3)\n",
      "(20,)\n",
      "(20, 150, 150, 3)\n",
      "(20,)\n",
      "(20, 150, 150, 3)\n",
      "(20,)\n"
     ]
    },
    {
     "name": "stderr",
     "output_type": "stream",
     "text": [
      "c:\\users\\a00439512\\appdata\\local\\continuum\\anaconda3\\envs\\demo\\lib\\site-packages\\PIL\\TiffImagePlugin.py:725: UserWarning: Possibly corrupt EXIF data.  Expecting to read 6553600 bytes but only got 0. Skipping tag 49\n",
      "  \" Skipping tag %s\" % (size, len(data), tag))\n",
      "c:\\users\\a00439512\\appdata\\local\\continuum\\anaconda3\\envs\\demo\\lib\\site-packages\\PIL\\TiffImagePlugin.py:725: UserWarning: Possibly corrupt EXIF data.  Expecting to read 1050744 bytes but only got 4951. Skipping tag 51\n",
      "  \" Skipping tag %s\" % (size, len(data), tag))\n",
      "c:\\users\\a00439512\\appdata\\local\\continuum\\anaconda3\\envs\\demo\\lib\\site-packages\\PIL\\TiffImagePlugin.py:725: UserWarning: Possibly corrupt EXIF data.  Expecting to read 293339136 bytes but only got 0. Skipping tag 5\n",
      "  \" Skipping tag %s\" % (size, len(data), tag))\n",
      "c:\\users\\a00439512\\appdata\\local\\continuum\\anaconda3\\envs\\demo\\lib\\site-packages\\PIL\\TiffImagePlugin.py:725: UserWarning: Possibly corrupt EXIF data.  Expecting to read 293863424 bytes but only got 0. Skipping tag 5\n",
      "  \" Skipping tag %s\" % (size, len(data), tag))\n",
      "c:\\users\\a00439512\\appdata\\local\\continuum\\anaconda3\\envs\\demo\\lib\\site-packages\\PIL\\TiffImagePlugin.py:725: UserWarning: Possibly corrupt EXIF data.  Expecting to read 3368026112 bytes but only got 0. Skipping tag 7\n",
      "  \" Skipping tag %s\" % (size, len(data), tag))\n",
      "c:\\users\\a00439512\\appdata\\local\\continuum\\anaconda3\\envs\\demo\\lib\\site-packages\\PIL\\TiffImagePlugin.py:725: UserWarning: Possibly corrupt EXIF data.  Expecting to read 134479872 bytes but only got 0. Skipping tag 7\n",
      "  \" Skipping tag %s\" % (size, len(data), tag))\n",
      "c:\\users\\a00439512\\appdata\\local\\continuum\\anaconda3\\envs\\demo\\lib\\site-packages\\PIL\\TiffImagePlugin.py:725: UserWarning: Possibly corrupt EXIF data.  Expecting to read 295698432 bytes but only got 0. Skipping tag 10\n",
      "  \" Skipping tag %s\" % (size, len(data), tag))\n",
      "c:\\users\\a00439512\\appdata\\local\\continuum\\anaconda3\\envs\\demo\\lib\\site-packages\\PIL\\TiffImagePlugin.py:725: UserWarning: Possibly corrupt EXIF data.  Expecting to read 296222720 bytes but only got 0. Skipping tag 5\n",
      "  \" Skipping tag %s\" % (size, len(data), tag))\n",
      "c:\\users\\a00439512\\appdata\\local\\continuum\\anaconda3\\envs\\demo\\lib\\site-packages\\PIL\\TiffImagePlugin.py:725: UserWarning: Possibly corrupt EXIF data.  Expecting to read 14745600 bytes but only got 0. Skipping tag 4\n",
      "  \" Skipping tag %s\" % (size, len(data), tag))\n",
      "c:\\users\\a00439512\\appdata\\local\\continuum\\anaconda3\\envs\\demo\\lib\\site-packages\\PIL\\TiffImagePlugin.py:725: UserWarning: Possibly corrupt EXIF data.  Expecting to read 25624576 bytes but only got 0. Skipping tag 4\n",
      "  \" Skipping tag %s\" % (size, len(data), tag))\n",
      "c:\\users\\a00439512\\appdata\\local\\continuum\\anaconda3\\envs\\demo\\lib\\site-packages\\PIL\\TiffImagePlugin.py:725: UserWarning: Possibly corrupt EXIF data.  Expecting to read 317718528 bytes but only got 4956. Skipping tag 4\n",
      "  \" Skipping tag %s\" % (size, len(data), tag))\n",
      "c:\\users\\a00439512\\appdata\\local\\continuum\\anaconda3\\envs\\demo\\lib\\site-packages\\PIL\\TiffImagePlugin.py:725: UserWarning: Possibly corrupt EXIF data.  Expecting to read 131073 bytes but only got 4952. Skipping tag 0\n",
      "  \" Skipping tag %s\" % (size, len(data), tag))\n",
      "c:\\users\\a00439512\\appdata\\local\\continuum\\anaconda3\\envs\\demo\\lib\\site-packages\\PIL\\TiffImagePlugin.py:725: UserWarning: Possibly corrupt EXIF data.  Expecting to read 393216 bytes but only got 0. Skipping tag 3\n",
      "  \" Skipping tag %s\" % (size, len(data), tag))\n",
      "c:\\users\\a00439512\\appdata\\local\\continuum\\anaconda3\\envs\\demo\\lib\\site-packages\\PIL\\TiffImagePlugin.py:725: UserWarning: Possibly corrupt EXIF data.  Expecting to read 287178752 bytes but only got 0. Skipping tag 5\n",
      "  \" Skipping tag %s\" % (size, len(data), tag))\n",
      "c:\\users\\a00439512\\appdata\\local\\continuum\\anaconda3\\envs\\demo\\lib\\site-packages\\PIL\\TiffImagePlugin.py:725: UserWarning: Possibly corrupt EXIF data.  Expecting to read 287703040 bytes but only got 0. Skipping tag 5\n",
      "  \" Skipping tag %s\" % (size, len(data), tag))\n",
      "c:\\users\\a00439512\\appdata\\local\\continuum\\anaconda3\\envs\\demo\\lib\\site-packages\\PIL\\TiffImagePlugin.py:725: UserWarning: Possibly corrupt EXIF data.  Expecting to read 524288 bytes but only got 0. Skipping tag 4\n",
      "  \" Skipping tag %s\" % (size, len(data), tag))\n",
      "c:\\users\\a00439512\\appdata\\local\\continuum\\anaconda3\\envs\\demo\\lib\\site-packages\\PIL\\TiffImagePlugin.py:725: UserWarning: Possibly corrupt EXIF data.  Expecting to read 286654464 bytes but only got 4956. Skipping tag 4\n",
      "  \" Skipping tag %s\" % (size, len(data), tag))\n",
      "c:\\users\\a00439512\\appdata\\local\\continuum\\anaconda3\\envs\\demo\\lib\\site-packages\\PIL\\TiffImagePlugin.py:742: UserWarning: Corrupt EXIF data.  Expecting to read 12 bytes but only got 2. \n",
      "  warnings.warn(str(msg))\n"
     ]
    },
    {
     "name": "stdout",
     "output_type": "stream",
     "text": [
      "(20, 150, 150, 3)\n",
      "(20,)\n",
      "(20, 150, 150, 3)\n",
      "(20,)\n",
      "(20, 150, 150, 3)\n",
      "(20,)\n",
      "(20, 150, 150, 3)\n",
      "(20,)\n",
      "(20, 150, 150, 3)\n",
      "(20,)\n",
      "(20, 150, 150, 3)\n",
      "(20,)\n",
      "(20, 150, 150, 3)\n",
      "(20,)\n",
      "(20, 150, 150, 3)\n",
      "(20,)\n",
      "(20, 150, 150, 3)\n",
      "(20,)\n",
      "(20, 150, 150, 3)\n",
      "(20,)\n",
      "(20, 150, 150, 3)\n",
      "(20,)\n",
      "(20, 150, 150, 3)\n",
      "(20,)\n",
      "(20, 150, 150, 3)\n",
      "(20,)\n",
      "(20, 150, 150, 3)\n",
      "(20,)\n",
      "(20, 150, 150, 3)\n",
      "(20,)\n",
      "(20, 150, 150, 3)\n",
      "(20,)\n",
      "(20, 150, 150, 3)\n",
      "(20,)\n",
      "(20, 150, 150, 3)\n",
      "(20,)\n",
      "(20, 150, 150, 3)\n",
      "(20,)\n",
      "(20, 150, 150, 3)\n",
      "(20,)\n",
      "(20, 150, 150, 3)\n",
      "(20,)\n",
      "(20, 150, 150, 3)\n",
      "(20,)\n",
      "(20, 150, 150, 3)\n",
      "(20,)\n",
      "(20, 150, 150, 3)\n",
      "(20,)\n",
      "(20, 150, 150, 3)\n",
      "(20,)\n",
      "(20, 150, 150, 3)\n",
      "(20,)\n",
      "(20, 150, 150, 3)\n",
      "(20,)\n",
      "(20, 150, 150, 3)\n",
      "(20,)\n",
      "(20, 150, 150, 3)\n",
      "(20,)\n",
      "(20, 150, 150, 3)\n",
      "(20,)\n",
      "(20, 150, 150, 3)\n",
      "(20,)\n",
      "(20, 150, 150, 3)\n",
      "(20,)\n",
      "(20, 150, 150, 3)\n",
      "(20,)\n",
      "(20, 150, 150, 3)\n",
      "(20,)\n",
      "(20, 150, 150, 3)\n",
      "(20,)\n"
     ]
    },
    {
     "ename": "OSError",
     "evalue": "cannot identify image file 'D:/Datasets/cats_and_dogs_small_1\\\\train\\\\cats\\\\666.jpg'",
     "output_type": "error",
     "traceback": [
      "\u001b[1;31m---------------------------------------------------------------------------\u001b[0m",
      "\u001b[1;31mOSError\u001b[0m                                   Traceback (most recent call last)",
      "\u001b[1;32m<ipython-input-71-daeb03ef4250>\u001b[0m in \u001b[0;36m<module>\u001b[1;34m()\u001b[0m\n\u001b[1;32m----> 1\u001b[1;33m \u001b[1;32mfor\u001b[0m \u001b[0mdata_batch\u001b[0m\u001b[1;33m,\u001b[0m \u001b[0mlabel_batch\u001b[0m \u001b[1;32min\u001b[0m \u001b[0mtrain_generator\u001b[0m\u001b[1;33m:\u001b[0m\u001b[1;33m\u001b[0m\u001b[0m\n\u001b[0m\u001b[0;32m      2\u001b[0m     \u001b[0mprint\u001b[0m\u001b[1;33m(\u001b[0m\u001b[0mdata_batch\u001b[0m\u001b[1;33m.\u001b[0m\u001b[0mshape\u001b[0m\u001b[1;33m)\u001b[0m\u001b[1;33m\u001b[0m\u001b[0m\n\u001b[0;32m      3\u001b[0m     \u001b[0mprint\u001b[0m\u001b[1;33m(\u001b[0m\u001b[0mlabel_batch\u001b[0m\u001b[1;33m.\u001b[0m\u001b[0mshape\u001b[0m\u001b[1;33m)\u001b[0m\u001b[1;33m\u001b[0m\u001b[0m\n",
      "\u001b[1;32mc:\\users\\a00439512\\appdata\\local\\continuum\\anaconda3\\envs\\demo\\lib\\site-packages\\keras\\preprocessing\\image.py\u001b[0m in \u001b[0;36m__next__\u001b[1;34m(self, *args, **kwargs)\u001b[0m\n\u001b[0;32m    833\u001b[0m \u001b[1;33m\u001b[0m\u001b[0m\n\u001b[0;32m    834\u001b[0m     \u001b[1;32mdef\u001b[0m \u001b[0m__next__\u001b[0m\u001b[1;33m(\u001b[0m\u001b[0mself\u001b[0m\u001b[1;33m,\u001b[0m \u001b[1;33m*\u001b[0m\u001b[0margs\u001b[0m\u001b[1;33m,\u001b[0m \u001b[1;33m**\u001b[0m\u001b[0mkwargs\u001b[0m\u001b[1;33m)\u001b[0m\u001b[1;33m:\u001b[0m\u001b[1;33m\u001b[0m\u001b[0m\n\u001b[1;32m--> 835\u001b[1;33m         \u001b[1;32mreturn\u001b[0m \u001b[0mself\u001b[0m\u001b[1;33m.\u001b[0m\u001b[0mnext\u001b[0m\u001b[1;33m(\u001b[0m\u001b[1;33m*\u001b[0m\u001b[0margs\u001b[0m\u001b[1;33m,\u001b[0m \u001b[1;33m**\u001b[0m\u001b[0mkwargs\u001b[0m\u001b[1;33m)\u001b[0m\u001b[1;33m\u001b[0m\u001b[0m\n\u001b[0m\u001b[0;32m    836\u001b[0m \u001b[1;33m\u001b[0m\u001b[0m\n\u001b[0;32m    837\u001b[0m     \u001b[1;32mdef\u001b[0m \u001b[0m_get_batches_of_transformed_samples\u001b[0m\u001b[1;33m(\u001b[0m\u001b[0mself\u001b[0m\u001b[1;33m,\u001b[0m \u001b[0mindex_array\u001b[0m\u001b[1;33m)\u001b[0m\u001b[1;33m:\u001b[0m\u001b[1;33m\u001b[0m\u001b[0m\n",
      "\u001b[1;32mc:\\users\\a00439512\\appdata\\local\\continuum\\anaconda3\\envs\\demo\\lib\\site-packages\\keras\\preprocessing\\image.py\u001b[0m in \u001b[0;36mnext\u001b[1;34m(self)\u001b[0m\n\u001b[0;32m   1185\u001b[0m         \u001b[1;31m# The transformation of images is not under thread lock\u001b[0m\u001b[1;33m\u001b[0m\u001b[1;33m\u001b[0m\u001b[0m\n\u001b[0;32m   1186\u001b[0m         \u001b[1;31m# so it can be done in parallel\u001b[0m\u001b[1;33m\u001b[0m\u001b[1;33m\u001b[0m\u001b[0m\n\u001b[1;32m-> 1187\u001b[1;33m         \u001b[1;32mreturn\u001b[0m \u001b[0mself\u001b[0m\u001b[1;33m.\u001b[0m\u001b[0m_get_batches_of_transformed_samples\u001b[0m\u001b[1;33m(\u001b[0m\u001b[0mindex_array\u001b[0m\u001b[1;33m)\u001b[0m\u001b[1;33m\u001b[0m\u001b[0m\n\u001b[0m",
      "\u001b[1;32mc:\\users\\a00439512\\appdata\\local\\continuum\\anaconda3\\envs\\demo\\lib\\site-packages\\keras\\preprocessing\\image.py\u001b[0m in \u001b[0;36m_get_batches_of_transformed_samples\u001b[1;34m(self, index_array)\u001b[0m\n\u001b[0;32m   1146\u001b[0m                            \u001b[0mgrayscale\u001b[0m\u001b[1;33m=\u001b[0m\u001b[0mgrayscale\u001b[0m\u001b[1;33m,\u001b[0m\u001b[1;33m\u001b[0m\u001b[0m\n\u001b[0;32m   1147\u001b[0m                            \u001b[0mtarget_size\u001b[0m\u001b[1;33m=\u001b[0m\u001b[0mself\u001b[0m\u001b[1;33m.\u001b[0m\u001b[0mtarget_size\u001b[0m\u001b[1;33m,\u001b[0m\u001b[1;33m\u001b[0m\u001b[0m\n\u001b[1;32m-> 1148\u001b[1;33m                            interpolation=self.interpolation)\n\u001b[0m\u001b[0;32m   1149\u001b[0m             \u001b[0mx\u001b[0m \u001b[1;33m=\u001b[0m \u001b[0mimg_to_array\u001b[0m\u001b[1;33m(\u001b[0m\u001b[0mimg\u001b[0m\u001b[1;33m,\u001b[0m \u001b[0mdata_format\u001b[0m\u001b[1;33m=\u001b[0m\u001b[0mself\u001b[0m\u001b[1;33m.\u001b[0m\u001b[0mdata_format\u001b[0m\u001b[1;33m)\u001b[0m\u001b[1;33m\u001b[0m\u001b[0m\n\u001b[0;32m   1150\u001b[0m             \u001b[0mx\u001b[0m \u001b[1;33m=\u001b[0m \u001b[0mself\u001b[0m\u001b[1;33m.\u001b[0m\u001b[0mimage_data_generator\u001b[0m\u001b[1;33m.\u001b[0m\u001b[0mrandom_transform\u001b[0m\u001b[1;33m(\u001b[0m\u001b[0mx\u001b[0m\u001b[1;33m)\u001b[0m\u001b[1;33m\u001b[0m\u001b[0m\n",
      "\u001b[1;32mc:\\users\\a00439512\\appdata\\local\\continuum\\anaconda3\\envs\\demo\\lib\\site-packages\\keras\\preprocessing\\image.py\u001b[0m in \u001b[0;36mload_img\u001b[1;34m(path, grayscale, target_size, interpolation)\u001b[0m\n\u001b[0;32m    347\u001b[0m         raise ImportError('Could not import PIL.Image. '\n\u001b[0;32m    348\u001b[0m                           'The use of `array_to_img` requires PIL.')\n\u001b[1;32m--> 349\u001b[1;33m     \u001b[0mimg\u001b[0m \u001b[1;33m=\u001b[0m \u001b[0mpil_image\u001b[0m\u001b[1;33m.\u001b[0m\u001b[0mopen\u001b[0m\u001b[1;33m(\u001b[0m\u001b[0mpath\u001b[0m\u001b[1;33m)\u001b[0m\u001b[1;33m\u001b[0m\u001b[0m\n\u001b[0m\u001b[0;32m    350\u001b[0m     \u001b[1;32mif\u001b[0m \u001b[0mgrayscale\u001b[0m\u001b[1;33m:\u001b[0m\u001b[1;33m\u001b[0m\u001b[0m\n\u001b[0;32m    351\u001b[0m         \u001b[1;32mif\u001b[0m \u001b[0mimg\u001b[0m\u001b[1;33m.\u001b[0m\u001b[0mmode\u001b[0m \u001b[1;33m!=\u001b[0m \u001b[1;34m'L'\u001b[0m\u001b[1;33m:\u001b[0m\u001b[1;33m\u001b[0m\u001b[0m\n",
      "\u001b[1;32mc:\\users\\a00439512\\appdata\\local\\continuum\\anaconda3\\envs\\demo\\lib\\site-packages\\PIL\\Image.py\u001b[0m in \u001b[0;36mopen\u001b[1;34m(fp, mode)\u001b[0m\n\u001b[0;32m   2583\u001b[0m         \u001b[0mfp\u001b[0m\u001b[1;33m.\u001b[0m\u001b[0mclose\u001b[0m\u001b[1;33m(\u001b[0m\u001b[1;33m)\u001b[0m\u001b[1;33m\u001b[0m\u001b[0m\n\u001b[0;32m   2584\u001b[0m     raise IOError(\"cannot identify image file %r\"\n\u001b[1;32m-> 2585\u001b[1;33m                   % (filename if filename else fp))\n\u001b[0m\u001b[0;32m   2586\u001b[0m \u001b[1;33m\u001b[0m\u001b[0m\n\u001b[0;32m   2587\u001b[0m \u001b[1;31m#\u001b[0m\u001b[1;33m\u001b[0m\u001b[1;33m\u001b[0m\u001b[0m\n",
      "\u001b[1;31mOSError\u001b[0m: cannot identify image file 'D:/Datasets/cats_and_dogs_small_1\\\\train\\\\cats\\\\666.jpg'"
     ]
    }
   ],
   "source": [
    "#for data_batch, label_batch in train_generator:\n",
    "#    print(data_batch.shape)\n",
    "#    print(label_batch.shape)\n",
    "    "
   ]
  },
  {
   "cell_type": "markdown",
   "metadata": {},
   "source": [
    "### Section 5\n",
    "\n",
    "    Fit the model\n"
   ]
  },
  {
   "cell_type": "code",
   "execution_count": 80,
   "metadata": {
    "scrolled": false
   },
   "outputs": [
    {
     "name": "stdout",
     "output_type": "stream",
     "text": [
      "Epoch 1/30\n",
      " 67/100 [===================>..........] - ETA: 42s - loss: 0.6899 - acc: 0.5366"
     ]
    },
    {
     "name": "stderr",
     "output_type": "stream",
     "text": [
      "c:\\users\\a00439512\\appdata\\local\\continuum\\anaconda3\\envs\\demo\\lib\\site-packages\\PIL\\TiffImagePlugin.py:725: UserWarning: Possibly corrupt EXIF data.  Expecting to read 80000 bytes but only got 0. Skipping tag 64640\n",
      "  \" Skipping tag %s\" % (size, len(data), tag))\n",
      "c:\\users\\a00439512\\appdata\\local\\continuum\\anaconda3\\envs\\demo\\lib\\site-packages\\PIL\\TiffImagePlugin.py:725: UserWarning: Possibly corrupt EXIF data.  Expecting to read 6553600 bytes but only got 0. Skipping tag 49\n",
      "  \" Skipping tag %s\" % (size, len(data), tag))\n",
      "c:\\users\\a00439512\\appdata\\local\\continuum\\anaconda3\\envs\\demo\\lib\\site-packages\\PIL\\TiffImagePlugin.py:725: UserWarning: Possibly corrupt EXIF data.  Expecting to read 1050744 bytes but only got 4951. Skipping tag 51\n",
      "  \" Skipping tag %s\" % (size, len(data), tag))\n",
      "c:\\users\\a00439512\\appdata\\local\\continuum\\anaconda3\\envs\\demo\\lib\\site-packages\\PIL\\TiffImagePlugin.py:725: UserWarning: Possibly corrupt EXIF data.  Expecting to read 293339136 bytes but only got 0. Skipping tag 5\n",
      "  \" Skipping tag %s\" % (size, len(data), tag))\n",
      "c:\\users\\a00439512\\appdata\\local\\continuum\\anaconda3\\envs\\demo\\lib\\site-packages\\PIL\\TiffImagePlugin.py:725: UserWarning: Possibly corrupt EXIF data.  Expecting to read 293863424 bytes but only got 0. Skipping tag 5\n",
      "  \" Skipping tag %s\" % (size, len(data), tag))\n",
      "c:\\users\\a00439512\\appdata\\local\\continuum\\anaconda3\\envs\\demo\\lib\\site-packages\\PIL\\TiffImagePlugin.py:725: UserWarning: Possibly corrupt EXIF data.  Expecting to read 3368026112 bytes but only got 0. Skipping tag 7\n",
      "  \" Skipping tag %s\" % (size, len(data), tag))\n",
      "c:\\users\\a00439512\\appdata\\local\\continuum\\anaconda3\\envs\\demo\\lib\\site-packages\\PIL\\TiffImagePlugin.py:725: UserWarning: Possibly corrupt EXIF data.  Expecting to read 134479872 bytes but only got 0. Skipping tag 7\n",
      "  \" Skipping tag %s\" % (size, len(data), tag))\n",
      "c:\\users\\a00439512\\appdata\\local\\continuum\\anaconda3\\envs\\demo\\lib\\site-packages\\PIL\\TiffImagePlugin.py:725: UserWarning: Possibly corrupt EXIF data.  Expecting to read 295698432 bytes but only got 0. Skipping tag 10\n",
      "  \" Skipping tag %s\" % (size, len(data), tag))\n",
      "c:\\users\\a00439512\\appdata\\local\\continuum\\anaconda3\\envs\\demo\\lib\\site-packages\\PIL\\TiffImagePlugin.py:725: UserWarning: Possibly corrupt EXIF data.  Expecting to read 296222720 bytes but only got 0. Skipping tag 5\n",
      "  \" Skipping tag %s\" % (size, len(data), tag))\n",
      "c:\\users\\a00439512\\appdata\\local\\continuum\\anaconda3\\envs\\demo\\lib\\site-packages\\PIL\\TiffImagePlugin.py:725: UserWarning: Possibly corrupt EXIF data.  Expecting to read 3300917248 bytes but only got 0. Skipping tag 7\n",
      "  \" Skipping tag %s\" % (size, len(data), tag))\n",
      "c:\\users\\a00439512\\appdata\\local\\continuum\\anaconda3\\envs\\demo\\lib\\site-packages\\PIL\\TiffImagePlugin.py:725: UserWarning: Possibly corrupt EXIF data.  Expecting to read 65536 bytes but only got 0. Skipping tag 3\n",
      "  \" Skipping tag %s\" % (size, len(data), tag))\n",
      "c:\\users\\a00439512\\appdata\\local\\continuum\\anaconda3\\envs\\demo\\lib\\site-packages\\PIL\\TiffImagePlugin.py:725: UserWarning: Possibly corrupt EXIF data.  Expecting to read 14745600 bytes but only got 0. Skipping tag 4\n",
      "  \" Skipping tag %s\" % (size, len(data), tag))\n",
      "c:\\users\\a00439512\\appdata\\local\\continuum\\anaconda3\\envs\\demo\\lib\\site-packages\\PIL\\TiffImagePlugin.py:725: UserWarning: Possibly corrupt EXIF data.  Expecting to read 25624576 bytes but only got 0. Skipping tag 4\n",
      "  \" Skipping tag %s\" % (size, len(data), tag))\n",
      "c:\\users\\a00439512\\appdata\\local\\continuum\\anaconda3\\envs\\demo\\lib\\site-packages\\PIL\\TiffImagePlugin.py:725: UserWarning: Possibly corrupt EXIF data.  Expecting to read 317718528 bytes but only got 4956. Skipping tag 4\n",
      "  \" Skipping tag %s\" % (size, len(data), tag))\n",
      "c:\\users\\a00439512\\appdata\\local\\continuum\\anaconda3\\envs\\demo\\lib\\site-packages\\PIL\\TiffImagePlugin.py:725: UserWarning: Possibly corrupt EXIF data.  Expecting to read 131073 bytes but only got 4952. Skipping tag 0\n",
      "  \" Skipping tag %s\" % (size, len(data), tag))\n",
      "c:\\users\\a00439512\\appdata\\local\\continuum\\anaconda3\\envs\\demo\\lib\\site-packages\\PIL\\TiffImagePlugin.py:725: UserWarning: Possibly corrupt EXIF data.  Expecting to read 393216 bytes but only got 0. Skipping tag 3\n",
      "  \" Skipping tag %s\" % (size, len(data), tag))\n",
      "c:\\users\\a00439512\\appdata\\local\\continuum\\anaconda3\\envs\\demo\\lib\\site-packages\\PIL\\TiffImagePlugin.py:725: UserWarning: Possibly corrupt EXIF data.  Expecting to read 287178752 bytes but only got 0. Skipping tag 5\n",
      "  \" Skipping tag %s\" % (size, len(data), tag))\n",
      "c:\\users\\a00439512\\appdata\\local\\continuum\\anaconda3\\envs\\demo\\lib\\site-packages\\PIL\\TiffImagePlugin.py:725: UserWarning: Possibly corrupt EXIF data.  Expecting to read 287703040 bytes but only got 0. Skipping tag 5\n",
      "  \" Skipping tag %s\" % (size, len(data), tag))\n",
      "c:\\users\\a00439512\\appdata\\local\\continuum\\anaconda3\\envs\\demo\\lib\\site-packages\\PIL\\TiffImagePlugin.py:725: UserWarning: Possibly corrupt EXIF data.  Expecting to read 131072 bytes but only got 0. Skipping tag 3\n",
      "  \" Skipping tag %s\" % (size, len(data), tag))\n",
      "c:\\users\\a00439512\\appdata\\local\\continuum\\anaconda3\\envs\\demo\\lib\\site-packages\\PIL\\TiffImagePlugin.py:725: UserWarning: Possibly corrupt EXIF data.  Expecting to read 524288 bytes but only got 0. Skipping tag 4\n",
      "  \" Skipping tag %s\" % (size, len(data), tag))\n",
      "c:\\users\\a00439512\\appdata\\local\\continuum\\anaconda3\\envs\\demo\\lib\\site-packages\\PIL\\TiffImagePlugin.py:725: UserWarning: Possibly corrupt EXIF data.  Expecting to read 286654464 bytes but only got 4956. Skipping tag 4\n",
      "  \" Skipping tag %s\" % (size, len(data), tag))\n",
      "c:\\users\\a00439512\\appdata\\local\\continuum\\anaconda3\\envs\\demo\\lib\\site-packages\\PIL\\TiffImagePlugin.py:742: UserWarning: Corrupt EXIF data.  Expecting to read 12 bytes but only got 2. \n",
      "  warnings.warn(str(msg))\n"
     ]
    },
    {
     "name": "stdout",
     "output_type": "stream",
     "text": [
      " 99/100 [============================>.] - ETA: 1s - loss: 0.6897 - acc: 0.5333"
     ]
    },
    {
     "name": "stderr",
     "output_type": "stream",
     "text": [
      "c:\\users\\a00439512\\appdata\\local\\continuum\\anaconda3\\envs\\demo\\lib\\site-packages\\PIL\\TiffImagePlugin.py:725: UserWarning: Possibly corrupt EXIF data.  Expecting to read 18350080 bytes but only got 0. Skipping tag 0\n",
      "  \" Skipping tag %s\" % (size, len(data), tag))\n",
      "c:\\users\\a00439512\\appdata\\local\\continuum\\anaconda3\\envs\\demo\\lib\\site-packages\\PIL\\TiffImagePlugin.py:742: UserWarning: Corrupt EXIF data.  Expecting to read 12 bytes but only got 6. \n",
      "  warnings.warn(str(msg))\n"
     ]
    },
    {
     "name": "stdout",
     "output_type": "stream",
     "text": [
      "100/100 [==============================] - 151s 2s/step - loss: 0.6896 - acc: 0.5335 - val_loss: 0.6783 - val_acc: 0.5630\n",
      "Epoch 2/30\n",
      " 11/100 [==>...........................] - ETA: 2:03 - loss: 0.6725 - acc: 0.5773"
     ]
    },
    {
     "name": "stderr",
     "output_type": "stream",
     "text": [
      "c:\\users\\a00439512\\appdata\\local\\continuum\\anaconda3\\envs\\demo\\lib\\site-packages\\PIL\\TiffImagePlugin.py:725: UserWarning: Possibly corrupt EXIF data.  Expecting to read 404094976 bytes but only got 0. Skipping tag 5\n",
      "  \" Skipping tag %s\" % (size, len(data), tag))\n",
      "c:\\users\\a00439512\\appdata\\local\\continuum\\anaconda3\\envs\\demo\\lib\\site-packages\\PIL\\TiffImagePlugin.py:725: UserWarning: Possibly corrupt EXIF data.  Expecting to read 404619264 bytes but only got 0. Skipping tag 5\n",
      "  \" Skipping tag %s\" % (size, len(data), tag))\n",
      "c:\\users\\a00439512\\appdata\\local\\continuum\\anaconda3\\envs\\demo\\lib\\site-packages\\PIL\\TiffImagePlugin.py:725: UserWarning: Possibly corrupt EXIF data.  Expecting to read 425459712 bytes but only got 0. Skipping tag 4\n",
      "  \" Skipping tag %s\" % (size, len(data), tag))\n",
      "c:\\users\\a00439512\\appdata\\local\\continuum\\anaconda3\\envs\\demo\\lib\\site-packages\\PIL\\TiffImagePlugin.py:725: UserWarning: Possibly corrupt EXIF data.  Expecting to read 1385474 bytes but only got 6833. Skipping tag 513\n",
      "  \" Skipping tag %s\" % (size, len(data), tag))\n",
      "c:\\users\\a00439512\\appdata\\local\\continuum\\anaconda3\\envs\\demo\\lib\\site-packages\\PIL\\TiffImagePlugin.py:725: UserWarning: Possibly corrupt EXIF data.  Expecting to read 3846701056 bytes but only got 0. Skipping tag 2\n",
      "  \" Skipping tag %s\" % (size, len(data), tag))\n",
      "c:\\users\\a00439512\\appdata\\local\\continuum\\anaconda3\\envs\\demo\\lib\\site-packages\\PIL\\TiffImagePlugin.py:725: UserWarning: Possibly corrupt EXIF data.  Expecting to read 196867 bytes but only got 6833. Skipping tag 0\n",
      "  \" Skipping tag %s\" % (size, len(data), tag))\n",
      "c:\\users\\a00439512\\appdata\\local\\continuum\\anaconda3\\envs\\demo\\lib\\site-packages\\PIL\\TiffImagePlugin.py:742: UserWarning: Corrupt EXIF data.  Expecting to read 12 bytes but only got 8. \n",
      "  warnings.warn(str(msg))\n"
     ]
    },
    {
     "name": "stdout",
     "output_type": "stream",
     "text": [
      "100/100 [==============================] - 152s 2s/step - loss: 0.6842 - acc: 0.5645 - val_loss: 0.6864 - val_acc: 0.5340\n",
      "Epoch 3/30\n",
      "100/100 [==============================] - 151s 2s/step - loss: 0.6629 - acc: 0.5980 - val_loss: 0.6717 - val_acc: 0.5850\n",
      "Epoch 4/30\n",
      "100/100 [==============================] - 155s 2s/step - loss: 0.6634 - acc: 0.6025 - val_loss: 0.6654 - val_acc: 0.5700\n",
      "Epoch 5/30\n",
      "100/100 [==============================] - 156s 2s/step - loss: 0.6379 - acc: 0.6440 - val_loss: 0.6630 - val_acc: 0.5960\n",
      "Epoch 6/30\n",
      "100/100 [==============================] - 161s 2s/step - loss: 0.6322 - acc: 0.6400 - val_loss: 0.6477 - val_acc: 0.5960\n",
      "Epoch 7/30\n",
      "100/100 [==============================] - 153s 2s/step - loss: 0.6036 - acc: 0.6775 - val_loss: 0.6100 - val_acc: 0.6460\n",
      "Epoch 8/30\n",
      "100/100 [==============================] - 152s 2s/step - loss: 0.5760 - acc: 0.7105 - val_loss: 0.6112 - val_acc: 0.6640\n",
      "Epoch 9/30\n",
      "100/100 [==============================] - 153s 2s/step - loss: 0.5474 - acc: 0.7250 - val_loss: 0.5607 - val_acc: 0.6970\n",
      "Epoch 10/30\n",
      "100/100 [==============================] - 153s 2s/step - loss: 0.5316 - acc: 0.7485 - val_loss: 0.5841 - val_acc: 0.6840\n",
      "Epoch 11/30\n",
      "100/100 [==============================] - 152s 2s/step - loss: 0.4914 - acc: 0.7530 - val_loss: 0.6304 - val_acc: 0.6800\n",
      "Epoch 12/30\n",
      "100/100 [==============================] - 152s 2s/step - loss: 0.4955 - acc: 0.7585 - val_loss: 0.5983 - val_acc: 0.6870\n",
      "Epoch 13/30\n",
      "100/100 [==============================] - 152s 2s/step - loss: 0.4436 - acc: 0.7930 - val_loss: 0.5369 - val_acc: 0.7350\n",
      "Epoch 14/30\n",
      "100/100 [==============================] - 152s 2s/step - loss: 0.4307 - acc: 0.8035 - val_loss: 0.5878 - val_acc: 0.7050\n",
      "Epoch 15/30\n",
      "100/100 [==============================] - 152s 2s/step - loss: 0.3680 - acc: 0.8385 - val_loss: 0.5919 - val_acc: 0.7500\n",
      "Epoch 16/30\n",
      "100/100 [==============================] - 151s 2s/step - loss: 0.3626 - acc: 0.8430 - val_loss: 0.5729 - val_acc: 0.7450\n",
      "Epoch 17/30\n",
      "100/100 [==============================] - 152s 2s/step - loss: 0.2693 - acc: 0.8950 - val_loss: 0.6438 - val_acc: 0.7210\n",
      "Epoch 18/30\n",
      "100/100 [==============================] - 152s 2s/step - loss: 0.3008 - acc: 0.8790 - val_loss: 0.7341 - val_acc: 0.7320\n",
      "Epoch 19/30\n",
      "100/100 [==============================] - 154s 2s/step - loss: 0.2021 - acc: 0.9205 - val_loss: 0.7930 - val_acc: 0.7060\n",
      "Epoch 20/30\n",
      "100/100 [==============================] - 152s 2s/step - loss: 0.1990 - acc: 0.9170 - val_loss: 0.7548 - val_acc: 0.7350\n",
      "Epoch 21/30\n",
      "100/100 [==============================] - 155s 2s/step - loss: 0.1235 - acc: 0.9510 - val_loss: 0.8274 - val_acc: 0.7570\n",
      "Epoch 22/30\n",
      "100/100 [==============================] - 152s 2s/step - loss: 0.1465 - acc: 0.9430 - val_loss: 0.8651 - val_acc: 0.7230\n",
      "Epoch 23/30\n",
      "100/100 [==============================] - 152s 2s/step - loss: 0.0670 - acc: 0.9780 - val_loss: 1.1705 - val_acc: 0.7190\n",
      "Epoch 24/30\n",
      "100/100 [==============================] - 152s 2s/step - loss: 0.0987 - acc: 0.9675 - val_loss: 1.0228 - val_acc: 0.7470\n",
      "Epoch 25/30\n",
      "100/100 [==============================] - 152s 2s/step - loss: 0.0341 - acc: 0.9895 - val_loss: 1.4236 - val_acc: 0.7470\n",
      "Epoch 26/30\n",
      "100/100 [==============================] - 152s 2s/step - loss: 0.0239 - acc: 0.9935 - val_loss: 1.2270 - val_acc: 0.7300\n",
      "Epoch 27/30\n",
      "100/100 [==============================] - 153s 2s/step - loss: 0.0118 - acc: 0.9990 - val_loss: 1.3443 - val_acc: 0.7470\n",
      "Epoch 28/30\n",
      "100/100 [==============================] - 155s 2s/step - loss: 0.0178 - acc: 0.9935 - val_loss: 1.7316 - val_acc: 0.7130\n",
      "Epoch 29/30\n",
      "100/100 [==============================] - 155s 2s/step - loss: 0.0982 - acc: 0.9685 - val_loss: 1.1645 - val_acc: 0.7500\n",
      "Epoch 30/30\n",
      "100/100 [==============================] - 152s 2s/step - loss: 0.0675 - acc: 0.9765 - val_loss: 1.3709 - val_acc: 0.7150\n"
     ]
    }
   ],
   "source": [
    "history = model.fit_generator(\n",
    "            train_generator,\n",
    "            steps_per_epoch=100,\n",
    "            epochs=30,\n",
    "            validation_data = validation_generator,\n",
    "            validation_steps=50\n",
    ")"
   ]
  },
  {
   "cell_type": "code",
   "execution_count": 81,
   "metadata": {},
   "outputs": [],
   "source": [
    "model.save('cats_and_dogs_small_1.h5')"
   ]
  },
  {
   "cell_type": "code",
   "execution_count": null,
   "metadata": {},
   "outputs": [],
   "source": []
  },
  {
   "cell_type": "markdown",
   "metadata": {},
   "source": [
    "### Section 6\n",
    "    \n",
    "    Plotting"
   ]
  },
  {
   "cell_type": "code",
   "execution_count": 82,
   "metadata": {},
   "outputs": [],
   "source": [
    "import matplotlib.pyplot as plt"
   ]
  },
  {
   "cell_type": "code",
   "execution_count": 83,
   "metadata": {},
   "outputs": [],
   "source": [
    "acc = history.history['acc']\n",
    "val_acc = history.history['val_acc']\n",
    "\n",
    "loss = history.history['loss']\n",
    "val_loss = history.history['val_loss']"
   ]
  },
  {
   "cell_type": "code",
   "execution_count": 84,
   "metadata": {},
   "outputs": [],
   "source": [
    "epochs = range(1, len(acc) + 1)"
   ]
  },
  {
   "cell_type": "code",
   "execution_count": 85,
   "metadata": {},
   "outputs": [
    {
     "data": {
      "text/plain": [
       "<matplotlib.legend.Legend at 0xf5fa860>"
      ]
     },
     "execution_count": 85,
     "metadata": {},
     "output_type": "execute_result"
    },
    {
     "data": {
      "image/png": "[encoded data removed]",
      "text/plain": [
       "<matplotlib.figure.Figure at 0x10dd4b70>"
      ]
     },
     "metadata": {},
     "output_type": "display_data"
    }
   ],
   "source": [
    "plt.plot(epochs, acc, 'bo', label='training accuracy')\n",
    "plt.plot(epochs, val_acc, 'b', label='Validation accuracy')\n",
    "\n",
    "plt.title('Training and Validation Accuracy')\n",
    "plt.legend()\n",
    "\n"
   ]
  },
  {
   "cell_type": "code",
   "execution_count": 86,
   "metadata": {},
   "outputs": [
    {
     "data": {
      "text/plain": [
       "<matplotlib.figure.Figure at 0xf5cd550>"
      ]
     },
     "execution_count": 86,
     "metadata": {},
     "output_type": "execute_result"
    },
    {
     "data": {
      "text/plain": [
       "<matplotlib.figure.Figure at 0xf5cd550>"
      ]
     },
     "metadata": {},
     "output_type": "display_data"
    }
   ],
   "source": [
    "plt.figure()"
   ]
  },
  {
   "cell_type": "code",
   "execution_count": 87,
   "metadata": {},
   "outputs": [
    {
     "data": {
      "text/plain": [
       "<matplotlib.legend.Legend at 0xf6548d0>"
      ]
     },
     "execution_count": 87,
     "metadata": {},
     "output_type": "execute_result"
    },
    {
     "data": {
      "image/png": "[encoded data removed]",
      "text/plain": [
       "<matplotlib.figure.Figure at 0xf829160>"
      ]
     },
     "metadata": {},
     "output_type": "display_data"
    }
   ],
   "source": [
    "plt.plot(epochs, loss, 'bo', label='Training loss')\n",
    "plt.plot(epochs, val_loss, 'b', label='Validation Loss')\n",
    "\n",
    "plt.legend()"
   ]
  },
  {
   "cell_type": "code",
   "execution_count": 88,
   "metadata": {},
   "outputs": [],
   "source": [
    "plt.show()"
   ]
  },
  {
   "cell_type": "code",
   "execution_count": null,
   "metadata": {},
   "outputs": [],
   "source": []
  }
 ],
 "metadata": {
  "kernelspec": {
   "display_name": "Python 3",
   "language": "python",
   "name": "python3"
  },
  "language_info": {
   "codemirror_mode": {
    "name": "ipython",
    "version": 3
   },
   "file_extension": ".py",
   "mimetype": "text/x-python",
   "name": "python",
   "nbconvert_exporter": "python",
   "pygments_lexer": "ipython3",
   "version": "3.5.4"
  }
 },
 "nbformat": 4,
 "nbformat_minor": 2
}
