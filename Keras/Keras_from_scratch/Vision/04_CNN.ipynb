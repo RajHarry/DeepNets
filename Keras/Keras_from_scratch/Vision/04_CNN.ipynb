{
 "cells": [
  {
   "cell_type": "markdown",
   "metadata": {},
   "source": [
    "Until now, we trained CV models from scratch. That is mostly time consuming. \n",
    "\n",
    "So instead we will use pretrained models. This is what this notebook is about"
   ]
  },
  {
   "cell_type": "code",
   "execution_count": 1,
   "metadata": {},
   "outputs": [],
   "source": [
    "%load_ext autoreload\n",
    "%autoreload 2\n",
    "%matplotlib inline"
   ]
  },
  {
   "cell_type": "markdown",
   "metadata": {},
   "source": [
    "### Load pretrained model"
   ]
  },
  {
   "cell_type": "code",
   "execution_count": 2,
   "metadata": {},
   "outputs": [
    {
     "name": "stderr",
     "output_type": "stream",
     "text": [
      "Using TensorFlow backend.\n"
     ]
    }
   ],
   "source": [
    "from keras.applications import VGG16"
   ]
  },
  {
   "cell_type": "code",
   "execution_count": 3,
   "metadata": {},
   "outputs": [],
   "source": [
    "base_model = VGG16(include_top=False, weights='imagenet', input_shape=(150, 150, 3))"
   ]
  },
  {
   "cell_type": "code",
   "execution_count": 4,
   "metadata": {},
   "outputs": [
    {
     "name": "stdout",
     "output_type": "stream",
     "text": [
      "_________________________________________________________________\n",
      "Layer (type)                 Output Shape              Param #   \n",
      "=================================================================\n",
      "input_1 (InputLayer)         (None, 150, 150, 3)       0         \n",
      "_________________________________________________________________\n",
      "block1_conv1 (Conv2D)        (None, 150, 150, 64)      1792      \n",
      "_________________________________________________________________\n",
      "block1_conv2 (Conv2D)        (None, 150, 150, 64)      36928     \n",
      "_________________________________________________________________\n",
      "block1_pool (MaxPooling2D)   (None, 75, 75, 64)        0         \n",
      "_________________________________________________________________\n",
      "block2_conv1 (Conv2D)        (None, 75, 75, 128)       73856     \n",
      "_________________________________________________________________\n",
      "block2_conv2 (Conv2D)        (None, 75, 75, 128)       147584    \n",
      "_________________________________________________________________\n",
      "block2_pool (MaxPooling2D)   (None, 37, 37, 128)       0         \n",
      "_________________________________________________________________\n",
      "block3_conv1 (Conv2D)        (None, 37, 37, 256)       295168    \n",
      "_________________________________________________________________\n",
      "block3_conv2 (Conv2D)        (None, 37, 37, 256)       590080    \n",
      "_________________________________________________________________\n",
      "block3_conv3 (Conv2D)        (None, 37, 37, 256)       590080    \n",
      "_________________________________________________________________\n",
      "block3_pool (MaxPooling2D)   (None, 18, 18, 256)       0         \n",
      "_________________________________________________________________\n",
      "block4_conv1 (Conv2D)        (None, 18, 18, 512)       1180160   \n",
      "_________________________________________________________________\n",
      "block4_conv2 (Conv2D)        (None, 18, 18, 512)       2359808   \n",
      "_________________________________________________________________\n",
      "block4_conv3 (Conv2D)        (None, 18, 18, 512)       2359808   \n",
      "_________________________________________________________________\n",
      "block4_pool (MaxPooling2D)   (None, 9, 9, 512)         0         \n",
      "_________________________________________________________________\n",
      "block5_conv1 (Conv2D)        (None, 9, 9, 512)         2359808   \n",
      "_________________________________________________________________\n",
      "block5_conv2 (Conv2D)        (None, 9, 9, 512)         2359808   \n",
      "_________________________________________________________________\n",
      "block5_conv3 (Conv2D)        (None, 9, 9, 512)         2359808   \n",
      "_________________________________________________________________\n",
      "block5_pool (MaxPooling2D)   (None, 4, 4, 512)         0         \n",
      "=================================================================\n",
      "Total params: 14,714,688\n",
      "Trainable params: 14,714,688\n",
      "Non-trainable params: 0\n",
      "_________________________________________________________________\n"
     ]
    }
   ],
   "source": [
    "base_model.summary()"
   ]
  },
  {
   "cell_type": "markdown",
   "metadata": {},
   "source": [
    "### Set data paths"
   ]
  },
  {
   "cell_type": "code",
   "execution_count": 5,
   "metadata": {},
   "outputs": [],
   "source": [
    "import os"
   ]
  },
  {
   "cell_type": "code",
   "execution_count": 6,
   "metadata": {},
   "outputs": [],
   "source": [
    "root_dir = \"/\"\n",
    "users = os.path.join(root_dir, \"Users\")\n",
    "airwoot = os.path.join(users, \"airwoot\")\n",
    "documents = os.path.join(airwoot, \"Documents\")\n",
    "anuj = os.path.join(documents, \"Anuj\")\n",
    "Warehouse = os.path.join(anuj, \"Warehouse\")\n",
    "\n",
    "\n",
    "src_folder = os.path.join(Warehouse, \"train\")\n",
    "\n",
    "cat_src_folder = os.path.join(src_folder, \"CAT\")\n",
    "dog_src_folder = os.path.join(src_folder, \"DOG\")\n",
    "\n",
    "dest_data_folder = os.path.join(Warehouse, \"cats_and_dogs\")\n",
    "\n",
    "train_dir = os.path.join(dest_data_folder, \"train\")\n",
    "cat_train_dir = os.path.join(train_dir, \"cat\")\n",
    "dog_train_dir = os.path.join(train_dir, \"dog\")\n",
    "\n",
    "\n",
    "test_dir = os.path.join(dest_data_folder, \"test\")\n",
    "cat_test_dir = os.path.join(test_dir, \"cat\")\n",
    "dog_test_dir = os.path.join(test_dir, \"dog\")\n",
    "\n",
    "\n",
    "validation_dir = os.path.join(dest_data_folder, \"validation\")\n",
    "cat_validation_dir = os.path.join(validation_dir, \"cat\")\n",
    "dog_validation_dir = os.path.join(validation_dir, \"dog\")"
   ]
  },
  {
   "cell_type": "code",
   "execution_count": 7,
   "metadata": {},
   "outputs": [
    {
     "name": "stdout",
     "output_type": "stream",
     "text": [
      "2000\n",
      "2000\n",
      "1000\n",
      "1000\n",
      "1000\n",
      "1000\n"
     ]
    }
   ],
   "source": [
    "### sanity checks\n",
    "\n",
    "print(len(os.listdir(cat_train_dir)))\n",
    "print(len(os.listdir(dog_train_dir)))\n",
    "\n",
    "print(len(os.listdir(cat_test_dir)))\n",
    "print(len(os.listdir(dog_test_dir)))\n",
    "\n",
    "print(len(os.listdir(cat_validation_dir)))\n",
    "print(len(os.listdir(dog_validation_dir)))"
   ]
  },
  {
   "cell_type": "markdown",
   "metadata": {},
   "source": [
    "### Extract features from pretrained model"
   ]
  },
  {
   "cell_type": "code",
   "execution_count": 8,
   "metadata": {},
   "outputs": [],
   "source": [
    "from keras.preprocessing.image import ImageDataGenerator\n",
    "import numpy as np"
   ]
  },
  {
   "cell_type": "code",
   "execution_count": 9,
   "metadata": {},
   "outputs": [
    {
     "name": "stdout",
     "output_type": "stream",
     "text": [
      "Found 4000 images belonging to 2 classes.\n"
     ]
    }
   ],
   "source": [
    "train_IDG = ImageDataGenerator(rescale=1.0/255)\n",
    "\n",
    "train_DG = train_IDG.flow_from_directory(\n",
    "        train_dir,\n",
    "        target_size = (150, 150),\n",
    "        batch_size = 20,\n",
    "        class_mode = 'binary')\n",
    "\n",
    "#since we are not doing any training, we dont need validation data"
   ]
  },
  {
   "cell_type": "code",
   "execution_count": 10,
   "metadata": {},
   "outputs": [],
   "source": [
    "# write a func to push data via network\n",
    "\n",
    "batch_size_ = 20\n",
    "\n",
    "def extract_features(data_dir, no_of_data_points):\n",
    "    \n",
    "    features = np.zeros(shape=(no_of_data_points, 4, 4, 512))\n",
    "    labels = np.zeros(shape=(no_of_data_points,))\n",
    "    \n",
    "    DataGen = ImageDataGenerator(rescale=1.0/255)\n",
    "    DG = DataGen.flow_from_directory(\n",
    "                        data_dir, \n",
    "                        target_size = (150, 150), \n",
    "                        batch_size = batch_size_, \n",
    "                        class_mode='binary')\n",
    "    \n",
    "    i = 0\n",
    "    \n",
    "    for (batch_data, batch_label) in DG:\n",
    "        \n",
    "        base_features = base_model.predict(batch_data)\n",
    "        \n",
    "        features[i*batch_size_:(i+1)*batch_size_] = base_features\n",
    "        labels[i*batch_size_ : (i+1)*batch_size_] = batch_label\n",
    "        \n",
    "        i = i+1\n",
    "        \n",
    "        if (i%100 == 0):\n",
    "            print (i*batch_size)\n",
    "        \n",
    "        if (i*batch_size_) >= no_of_data_points:\n",
    "            break;\n",
    "            \n",
    "    return (features, labels)\n",
    "        "
   ]
  },
  {
   "cell_type": "code",
   "execution_count": null,
   "metadata": {},
   "outputs": [
    {
     "name": "stdout",
     "output_type": "stream",
     "text": [
      "Found 4000 images belonging to 2 classes.\n"
     ]
    }
   ],
   "source": [
    "train_features, train_labels = extract_features(train_dir, 2000)\n",
    "validation_features, validation_labels = extract_features(validation_dir, 1000)\n",
    "test_features, test_labels = extract_features(test_dir, 1000)"
   ]
  },
  {
   "cell_type": "code",
   "execution_count": null,
   "metadata": {},
   "outputs": [],
   "source": [
    "print(train_features.shape)\n",
    "print(train_labels.shape)\n",
    "\n",
    "print(validation_features.shape)\n",
    "print(validation_labels.shape)\n",
    "\n",
    "print(test_features.shape)\n",
    "print(test_labels.shape)"
   ]
  },
  {
   "cell_type": "code",
   "execution_count": null,
   "metadata": {},
   "outputs": [],
   "source": [
    "# flatten out the feature sets\n",
    "\n",
    "train_features = np.reshape(train_features, (2000, -1))\n",
    "validation_features = np.reshape(validation_features, (1000, -1))\n",
    "test_features = np.reshape(test_features, (1000, -1))"
   ]
  },
  {
   "cell_type": "code",
   "execution_count": null,
   "metadata": {},
   "outputs": [],
   "source": [
    "print(train_features.shape)\n",
    "\n",
    "print(validation_features.shape)\n",
    "\n",
    "print(test_features.shape)"
   ]
  },
  {
   "cell_type": "markdown",
   "metadata": {},
   "source": [
    "### Simple feed forward"
   ]
  },
  {
   "cell_type": "code",
   "execution_count": null,
   "metadata": {},
   "outputs": [],
   "source": [
    "from keras import models\n",
    "from keras import layers\n",
    "from keras import optimizers"
   ]
  },
  {
   "cell_type": "code",
   "execution_count": null,
   "metadata": {},
   "outputs": [],
   "source": [
    "model = models.Sequential()\n",
    "\n",
    "model.add(layers.Dense(256, activation='relu', input_shape=(4 * 4 * 512,)))\n",
    "model.add(layers.Dropout(0.5))\n",
    "model.add(layers.Dense(1, activation='sigmoid'))"
   ]
  },
  {
   "cell_type": "code",
   "execution_count": null,
   "metadata": {},
   "outputs": [],
   "source": [
    "model.compile(optimizer='adam', loss='binary_crossentropy', metrics=['acc'])"
   ]
  },
  {
   "cell_type": "code",
   "execution_count": null,
   "metadata": {},
   "outputs": [],
   "source": [
    "history = model.fit(train_features, train_labels,\n",
    "                    epochs=3,\n",
    "                    batch_size=20,\n",
    "                    validation_data=(validation_features, validation_labels))"
   ]
  },
  {
   "cell_type": "code",
   "execution_count": null,
   "metadata": {},
   "outputs": [],
   "source": [
    "import matplotlib.pyplot as plt\n",
    "\n",
    "acc = history.history['acc']\n",
    "val_acc = history.history['val_acc']\n",
    "loss = history.history['loss']\n",
    "val_loss = history.history['val_loss']\n",
    "\n",
    "epochs = range(1, len(acc) + 1)\n",
    "plt.plot(epochs, acc, 'bo', label='Training acc')\n",
    "plt.plot(epochs, val_acc, 'b', label='Validation acc')\n",
    "plt.title('Training and validation accuracy')\n",
    "plt.legend()\n",
    "\n",
    "plt.figure()\n",
    "plt.plot(epochs, loss, 'bo', label='Training loss')\n",
    "plt.plot(epochs, val_loss, 'b', label='Validation loss')\n",
    "plt.title('Training and validation loss')\n",
    "plt.legend()\n",
    "    \n",
    "plt.show()"
   ]
  },
  {
   "cell_type": "code",
   "execution_count": null,
   "metadata": {},
   "outputs": [],
   "source": []
  }
 ],
 "metadata": {
  "kernelspec": {
   "display_name": "Python 2",
   "language": "python",
   "name": "python2"
  },
  "language_info": {
   "codemirror_mode": {
    "name": "ipython",
    "version": 2
   },
   "file_extension": ".py",
   "mimetype": "text/x-python",
   "name": "python",
   "nbconvert_exporter": "python",
   "pygments_lexer": "ipython2",
   "version": "2.7.15"
  }
 },
 "nbformat": 4,
 "nbformat_minor": 2
}
