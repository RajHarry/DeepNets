{
 "cells": [
  {
   "cell_type": "code",
   "execution_count": 1,
   "metadata": {},
   "outputs": [],
   "source": [
    "# Config the matlotlib backend as plotting inline in IPython\n",
    "%matplotlib inline\n",
    "%load_ext autoreload\n",
    "%autoreload 2"
   ]
  },
  {
   "cell_type": "code",
   "execution_count": null,
   "metadata": {},
   "outputs": [],
   "source": [
    "# start afresh\n",
    "# book TF ML cookbook by Nick McClure"
   ]
  },
  {
   "cell_type": "code",
   "execution_count": 1,
   "metadata": {},
   "outputs": [],
   "source": [
    "import tensorflow as tf\n",
    "import numpy as np"
   ]
  },
  {
   "cell_type": "code",
   "execution_count": 5,
   "metadata": {},
   "outputs": [
    {
     "name": "stdout",
     "output_type": "stream",
     "text": [
      "6.0\n",
      "9.0\n",
      "12.0\n"
     ]
    }
   ],
   "source": [
    "x_vals = np.array([2,3,4])\n",
    "x_data = tf.placeholder(tf.float32)\n",
    "m_const = tf.constant(3.0)\n",
    "\n",
    "my_product = tf.multiply(x_data, m_const)\n",
    "\n",
    "sess = tf.Session()\n",
    "\n",
    "for val in x_vals:\n",
    "    print(sess.run(my_product, feed_dict={x_data:val}))"
   ]
  },
  {
   "cell_type": "code",
   "execution_count": 22,
   "metadata": {},
   "outputs": [
    {
     "name": "stdout",
     "output_type": "stream",
     "text": [
      "(3, 5)\n",
      "(5, 1)\n",
      "(3, 1)\n",
      "(3, 1)\n",
      "(1, 1)\n",
      "(3, 1)\n",
      "(3, 1)\n",
      "(1, 1)\n",
      "(3, 1)\n"
     ]
    }
   ],
   "source": [
    "my_array = np.array([[1.,3.,5.,7.,9.],[-2.,0.,2.,4.,6.],[-6.,-3.,0.,3.,6.]])\n",
    "\n",
    "x_vals = np.array([my_array, my_array+1])\n",
    "\n",
    "x_data = tf.placeholder(tf.float32, shape=(3,5))\n",
    "\n",
    "m1 = tf.constant([[1.], [0.], [-1.], [2.], [4.]])\n",
    "m2 = tf.constant([[2.]])\n",
    "a1 = tf.constant([[10.]])\n",
    "\n",
    "print(x_data.shape)\n",
    "print(m1.shape)\n",
    "prod1 = tf.matmul(x_data, m1)\n",
    "print(prod1.shape)\n",
    "\n",
    "prod2 = tf.matmul(prod1, m2)\n",
    "print(prod1.shape)\n",
    "print(m2.shape)\n",
    "print(prod2.shape)\n",
    "\n",
    "add1 = tf.add(prod2, a1)\n",
    "print(prod2.shape)\n",
    "print(a1.shape)\n",
    "print(add1.shape)\n",
    "\n",
    "\n"
   ]
  },
  {
   "cell_type": "code",
   "execution_count": 23,
   "metadata": {},
   "outputs": [
    {
     "name": "stdout",
     "output_type": "stream",
     "text": [
      "(2, 3, 5)\n",
      "[[102.]\n",
      " [ 66.]\n",
      " [ 58.]]\n",
      "[[114.]\n",
      " [ 78.]\n",
      " [ 70.]]\n"
     ]
    }
   ],
   "source": [
    "print x_vals.shape\n",
    "\n",
    "for x_val in x_vals:\n",
    "    print(sess.run(add1, feed_dict={x_data:x_val}))"
   ]
  },
  {
   "cell_type": "code",
   "execution_count": null,
   "metadata": {},
   "outputs": [],
   "source": [
    "x_data = tf.placeholder(tf.float32, shape=(3, None))"
   ]
  },
  {
   "cell_type": "code",
   "execution_count": null,
   "metadata": {},
   "outputs": [],
   "source": []
  },
  {
   "cell_type": "code",
   "execution_count": 24,
   "metadata": {},
   "outputs": [],
   "source": [
    "import tensorflow as tf\n",
    "import numpy as np\n",
    "\n",
    "sess = tf.Session()\n",
    "\n",
    "x_shape = [1,4,4,1]\n",
    "\n",
    "x_val = np.random.uniform(size=x_shape)\n",
    "\n",
    "x_data = tf.placeholder(tf.float32, shape=x_shape)\n",
    "\n",
    "\n"
   ]
  },
  {
   "cell_type": "code",
   "execution_count": 25,
   "metadata": {},
   "outputs": [],
   "source": [
    "my_filter = tf.constant(0.25, shape=[2,2,1,1])\n",
    "my_strides = [1,2,2,1]"
   ]
  },
  {
   "cell_type": "code",
   "execution_count": 28,
   "metadata": {},
   "outputs": [
    {
     "data": {
      "text/plain": [
       "TensorShape([Dimension(1), Dimension(2), Dimension(2), Dimension(1)])"
      ]
     },
     "execution_count": 28,
     "metadata": {},
     "output_type": "execute_result"
    }
   ],
   "source": [
    "# Given an input tensor of shape [batch, in_height, in_width, in_channels] and a filter / kernel tensor of \n",
    "# shape [filter_height, filter_width, in_channels, out_channels], this op performs the following:\n",
    "\n",
    "#Flattens the filter to a 2-D matrix with shape [filter_height * filter_width * in_channels, output_channels].\n",
    "#Extracts image patches from the input tensor to form a virtual tensor of shape [batch, out_height, out_width, filter_height * filter_width * in_channels].\n",
    "#For each patch, right-multiplies the filter matrix and the image patch vector.\n",
    "\n",
    "mov_avg_layer = tf.nn.conv2d(x_data, my_filter, my_strides, padding = 'SAME', name='moving_avg_window')\n",
    "\n",
    "mov_avg_layer.shape"
   ]
  },
  {
   "cell_type": "code",
   "execution_count": 29,
   "metadata": {},
   "outputs": [],
   "source": [
    "def custom_layer(input_matrix):\n",
    "    input_matrix_squeezed = tf.squeeze(input_matrix)\n",
    "    A = tf.constant([[1.,2.], [-1.,3.]])\n",
    "    b = tf.constant(1., shape=[2,2])\n",
    "    \n",
    "    temp1 = tf.matmul(A, input_matrix_squeezed)\n",
    "    temp = tf.add(temp1,b)\n",
    "    \n",
    "    return(tf.sigmoid(temp))"
   ]
  },
  {
   "cell_type": "code",
   "execution_count": null,
   "metadata": {},
   "outputs": [],
   "source": []
  },
  {
   "cell_type": "code",
   "execution_count": 30,
   "metadata": {},
   "outputs": [],
   "source": [
    "with tf.name_scope('Custom_Layer') as scope:\n",
    "    custom_layer1 = custom_layer(mov_avg_layer)\n",
    "    "
   ]
  },
  {
   "cell_type": "code",
   "execution_count": 31,
   "metadata": {},
   "outputs": [
    {
     "name": "stdout",
     "output_type": "stream",
     "text": [
      "[[0.8951406  0.8800743 ]\n",
      " [0.87575036 0.785013  ]]\n"
     ]
    }
   ],
   "source": [
    "print(sess.run(custom_layer1, feed_dict={x_data:x_val}))"
   ]
  },
  {
   "cell_type": "code",
   "execution_count": null,
   "metadata": {},
   "outputs": [],
   "source": []
  }
 ],
 "metadata": {
  "kernelspec": {
   "display_name": "Python 3",
   "language": "python",
   "name": "python3"
  },
  "language_info": {
   "codemirror_mode": {
    "name": "ipython",
    "version": 3
   },
   "file_extension": ".py",
   "mimetype": "text/x-python",
   "name": "python",
   "nbconvert_exporter": "python",
   "pygments_lexer": "ipython3",
   "version": "3.5.4"
  }
 },
 "nbformat": 4,
 "nbformat_minor": 2
}
